{
  "nbformat": 4,
  "nbformat_minor": 0,
  "metadata": {
    "colab": {
      "name": "Customer_churn_prediction_ecommerce.ipynb",
      "provenance": [],
      "collapsed_sections": [],
      "mount_file_id": "1FAYiT0-8MF0_auI56tpoJafIvzYnvIdT",
      "authorship_tag": "ABX9TyOrlH3byvE5S1FavTpd4gvD",
      "include_colab_link": true
    },
    "kernelspec": {
      "name": "python3",
      "display_name": "Python 3"
    },
    "language_info": {
      "name": "python"
    }
  },
  "cells": [
    {
      "cell_type": "markdown",
      "metadata": {
        "id": "view-in-github",
        "colab_type": "text"
      },
      "source": [
        "<a href=\"https://colab.research.google.com/github/vijaylokith/Customer-Churn-Prediction/blob/main/Customer_churn_prediction_ecommerce.ipynb\" target=\"_parent\"><img src=\"https://colab.research.google.com/assets/colab-badge.svg\" alt=\"Open In Colab\"/></a>"
      ]
    },
    {
      "cell_type": "markdown",
      "source": [
        "# ***Customer Churn Prediction : E - Commerce*** "
      ],
      "metadata": {
        "id": "GyPZ0dM3KWSJ"
      }
    },
    {
      "cell_type": "markdown",
      "source": [
        "![customer_churn_image.webp](data:image/webp;base64,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)"
      ],
      "metadata": {
        "id": "QyShMJmIHGFJ"
      }
    },
    {
      "cell_type": "markdown",
      "source": [
        "## **1) Business Problem Statement**"
      ],
      "metadata": {
        "id": "5TgyUvzxKyhi"
      }
    },
    {
      "cell_type": "markdown",
      "source": [
        "### **1.1) Introduction**\n",
        "\n",
        "\n",
        "> When customers or subscribers stop doing business with a company or service, it is known as customer churn.\n",
        "\n",
        "\n",
        "> In e-commerce, customers have a range of service providers to pick from and can actively switch between them.\n",
        "In this fiercely competitive sector, the e-commerce industry has an annual churn rate of 3.35 percent to 12.71 percent.\n",
        "\n",
        "> Although it is very hard to keep track of every individual, if businesses can identify the consumers who may leave, they may concentrate their marketing efforts on them, which will have a significant positive effect on their bottom line.\n",
        "\n",
        "> Hence the problem of customer churn prediction becomes an integral part of a business development\n"
      ],
      "metadata": {
        "id": "rukHoqKhK7ed"
      }
    },
    {
      "cell_type": "markdown",
      "source": [
        "## **2) Business Objective & Constrains**"
      ],
      "metadata": {
        "id": "1cQ609_wLBUu"
      }
    },
    {
      "cell_type": "markdown",
      "source": [
        "### **2.1) Problem  Statement**"
      ],
      "metadata": {
        "id": "vjassrhLOFax"
      }
    },
    {
      "cell_type": "markdown",
      "source": [
        "\n",
        "\n",
        "> We are tasked to build a model to predict customer churn.\n",
        "\n"
      ],
      "metadata": {
        "id": "oLtT8tEgOPgW"
      }
    },
    {
      "cell_type": "markdown",
      "source": [
        "### **2.2) Business Constrains**"
      ],
      "metadata": {
        "id": "SQY_9H_uOtLL"
      }
    },
    {
      "cell_type": "markdown",
      "source": [
        "> Low Latency Requirment (Low)\n",
        "\n",
        "> Cost of Mis-classification (Medium - High)\n",
        "\n",
        "> Interpretability (Medium - High)"
      ],
      "metadata": {
        "id": "5vSCpSCeOzKw"
      }
    },
    {
      "cell_type": "markdown",
      "source": [
        "## **3) Mapping a Real World to a Machine Learning Problem**"
      ],
      "metadata": {
        "id": "v1aXAl2AQtcc"
      }
    },
    {
      "cell_type": "markdown",
      "source": [
        "### **3.1) Type of Machine Learning Problem**"
      ],
      "metadata": {
        "id": "EMp3ms3XRLKZ"
      }
    },
    {
      "cell_type": "markdown",
      "source": [
        "> This is a Binary Classification Problem (churn or not churn)."
      ],
      "metadata": {
        "id": "timxaKkrR0sy"
      }
    },
    {
      "cell_type": "markdown",
      "source": [
        "### **3.2) Performance Metric**"
      ],
      "metadata": {
        "id": "bRzEQ376R9dG"
      }
    },
    {
      "cell_type": "markdown",
      "source": [
        "> Log-Loss (KPI - Key Performance Indicator)**\n",
        "\n",
        "> Confusion Matrix (Secondary Mertic - to understand our model behaviour)*\n",
        "\n",
        "> Percentage of Mis-classified Points (1-Accuracy)"
      ],
      "metadata": {
        "id": "rfGtpI-nSBrE"
      }
    },
    {
      "cell_type": "markdown",
      "source": [
        "## **4) Data Loading**"
      ],
      "metadata": {
        "id": "mWYdrilOSd_f"
      }
    },
    {
      "cell_type": "markdown",
      "source": [
        "### **4.1) Importing the Necessary Libraries**"
      ],
      "metadata": {
        "id": "zUkv0mptSyu2"
      }
    },
    {
      "cell_type": "code",
      "source": [
        "import warnings\n",
        "warnings.filterwarnings(\"ignore\")"
      ],
      "metadata": {
        "id": "8OA4jl33dyOB"
      },
      "execution_count": null,
      "outputs": []
    },
    {
      "cell_type": "code",
      "source": [
        "import numpy as np\n",
        "import pandas as pd\n",
        "import matplotlib.pyplot as plt\n",
        "import seaborn as sns\n",
        "%matplotlib inline"
      ],
      "metadata": {
        "id": "VNrql8DFS99G"
      },
      "execution_count": null,
      "outputs": []
    },
    {
      "cell_type": "code",
      "source": [
        "from sklearn.neighbors import KNeighborsRegressor\n",
        "from sklearn.model_selection import train_test_split\n",
        "from sklearn.metrics import log_loss\n",
        "from sklearn.feature_selection import f_classif, SelectKBest, chi2\n",
        "from sklearn.preprocessing import LabelEncoder\n",
        "from sklearn.linear_model import SGDClassifier\n",
        "from sklearn.preprocessing import StandardScaler\n",
        "from sklearn.feature_extraction.text import CountVectorizer"
      ],
      "metadata": {
        "id": "a4NaaRHbubw7"
      },
      "execution_count": null,
      "outputs": []
    },
    {
      "cell_type": "markdown",
      "source": [
        "### **4.2) Reading the Data**"
      ],
      "metadata": {
        "id": "eAoa00vfTQZg"
      }
    },
    {
      "cell_type": "code",
      "source": [
        "df = pd.read_excel(\"/content/drive/MyDrive/Colab Notebooks/Customer churn prediction : E - Commerce/E Commerce dataframe.xlsx\")\n",
        "print(df.shape)\n",
        "df.head()"
      ],
      "metadata": {
        "colab": {
          "base_uri": "https://localhost:8080/",
          "height": 322
        },
        "id": "lVQH78ufTVdM",
        "outputId": "2f2d6f70-fe54-4d77-caa4-9158cb17f2a3"
      },
      "execution_count": null,
      "outputs": [
        {
          "output_type": "stream",
          "name": "stdout",
          "text": [
            "(5630, 20)\n"
          ]
        },
        {
          "output_type": "execute_result",
          "data": {
            "text/plain": [
              "   CustomerID  Churn  Tenure PreferredLoginDevice  CityTier  WarehouseToHome  \\\n",
              "0       50001      1     4.0         Mobile Phone         3              6.0   \n",
              "1       50002      1     NaN                Phone         1              8.0   \n",
              "2       50003      1     NaN                Phone         1             30.0   \n",
              "3       50004      1     0.0                Phone         3             15.0   \n",
              "4       50005      1     0.0                Phone         1             12.0   \n",
              "\n",
              "  PreferredPaymentMode  Gender  HourSpendOnApp  NumberOfDeviceRegistered  \\\n",
              "0           Debit Card  Female             3.0                         3   \n",
              "1                  UPI    Male             3.0                         4   \n",
              "2           Debit Card    Male             2.0                         4   \n",
              "3           Debit Card    Male             2.0                         4   \n",
              "4                   CC    Male             NaN                         3   \n",
              "\n",
              "     PreferedOrderCat  SatisfactionScore MaritalStatus  NumberOfAddress  \\\n",
              "0  Laptop & Accessory                  2        Single                9   \n",
              "1              Mobile                  3        Single                7   \n",
              "2              Mobile                  3        Single                6   \n",
              "3  Laptop & Accessory                  5        Single                8   \n",
              "4              Mobile                  5        Single                3   \n",
              "\n",
              "   Complain  OrderAmountHikeFromlastYear  CouponUsed  OrderCount  \\\n",
              "0         1                         11.0         1.0         1.0   \n",
              "1         1                         15.0         0.0         1.0   \n",
              "2         1                         14.0         0.0         1.0   \n",
              "3         0                         23.0         0.0         1.0   \n",
              "4         0                         11.0         1.0         1.0   \n",
              "\n",
              "   DaySinceLastOrder  CashbackAmount  \n",
              "0                5.0          159.93  \n",
              "1                0.0          120.90  \n",
              "2                3.0          120.28  \n",
              "3                3.0          134.07  \n",
              "4                3.0          129.60  "
            ],
            "text/html": [
              "\n",
              "  <div id=\"df-3be909bd-dadd-4b5f-b6d4-f294a67bde04\">\n",
              "    <div class=\"colab-df-container\">\n",
              "      <div>\n",
              "<style scoped>\n",
              "    .dataframe tbody tr th:only-of-type {\n",
              "        vertical-align: middle;\n",
              "    }\n",
              "\n",
              "    .dataframe tbody tr th {\n",
              "        vertical-align: top;\n",
              "    }\n",
              "\n",
              "    .dataframe thead th {\n",
              "        text-align: right;\n",
              "    }\n",
              "</style>\n",
              "<table border=\"1\" class=\"dataframe\">\n",
              "  <thead>\n",
              "    <tr style=\"text-align: right;\">\n",
              "      <th></th>\n",
              "      <th>CustomerID</th>\n",
              "      <th>Churn</th>\n",
              "      <th>Tenure</th>\n",
              "      <th>PreferredLoginDevice</th>\n",
              "      <th>CityTier</th>\n",
              "      <th>WarehouseToHome</th>\n",
              "      <th>PreferredPaymentMode</th>\n",
              "      <th>Gender</th>\n",
              "      <th>HourSpendOnApp</th>\n",
              "      <th>NumberOfDeviceRegistered</th>\n",
              "      <th>PreferedOrderCat</th>\n",
              "      <th>SatisfactionScore</th>\n",
              "      <th>MaritalStatus</th>\n",
              "      <th>NumberOfAddress</th>\n",
              "      <th>Complain</th>\n",
              "      <th>OrderAmountHikeFromlastYear</th>\n",
              "      <th>CouponUsed</th>\n",
              "      <th>OrderCount</th>\n",
              "      <th>DaySinceLastOrder</th>\n",
              "      <th>CashbackAmount</th>\n",
              "    </tr>\n",
              "  </thead>\n",
              "  <tbody>\n",
              "    <tr>\n",
              "      <th>0</th>\n",
              "      <td>50001</td>\n",
              "      <td>1</td>\n",
              "      <td>4.0</td>\n",
              "      <td>Mobile Phone</td>\n",
              "      <td>3</td>\n",
              "      <td>6.0</td>\n",
              "      <td>Debit Card</td>\n",
              "      <td>Female</td>\n",
              "      <td>3.0</td>\n",
              "      <td>3</td>\n",
              "      <td>Laptop &amp; Accessory</td>\n",
              "      <td>2</td>\n",
              "      <td>Single</td>\n",
              "      <td>9</td>\n",
              "      <td>1</td>\n",
              "      <td>11.0</td>\n",
              "      <td>1.0</td>\n",
              "      <td>1.0</td>\n",
              "      <td>5.0</td>\n",
              "      <td>159.93</td>\n",
              "    </tr>\n",
              "    <tr>\n",
              "      <th>1</th>\n",
              "      <td>50002</td>\n",
              "      <td>1</td>\n",
              "      <td>NaN</td>\n",
              "      <td>Phone</td>\n",
              "      <td>1</td>\n",
              "      <td>8.0</td>\n",
              "      <td>UPI</td>\n",
              "      <td>Male</td>\n",
              "      <td>3.0</td>\n",
              "      <td>4</td>\n",
              "      <td>Mobile</td>\n",
              "      <td>3</td>\n",
              "      <td>Single</td>\n",
              "      <td>7</td>\n",
              "      <td>1</td>\n",
              "      <td>15.0</td>\n",
              "      <td>0.0</td>\n",
              "      <td>1.0</td>\n",
              "      <td>0.0</td>\n",
              "      <td>120.90</td>\n",
              "    </tr>\n",
              "    <tr>\n",
              "      <th>2</th>\n",
              "      <td>50003</td>\n",
              "      <td>1</td>\n",
              "      <td>NaN</td>\n",
              "      <td>Phone</td>\n",
              "      <td>1</td>\n",
              "      <td>30.0</td>\n",
              "      <td>Debit Card</td>\n",
              "      <td>Male</td>\n",
              "      <td>2.0</td>\n",
              "      <td>4</td>\n",
              "      <td>Mobile</td>\n",
              "      <td>3</td>\n",
              "      <td>Single</td>\n",
              "      <td>6</td>\n",
              "      <td>1</td>\n",
              "      <td>14.0</td>\n",
              "      <td>0.0</td>\n",
              "      <td>1.0</td>\n",
              "      <td>3.0</td>\n",
              "      <td>120.28</td>\n",
              "    </tr>\n",
              "    <tr>\n",
              "      <th>3</th>\n",
              "      <td>50004</td>\n",
              "      <td>1</td>\n",
              "      <td>0.0</td>\n",
              "      <td>Phone</td>\n",
              "      <td>3</td>\n",
              "      <td>15.0</td>\n",
              "      <td>Debit Card</td>\n",
              "      <td>Male</td>\n",
              "      <td>2.0</td>\n",
              "      <td>4</td>\n",
              "      <td>Laptop &amp; Accessory</td>\n",
              "      <td>5</td>\n",
              "      <td>Single</td>\n",
              "      <td>8</td>\n",
              "      <td>0</td>\n",
              "      <td>23.0</td>\n",
              "      <td>0.0</td>\n",
              "      <td>1.0</td>\n",
              "      <td>3.0</td>\n",
              "      <td>134.07</td>\n",
              "    </tr>\n",
              "    <tr>\n",
              "      <th>4</th>\n",
              "      <td>50005</td>\n",
              "      <td>1</td>\n",
              "      <td>0.0</td>\n",
              "      <td>Phone</td>\n",
              "      <td>1</td>\n",
              "      <td>12.0</td>\n",
              "      <td>CC</td>\n",
              "      <td>Male</td>\n",
              "      <td>NaN</td>\n",
              "      <td>3</td>\n",
              "      <td>Mobile</td>\n",
              "      <td>5</td>\n",
              "      <td>Single</td>\n",
              "      <td>3</td>\n",
              "      <td>0</td>\n",
              "      <td>11.0</td>\n",
              "      <td>1.0</td>\n",
              "      <td>1.0</td>\n",
              "      <td>3.0</td>\n",
              "      <td>129.60</td>\n",
              "    </tr>\n",
              "  </tbody>\n",
              "</table>\n",
              "</div>\n",
              "      <button class=\"colab-df-convert\" onclick=\"convertToInteractive('df-3be909bd-dadd-4b5f-b6d4-f294a67bde04')\"\n",
              "              title=\"Convert this dataframe to an interactive table.\"\n",
              "              style=\"display:none;\">\n",
              "        \n",
              "  <svg xmlns=\"http://www.w3.org/2000/svg\" height=\"24px\"viewBox=\"0 0 24 24\"\n",
              "       width=\"24px\">\n",
              "    <path d=\"M0 0h24v24H0V0z\" fill=\"none\"/>\n",
              "    <path d=\"M18.56 5.44l.94 2.06.94-2.06 2.06-.94-2.06-.94-.94-2.06-.94 2.06-2.06.94zm-11 1L8.5 8.5l.94-2.06 2.06-.94-2.06-.94L8.5 2.5l-.94 2.06-2.06.94zm10 10l.94 2.06.94-2.06 2.06-.94-2.06-.94-.94-2.06-.94 2.06-2.06.94z\"/><path d=\"M17.41 7.96l-1.37-1.37c-.4-.4-.92-.59-1.43-.59-.52 0-1.04.2-1.43.59L10.3 9.45l-7.72 7.72c-.78.78-.78 2.05 0 2.83L4 21.41c.39.39.9.59 1.41.59.51 0 1.02-.2 1.41-.59l7.78-7.78 2.81-2.81c.8-.78.8-2.07 0-2.86zM5.41 20L4 18.59l7.72-7.72 1.47 1.35L5.41 20z\"/>\n",
              "  </svg>\n",
              "      </button>\n",
              "      \n",
              "  <style>\n",
              "    .colab-df-container {\n",
              "      display:flex;\n",
              "      flex-wrap:wrap;\n",
              "      gap: 12px;\n",
              "    }\n",
              "\n",
              "    .colab-df-convert {\n",
              "      background-color: #E8F0FE;\n",
              "      border: none;\n",
              "      border-radius: 50%;\n",
              "      cursor: pointer;\n",
              "      display: none;\n",
              "      fill: #1967D2;\n",
              "      height: 32px;\n",
              "      padding: 0 0 0 0;\n",
              "      width: 32px;\n",
              "    }\n",
              "\n",
              "    .colab-df-convert:hover {\n",
              "      background-color: #E2EBFA;\n",
              "      box-shadow: 0px 1px 2px rgba(60, 64, 67, 0.3), 0px 1px 3px 1px rgba(60, 64, 67, 0.15);\n",
              "      fill: #174EA6;\n",
              "    }\n",
              "\n",
              "    [theme=dark] .colab-df-convert {\n",
              "      background-color: #3B4455;\n",
              "      fill: #D2E3FC;\n",
              "    }\n",
              "\n",
              "    [theme=dark] .colab-df-convert:hover {\n",
              "      background-color: #434B5C;\n",
              "      box-shadow: 0px 1px 3px 1px rgba(0, 0, 0, 0.15);\n",
              "      filter: drop-shadow(0px 1px 2px rgba(0, 0, 0, 0.3));\n",
              "      fill: #FFFFFF;\n",
              "    }\n",
              "  </style>\n",
              "\n",
              "      <script>\n",
              "        const buttonEl =\n",
              "          document.querySelector('#df-3be909bd-dadd-4b5f-b6d4-f294a67bde04 button.colab-df-convert');\n",
              "        buttonEl.style.display =\n",
              "          google.colab.kernel.accessAllowed ? 'block' : 'none';\n",
              "\n",
              "        async function convertToInteractive(key) {\n",
              "          const element = document.querySelector('#df-3be909bd-dadd-4b5f-b6d4-f294a67bde04');\n",
              "          const dataTable =\n",
              "            await google.colab.kernel.invokeFunction('convertToInteractive',\n",
              "                                                     [key], {});\n",
              "          if (!dataTable) return;\n",
              "\n",
              "          const docLinkHtml = 'Like what you see? Visit the ' +\n",
              "            '<a target=\"_blank\" href=https://colab.research.google.com/notebooks/data_table.ipynb>data table notebook</a>'\n",
              "            + ' to learn more about interactive tables.';\n",
              "          element.innerHTML = '';\n",
              "          dataTable['output_type'] = 'display_data';\n",
              "          await google.colab.output.renderOutput(dataTable, element);\n",
              "          const docLink = document.createElement('div');\n",
              "          docLink.innerHTML = docLinkHtml;\n",
              "          element.appendChild(docLink);\n",
              "        }\n",
              "      </script>\n",
              "    </div>\n",
              "  </div>\n",
              "  "
            ]
          },
          "metadata": {},
          "execution_count": 232
        }
      ]
    },
    {
      "cell_type": "markdown",
      "source": [
        "We can clearly see some features(Tenure) have NaN(not a number == NULL) value, we can treat it in the next step(data cleaning)"
      ],
      "metadata": {
        "id": "IWf0j7pRUWnx"
      }
    },
    {
      "cell_type": "code",
      "source": [
        "feature_description = pd.read_excel(\"/content/drive/MyDrive/Colab Notebooks/Customer churn prediction : E - Commerce/feature description.xlsx\",header=1)\n",
        "feature_description.drop(\"Unnamed: 0\",axis=1)"
      ],
      "metadata": {
        "colab": {
          "base_uri": "https://localhost:8080/",
          "height": 677
        },
        "id": "uSvaMuWUUxir",
        "outputId": "eb9aac24-684f-4769-caa5-ab12de95e29d"
      },
      "execution_count": null,
      "outputs": [
        {
          "output_type": "execute_result",
          "data": {
            "text/plain": [
              "      Data                     Variable  \\\n",
              "0   E Comm                   CustomerID   \n",
              "1   E Comm                        Churn   \n",
              "2   E Comm                       Tenure   \n",
              "3   E Comm         PreferredLoginDevice   \n",
              "4   E Comm                     CityTier   \n",
              "5   E Comm              WarehouseToHome   \n",
              "6   E Comm         PreferredPaymentMode   \n",
              "7   E Comm                       Gender   \n",
              "8   E Comm               HourSpendOnApp   \n",
              "9   E Comm     NumberOfDeviceRegistered   \n",
              "10  E Comm             PreferedOrderCat   \n",
              "11  E Comm            SatisfactionScore   \n",
              "12  E Comm                MaritalStatus   \n",
              "13  E Comm              NumberOfAddress   \n",
              "14  E Comm                     Complain   \n",
              "15  E Comm  OrderAmountHikeFromlastYear   \n",
              "16  E Comm                   CouponUsed   \n",
              "17  E Comm                   OrderCount   \n",
              "18  E Comm            DaySinceLastOrder   \n",
              "19  E Comm               CashbackAmount   \n",
              "\n",
              "                                          Discerption  \n",
              "0                                  Unique customer ID  \n",
              "1                                          Churn Flag  \n",
              "2                  Tenure of customer in organization  \n",
              "3                  Preferred login device of customer  \n",
              "4                                           City tier  \n",
              "5   Distance in between warehouse to home of customer  \n",
              "6                Preferred payment method of customer  \n",
              "7                                  Gender of customer  \n",
              "8   Number of hours spend on mobile application or...  \n",
              "9   Total number of deceives is registered on part...  \n",
              "10  Preferred order category of customer in last m...  \n",
              "11          Satisfactory score of customer on service  \n",
              "12                         Marital status of customer  \n",
              "13  Total number of added added on particular cust...  \n",
              "14        Any complaint has been raised in last month  \n",
              "15       Percentage increases in order from last year  \n",
              "16  Total number of coupon has been used in last m...  \n",
              "17  Total number of orders has been places in last...  \n",
              "18                   Day Since last order by customer  \n",
              "19                     Average cashback in last month  "
            ],
            "text/html": [
              "\n",
              "  <div id=\"df-9d66c99a-5146-4e11-9c11-2953135f708c\">\n",
              "    <div class=\"colab-df-container\">\n",
              "      <div>\n",
              "<style scoped>\n",
              "    .dataframe tbody tr th:only-of-type {\n",
              "        vertical-align: middle;\n",
              "    }\n",
              "\n",
              "    .dataframe tbody tr th {\n",
              "        vertical-align: top;\n",
              "    }\n",
              "\n",
              "    .dataframe thead th {\n",
              "        text-align: right;\n",
              "    }\n",
              "</style>\n",
              "<table border=\"1\" class=\"dataframe\">\n",
              "  <thead>\n",
              "    <tr style=\"text-align: right;\">\n",
              "      <th></th>\n",
              "      <th>Data</th>\n",
              "      <th>Variable</th>\n",
              "      <th>Discerption</th>\n",
              "    </tr>\n",
              "  </thead>\n",
              "  <tbody>\n",
              "    <tr>\n",
              "      <th>0</th>\n",
              "      <td>E Comm</td>\n",
              "      <td>CustomerID</td>\n",
              "      <td>Unique customer ID</td>\n",
              "    </tr>\n",
              "    <tr>\n",
              "      <th>1</th>\n",
              "      <td>E Comm</td>\n",
              "      <td>Churn</td>\n",
              "      <td>Churn Flag</td>\n",
              "    </tr>\n",
              "    <tr>\n",
              "      <th>2</th>\n",
              "      <td>E Comm</td>\n",
              "      <td>Tenure</td>\n",
              "      <td>Tenure of customer in organization</td>\n",
              "    </tr>\n",
              "    <tr>\n",
              "      <th>3</th>\n",
              "      <td>E Comm</td>\n",
              "      <td>PreferredLoginDevice</td>\n",
              "      <td>Preferred login device of customer</td>\n",
              "    </tr>\n",
              "    <tr>\n",
              "      <th>4</th>\n",
              "      <td>E Comm</td>\n",
              "      <td>CityTier</td>\n",
              "      <td>City tier</td>\n",
              "    </tr>\n",
              "    <tr>\n",
              "      <th>5</th>\n",
              "      <td>E Comm</td>\n",
              "      <td>WarehouseToHome</td>\n",
              "      <td>Distance in between warehouse to home of customer</td>\n",
              "    </tr>\n",
              "    <tr>\n",
              "      <th>6</th>\n",
              "      <td>E Comm</td>\n",
              "      <td>PreferredPaymentMode</td>\n",
              "      <td>Preferred payment method of customer</td>\n",
              "    </tr>\n",
              "    <tr>\n",
              "      <th>7</th>\n",
              "      <td>E Comm</td>\n",
              "      <td>Gender</td>\n",
              "      <td>Gender of customer</td>\n",
              "    </tr>\n",
              "    <tr>\n",
              "      <th>8</th>\n",
              "      <td>E Comm</td>\n",
              "      <td>HourSpendOnApp</td>\n",
              "      <td>Number of hours spend on mobile application or...</td>\n",
              "    </tr>\n",
              "    <tr>\n",
              "      <th>9</th>\n",
              "      <td>E Comm</td>\n",
              "      <td>NumberOfDeviceRegistered</td>\n",
              "      <td>Total number of deceives is registered on part...</td>\n",
              "    </tr>\n",
              "    <tr>\n",
              "      <th>10</th>\n",
              "      <td>E Comm</td>\n",
              "      <td>PreferedOrderCat</td>\n",
              "      <td>Preferred order category of customer in last m...</td>\n",
              "    </tr>\n",
              "    <tr>\n",
              "      <th>11</th>\n",
              "      <td>E Comm</td>\n",
              "      <td>SatisfactionScore</td>\n",
              "      <td>Satisfactory score of customer on service</td>\n",
              "    </tr>\n",
              "    <tr>\n",
              "      <th>12</th>\n",
              "      <td>E Comm</td>\n",
              "      <td>MaritalStatus</td>\n",
              "      <td>Marital status of customer</td>\n",
              "    </tr>\n",
              "    <tr>\n",
              "      <th>13</th>\n",
              "      <td>E Comm</td>\n",
              "      <td>NumberOfAddress</td>\n",
              "      <td>Total number of added added on particular cust...</td>\n",
              "    </tr>\n",
              "    <tr>\n",
              "      <th>14</th>\n",
              "      <td>E Comm</td>\n",
              "      <td>Complain</td>\n",
              "      <td>Any complaint has been raised in last month</td>\n",
              "    </tr>\n",
              "    <tr>\n",
              "      <th>15</th>\n",
              "      <td>E Comm</td>\n",
              "      <td>OrderAmountHikeFromlastYear</td>\n",
              "      <td>Percentage increases in order from last year</td>\n",
              "    </tr>\n",
              "    <tr>\n",
              "      <th>16</th>\n",
              "      <td>E Comm</td>\n",
              "      <td>CouponUsed</td>\n",
              "      <td>Total number of coupon has been used in last m...</td>\n",
              "    </tr>\n",
              "    <tr>\n",
              "      <th>17</th>\n",
              "      <td>E Comm</td>\n",
              "      <td>OrderCount</td>\n",
              "      <td>Total number of orders has been places in last...</td>\n",
              "    </tr>\n",
              "    <tr>\n",
              "      <th>18</th>\n",
              "      <td>E Comm</td>\n",
              "      <td>DaySinceLastOrder</td>\n",
              "      <td>Day Since last order by customer</td>\n",
              "    </tr>\n",
              "    <tr>\n",
              "      <th>19</th>\n",
              "      <td>E Comm</td>\n",
              "      <td>CashbackAmount</td>\n",
              "      <td>Average cashback in last month</td>\n",
              "    </tr>\n",
              "  </tbody>\n",
              "</table>\n",
              "</div>\n",
              "      <button class=\"colab-df-convert\" onclick=\"convertToInteractive('df-9d66c99a-5146-4e11-9c11-2953135f708c')\"\n",
              "              title=\"Convert this dataframe to an interactive table.\"\n",
              "              style=\"display:none;\">\n",
              "        \n",
              "  <svg xmlns=\"http://www.w3.org/2000/svg\" height=\"24px\"viewBox=\"0 0 24 24\"\n",
              "       width=\"24px\">\n",
              "    <path d=\"M0 0h24v24H0V0z\" fill=\"none\"/>\n",
              "    <path d=\"M18.56 5.44l.94 2.06.94-2.06 2.06-.94-2.06-.94-.94-2.06-.94 2.06-2.06.94zm-11 1L8.5 8.5l.94-2.06 2.06-.94-2.06-.94L8.5 2.5l-.94 2.06-2.06.94zm10 10l.94 2.06.94-2.06 2.06-.94-2.06-.94-.94-2.06-.94 2.06-2.06.94z\"/><path d=\"M17.41 7.96l-1.37-1.37c-.4-.4-.92-.59-1.43-.59-.52 0-1.04.2-1.43.59L10.3 9.45l-7.72 7.72c-.78.78-.78 2.05 0 2.83L4 21.41c.39.39.9.59 1.41.59.51 0 1.02-.2 1.41-.59l7.78-7.78 2.81-2.81c.8-.78.8-2.07 0-2.86zM5.41 20L4 18.59l7.72-7.72 1.47 1.35L5.41 20z\"/>\n",
              "  </svg>\n",
              "      </button>\n",
              "      \n",
              "  <style>\n",
              "    .colab-df-container {\n",
              "      display:flex;\n",
              "      flex-wrap:wrap;\n",
              "      gap: 12px;\n",
              "    }\n",
              "\n",
              "    .colab-df-convert {\n",
              "      background-color: #E8F0FE;\n",
              "      border: none;\n",
              "      border-radius: 50%;\n",
              "      cursor: pointer;\n",
              "      display: none;\n",
              "      fill: #1967D2;\n",
              "      height: 32px;\n",
              "      padding: 0 0 0 0;\n",
              "      width: 32px;\n",
              "    }\n",
              "\n",
              "    .colab-df-convert:hover {\n",
              "      background-color: #E2EBFA;\n",
              "      box-shadow: 0px 1px 2px rgba(60, 64, 67, 0.3), 0px 1px 3px 1px rgba(60, 64, 67, 0.15);\n",
              "      fill: #174EA6;\n",
              "    }\n",
              "\n",
              "    [theme=dark] .colab-df-convert {\n",
              "      background-color: #3B4455;\n",
              "      fill: #D2E3FC;\n",
              "    }\n",
              "\n",
              "    [theme=dark] .colab-df-convert:hover {\n",
              "      background-color: #434B5C;\n",
              "      box-shadow: 0px 1px 3px 1px rgba(0, 0, 0, 0.15);\n",
              "      filter: drop-shadow(0px 1px 2px rgba(0, 0, 0, 0.3));\n",
              "      fill: #FFFFFF;\n",
              "    }\n",
              "  </style>\n",
              "\n",
              "      <script>\n",
              "        const buttonEl =\n",
              "          document.querySelector('#df-9d66c99a-5146-4e11-9c11-2953135f708c button.colab-df-convert');\n",
              "        buttonEl.style.display =\n",
              "          google.colab.kernel.accessAllowed ? 'block' : 'none';\n",
              "\n",
              "        async function convertToInteractive(key) {\n",
              "          const element = document.querySelector('#df-9d66c99a-5146-4e11-9c11-2953135f708c');\n",
              "          const dataTable =\n",
              "            await google.colab.kernel.invokeFunction('convertToInteractive',\n",
              "                                                     [key], {});\n",
              "          if (!dataTable) return;\n",
              "\n",
              "          const docLinkHtml = 'Like what you see? Visit the ' +\n",
              "            '<a target=\"_blank\" href=https://colab.research.google.com/notebooks/data_table.ipynb>data table notebook</a>'\n",
              "            + ' to learn more about interactive tables.';\n",
              "          element.innerHTML = '';\n",
              "          dataTable['output_type'] = 'display_data';\n",
              "          await google.colab.output.renderOutput(dataTable, element);\n",
              "          const docLink = document.createElement('div');\n",
              "          docLink.innerHTML = docLinkHtml;\n",
              "          element.appendChild(docLink);\n",
              "        }\n",
              "      </script>\n",
              "    </div>\n",
              "  </div>\n",
              "  "
            ]
          },
          "metadata": {},
          "execution_count": 233
        }
      ]
    },
    {
      "cell_type": "markdown",
      "source": [
        "## **5) Data Celaning**"
      ],
      "metadata": {
        "id": "FxoefLQVX4ka"
      }
    },
    {
      "cell_type": "code",
      "source": [
        "# Checking for duplicates in the data\n",
        "\n",
        "print(f\"Number of duplicate row's in the dataset: {df.duplicated().sum()}\")"
      ],
      "metadata": {
        "colab": {
          "base_uri": "https://localhost:8080/"
        },
        "id": "mJzzBjGkYB7L",
        "outputId": "57cf21dc-54f9-4c0e-8c99-6dc3913a6e5c"
      },
      "execution_count": null,
      "outputs": [
        {
          "output_type": "stream",
          "name": "stdout",
          "text": [
            "Number of duplicate row's in the dataset: 0\n"
          ]
        }
      ]
    },
    {
      "cell_type": "code",
      "source": [
        "# Checking for NULL values\n",
        "\n",
        "df.isnull().sum()"
      ],
      "metadata": {
        "colab": {
          "base_uri": "https://localhost:8080/"
        },
        "id": "wI7q9XF5Y4XY",
        "outputId": "2eb17aa6-d525-45e4-dc4f-a0de3719cfad"
      },
      "execution_count": null,
      "outputs": [
        {
          "output_type": "execute_result",
          "data": {
            "text/plain": [
              "CustomerID                       0\n",
              "Churn                            0\n",
              "Tenure                         264\n",
              "PreferredLoginDevice             0\n",
              "CityTier                         0\n",
              "WarehouseToHome                251\n",
              "PreferredPaymentMode             0\n",
              "Gender                           0\n",
              "HourSpendOnApp                 255\n",
              "NumberOfDeviceRegistered         0\n",
              "PreferedOrderCat                 0\n",
              "SatisfactionScore                0\n",
              "MaritalStatus                    0\n",
              "NumberOfAddress                  0\n",
              "Complain                         0\n",
              "OrderAmountHikeFromlastYear    265\n",
              "CouponUsed                     256\n",
              "OrderCount                     258\n",
              "DaySinceLastOrder              307\n",
              "CashbackAmount                   0\n",
              "dtype: int64"
            ]
          },
          "metadata": {},
          "execution_count": 235
        }
      ]
    },
    {
      "cell_type": "markdown",
      "source": [
        "We can clearly see that 7 out of 20 features have missing values."
      ],
      "metadata": {
        "id": "8pz24-CQZpMM"
      }
    },
    {
      "cell_type": "code",
      "source": [
        "missing_values = df.columns[df.isnull().any()].tolist()\n",
        "missing_values"
      ],
      "metadata": {
        "colab": {
          "base_uri": "https://localhost:8080/"
        },
        "id": "rNIAjHenZ1Ah",
        "outputId": "a6e19b1e-381e-4359-8f35-2171125a9e0e"
      },
      "execution_count": null,
      "outputs": [
        {
          "output_type": "execute_result",
          "data": {
            "text/plain": [
              "['Tenure',\n",
              " 'WarehouseToHome',\n",
              " 'HourSpendOnApp',\n",
              " 'OrderAmountHikeFromlastYear',\n",
              " 'CouponUsed',\n",
              " 'OrderCount',\n",
              " 'DaySinceLastOrder']"
            ]
          },
          "metadata": {},
          "execution_count": 236
        }
      ]
    },
    {
      "cell_type": "code",
      "source": [
        "df[missing_values].head(10)"
      ],
      "metadata": {
        "colab": {
          "base_uri": "https://localhost:8080/",
          "height": 363
        },
        "id": "0Aw40lsiiHp4",
        "outputId": "4c062379-4e54-4d83-e300-fedaf887761d"
      },
      "execution_count": null,
      "outputs": [
        {
          "output_type": "execute_result",
          "data": {
            "text/plain": [
              "   Tenure  WarehouseToHome  HourSpendOnApp  OrderAmountHikeFromlastYear  \\\n",
              "0     4.0              6.0             3.0                         11.0   \n",
              "1     NaN              8.0             3.0                         15.0   \n",
              "2     NaN             30.0             2.0                         14.0   \n",
              "3     0.0             15.0             2.0                         23.0   \n",
              "4     0.0             12.0             NaN                         11.0   \n",
              "5     0.0             22.0             3.0                         22.0   \n",
              "6     NaN             11.0             2.0                         14.0   \n",
              "7     NaN              6.0             3.0                         16.0   \n",
              "8    13.0              9.0             NaN                         14.0   \n",
              "9     NaN             31.0             2.0                         12.0   \n",
              "\n",
              "   CouponUsed  OrderCount  DaySinceLastOrder  \n",
              "0         1.0         1.0                5.0  \n",
              "1         0.0         1.0                0.0  \n",
              "2         0.0         1.0                3.0  \n",
              "3         0.0         1.0                3.0  \n",
              "4         1.0         1.0                3.0  \n",
              "5         4.0         6.0                7.0  \n",
              "6         0.0         1.0                0.0  \n",
              "7         2.0         2.0                0.0  \n",
              "8         0.0         1.0                2.0  \n",
              "9         1.0         1.0                1.0  "
            ],
            "text/html": [
              "\n",
              "  <div id=\"df-e06e83f1-d1bf-42ab-982c-3ab4bda46115\">\n",
              "    <div class=\"colab-df-container\">\n",
              "      <div>\n",
              "<style scoped>\n",
              "    .dataframe tbody tr th:only-of-type {\n",
              "        vertical-align: middle;\n",
              "    }\n",
              "\n",
              "    .dataframe tbody tr th {\n",
              "        vertical-align: top;\n",
              "    }\n",
              "\n",
              "    .dataframe thead th {\n",
              "        text-align: right;\n",
              "    }\n",
              "</style>\n",
              "<table border=\"1\" class=\"dataframe\">\n",
              "  <thead>\n",
              "    <tr style=\"text-align: right;\">\n",
              "      <th></th>\n",
              "      <th>Tenure</th>\n",
              "      <th>WarehouseToHome</th>\n",
              "      <th>HourSpendOnApp</th>\n",
              "      <th>OrderAmountHikeFromlastYear</th>\n",
              "      <th>CouponUsed</th>\n",
              "      <th>OrderCount</th>\n",
              "      <th>DaySinceLastOrder</th>\n",
              "    </tr>\n",
              "  </thead>\n",
              "  <tbody>\n",
              "    <tr>\n",
              "      <th>0</th>\n",
              "      <td>4.0</td>\n",
              "      <td>6.0</td>\n",
              "      <td>3.0</td>\n",
              "      <td>11.0</td>\n",
              "      <td>1.0</td>\n",
              "      <td>1.0</td>\n",
              "      <td>5.0</td>\n",
              "    </tr>\n",
              "    <tr>\n",
              "      <th>1</th>\n",
              "      <td>NaN</td>\n",
              "      <td>8.0</td>\n",
              "      <td>3.0</td>\n",
              "      <td>15.0</td>\n",
              "      <td>0.0</td>\n",
              "      <td>1.0</td>\n",
              "      <td>0.0</td>\n",
              "    </tr>\n",
              "    <tr>\n",
              "      <th>2</th>\n",
              "      <td>NaN</td>\n",
              "      <td>30.0</td>\n",
              "      <td>2.0</td>\n",
              "      <td>14.0</td>\n",
              "      <td>0.0</td>\n",
              "      <td>1.0</td>\n",
              "      <td>3.0</td>\n",
              "    </tr>\n",
              "    <tr>\n",
              "      <th>3</th>\n",
              "      <td>0.0</td>\n",
              "      <td>15.0</td>\n",
              "      <td>2.0</td>\n",
              "      <td>23.0</td>\n",
              "      <td>0.0</td>\n",
              "      <td>1.0</td>\n",
              "      <td>3.0</td>\n",
              "    </tr>\n",
              "    <tr>\n",
              "      <th>4</th>\n",
              "      <td>0.0</td>\n",
              "      <td>12.0</td>\n",
              "      <td>NaN</td>\n",
              "      <td>11.0</td>\n",
              "      <td>1.0</td>\n",
              "      <td>1.0</td>\n",
              "      <td>3.0</td>\n",
              "    </tr>\n",
              "    <tr>\n",
              "      <th>5</th>\n",
              "      <td>0.0</td>\n",
              "      <td>22.0</td>\n",
              "      <td>3.0</td>\n",
              "      <td>22.0</td>\n",
              "      <td>4.0</td>\n",
              "      <td>6.0</td>\n",
              "      <td>7.0</td>\n",
              "    </tr>\n",
              "    <tr>\n",
              "      <th>6</th>\n",
              "      <td>NaN</td>\n",
              "      <td>11.0</td>\n",
              "      <td>2.0</td>\n",
              "      <td>14.0</td>\n",
              "      <td>0.0</td>\n",
              "      <td>1.0</td>\n",
              "      <td>0.0</td>\n",
              "    </tr>\n",
              "    <tr>\n",
              "      <th>7</th>\n",
              "      <td>NaN</td>\n",
              "      <td>6.0</td>\n",
              "      <td>3.0</td>\n",
              "      <td>16.0</td>\n",
              "      <td>2.0</td>\n",
              "      <td>2.0</td>\n",
              "      <td>0.0</td>\n",
              "    </tr>\n",
              "    <tr>\n",
              "      <th>8</th>\n",
              "      <td>13.0</td>\n",
              "      <td>9.0</td>\n",
              "      <td>NaN</td>\n",
              "      <td>14.0</td>\n",
              "      <td>0.0</td>\n",
              "      <td>1.0</td>\n",
              "      <td>2.0</td>\n",
              "    </tr>\n",
              "    <tr>\n",
              "      <th>9</th>\n",
              "      <td>NaN</td>\n",
              "      <td>31.0</td>\n",
              "      <td>2.0</td>\n",
              "      <td>12.0</td>\n",
              "      <td>1.0</td>\n",
              "      <td>1.0</td>\n",
              "      <td>1.0</td>\n",
              "    </tr>\n",
              "  </tbody>\n",
              "</table>\n",
              "</div>\n",
              "      <button class=\"colab-df-convert\" onclick=\"convertToInteractive('df-e06e83f1-d1bf-42ab-982c-3ab4bda46115')\"\n",
              "              title=\"Convert this dataframe to an interactive table.\"\n",
              "              style=\"display:none;\">\n",
              "        \n",
              "  <svg xmlns=\"http://www.w3.org/2000/svg\" height=\"24px\"viewBox=\"0 0 24 24\"\n",
              "       width=\"24px\">\n",
              "    <path d=\"M0 0h24v24H0V0z\" fill=\"none\"/>\n",
              "    <path d=\"M18.56 5.44l.94 2.06.94-2.06 2.06-.94-2.06-.94-.94-2.06-.94 2.06-2.06.94zm-11 1L8.5 8.5l.94-2.06 2.06-.94-2.06-.94L8.5 2.5l-.94 2.06-2.06.94zm10 10l.94 2.06.94-2.06 2.06-.94-2.06-.94-.94-2.06-.94 2.06-2.06.94z\"/><path d=\"M17.41 7.96l-1.37-1.37c-.4-.4-.92-.59-1.43-.59-.52 0-1.04.2-1.43.59L10.3 9.45l-7.72 7.72c-.78.78-.78 2.05 0 2.83L4 21.41c.39.39.9.59 1.41.59.51 0 1.02-.2 1.41-.59l7.78-7.78 2.81-2.81c.8-.78.8-2.07 0-2.86zM5.41 20L4 18.59l7.72-7.72 1.47 1.35L5.41 20z\"/>\n",
              "  </svg>\n",
              "      </button>\n",
              "      \n",
              "  <style>\n",
              "    .colab-df-container {\n",
              "      display:flex;\n",
              "      flex-wrap:wrap;\n",
              "      gap: 12px;\n",
              "    }\n",
              "\n",
              "    .colab-df-convert {\n",
              "      background-color: #E8F0FE;\n",
              "      border: none;\n",
              "      border-radius: 50%;\n",
              "      cursor: pointer;\n",
              "      display: none;\n",
              "      fill: #1967D2;\n",
              "      height: 32px;\n",
              "      padding: 0 0 0 0;\n",
              "      width: 32px;\n",
              "    }\n",
              "\n",
              "    .colab-df-convert:hover {\n",
              "      background-color: #E2EBFA;\n",
              "      box-shadow: 0px 1px 2px rgba(60, 64, 67, 0.3), 0px 1px 3px 1px rgba(60, 64, 67, 0.15);\n",
              "      fill: #174EA6;\n",
              "    }\n",
              "\n",
              "    [theme=dark] .colab-df-convert {\n",
              "      background-color: #3B4455;\n",
              "      fill: #D2E3FC;\n",
              "    }\n",
              "\n",
              "    [theme=dark] .colab-df-convert:hover {\n",
              "      background-color: #434B5C;\n",
              "      box-shadow: 0px 1px 3px 1px rgba(0, 0, 0, 0.15);\n",
              "      filter: drop-shadow(0px 1px 2px rgba(0, 0, 0, 0.3));\n",
              "      fill: #FFFFFF;\n",
              "    }\n",
              "  </style>\n",
              "\n",
              "      <script>\n",
              "        const buttonEl =\n",
              "          document.querySelector('#df-e06e83f1-d1bf-42ab-982c-3ab4bda46115 button.colab-df-convert');\n",
              "        buttonEl.style.display =\n",
              "          google.colab.kernel.accessAllowed ? 'block' : 'none';\n",
              "\n",
              "        async function convertToInteractive(key) {\n",
              "          const element = document.querySelector('#df-e06e83f1-d1bf-42ab-982c-3ab4bda46115');\n",
              "          const dataTable =\n",
              "            await google.colab.kernel.invokeFunction('convertToInteractive',\n",
              "                                                     [key], {});\n",
              "          if (!dataTable) return;\n",
              "\n",
              "          const docLinkHtml = 'Like what you see? Visit the ' +\n",
              "            '<a target=\"_blank\" href=https://colab.research.google.com/notebooks/data_table.ipynb>data table notebook</a>'\n",
              "            + ' to learn more about interactive tables.';\n",
              "          element.innerHTML = '';\n",
              "          dataTable['output_type'] = 'display_data';\n",
              "          await google.colab.output.renderOutput(dataTable, element);\n",
              "          const docLink = document.createElement('div');\n",
              "          docLink.innerHTML = docLinkHtml;\n",
              "          element.appendChild(docLink);\n",
              "        }\n",
              "      </script>\n",
              "    </div>\n",
              "  </div>\n",
              "  "
            ]
          },
          "metadata": {},
          "execution_count": 237
        }
      ]
    },
    {
      "cell_type": "code",
      "source": [
        "# Before handling the missing values we will look at the distribution of the feature which has missing values\n",
        "\n",
        "df[missing_values].plot.kde(subplots=True,grid=True,title=\"PDF's of the features which has missing values\", figsize=(20,40))"
      ],
      "metadata": {
        "colab": {
          "base_uri": "https://localhost:8080/",
          "height": 1000
        },
        "id": "QdVqlG9_b_G9",
        "outputId": "9d8aff8d-4468-4218-ea83-d98ac064811c"
      },
      "execution_count": null,
      "outputs": [
        {
          "output_type": "execute_result",
          "data": {
            "text/plain": [
              "array([<matplotlib.axes._subplots.AxesSubplot object at 0x7fdbab545590>,\n",
              "       <matplotlib.axes._subplots.AxesSubplot object at 0x7fdbab562b10>,\n",
              "       <matplotlib.axes._subplots.AxesSubplot object at 0x7fdbab4f0390>,\n",
              "       <matplotlib.axes._subplots.AxesSubplot object at 0x7fdbab2878d0>,\n",
              "       <matplotlib.axes._subplots.AxesSubplot object at 0x7fdbab59c1d0>,\n",
              "       <matplotlib.axes._subplots.AxesSubplot object at 0x7fdbab3181d0>,\n",
              "       <matplotlib.axes._subplots.AxesSubplot object at 0x7fdbab2d25d0>],\n",
              "      dtype=object)"
            ]
          },
          "metadata": {},
          "execution_count": 238
        },
        {
          "output_type": "display_data",
          "data": {
            "text/plain": [
              "<Figure size 1440x2880 with 7 Axes>"
            ],
            "image/png": "[encoded data removed]"
          },
          "metadata": {
            "needs_background": "light"
          }
        }
      ]
    },
    {
      "cell_type": "markdown",
      "source": [
        "> From the above plot, we can clearly see that out of the 7 features almost all of them are slightly or medium-right skewed.\n",
        "\n",
        "> In right skewed distributions typically (mean > median > mode)\n",
        "\n",
        "> For features like {\"Tenure\", \"WarehouseToHome\", \"HourSpendOnApp\",\"OrderAmountHikeFromlastYear\", \"CouponUsed\", \"OrderCount\"} (almost normally distributed) we can replace the missing value's with the median of that feature.\n",
        "\n",
        "> For remaining feature is {\"DaySinceLastOrder\"}, it has two peaks which are skewed so we can use model based imputation instead of a normal mean/median based imputation. In model based imputation we can use a simple model like K-NN to predict the missing values."
      ],
      "metadata": {
        "id": "_g-8svVOeFGh"
      }
    },
    {
      "cell_type": "code",
      "source": [
        "# Replacing the missing values of {\"Tenure\", \"WarehouseToHome\", \"HourSpendOnApp\",\"OrderAmountHikeFromlastYear\", \"CouponUsed\", \"OrderCount\"} with their median value\n",
        "\n",
        "normal_missing_features = [\"Tenure\", \"WarehouseToHome\", \"HourSpendOnApp\",\"OrderAmountHikeFromlastYear\", \"CouponUsed\", \"OrderCount\"]\n",
        "for i in normal_missing_features:\n",
        "  df[i].fillna(df[i].median(), inplace=True)\n",
        "\n",
        "df[missing_values].head(10)"
      ],
      "metadata": {
        "colab": {
          "base_uri": "https://localhost:8080/",
          "height": 363
        },
        "id": "1iP_fFZxjJrT",
        "outputId": "cc83915f-4f3b-4ffe-c81a-bd21e86ca5d3"
      },
      "execution_count": null,
      "outputs": [
        {
          "output_type": "execute_result",
          "data": {
            "text/plain": [
              "   Tenure  WarehouseToHome  HourSpendOnApp  OrderAmountHikeFromlastYear  \\\n",
              "0     4.0              6.0             3.0                         11.0   \n",
              "1     9.0              8.0             3.0                         15.0   \n",
              "2     9.0             30.0             2.0                         14.0   \n",
              "3     0.0             15.0             2.0                         23.0   \n",
              "4     0.0             12.0             3.0                         11.0   \n",
              "5     0.0             22.0             3.0                         22.0   \n",
              "6     9.0             11.0             2.0                         14.0   \n",
              "7     9.0              6.0             3.0                         16.0   \n",
              "8    13.0              9.0             3.0                         14.0   \n",
              "9     9.0             31.0             2.0                         12.0   \n",
              "\n",
              "   CouponUsed  OrderCount  DaySinceLastOrder  \n",
              "0         1.0         1.0                5.0  \n",
              "1         0.0         1.0                0.0  \n",
              "2         0.0         1.0                3.0  \n",
              "3         0.0         1.0                3.0  \n",
              "4         1.0         1.0                3.0  \n",
              "5         4.0         6.0                7.0  \n",
              "6         0.0         1.0                0.0  \n",
              "7         2.0         2.0                0.0  \n",
              "8         0.0         1.0                2.0  \n",
              "9         1.0         1.0                1.0  "
            ],
            "text/html": [
              "\n",
              "  <div id=\"df-da819d40-c26c-4f82-ac28-85623e7976d6\">\n",
              "    <div class=\"colab-df-container\">\n",
              "      <div>\n",
              "<style scoped>\n",
              "    .dataframe tbody tr th:only-of-type {\n",
              "        vertical-align: middle;\n",
              "    }\n",
              "\n",
              "    .dataframe tbody tr th {\n",
              "        vertical-align: top;\n",
              "    }\n",
              "\n",
              "    .dataframe thead th {\n",
              "        text-align: right;\n",
              "    }\n",
              "</style>\n",
              "<table border=\"1\" class=\"dataframe\">\n",
              "  <thead>\n",
              "    <tr style=\"text-align: right;\">\n",
              "      <th></th>\n",
              "      <th>Tenure</th>\n",
              "      <th>WarehouseToHome</th>\n",
              "      <th>HourSpendOnApp</th>\n",
              "      <th>OrderAmountHikeFromlastYear</th>\n",
              "      <th>CouponUsed</th>\n",
              "      <th>OrderCount</th>\n",
              "      <th>DaySinceLastOrder</th>\n",
              "    </tr>\n",
              "  </thead>\n",
              "  <tbody>\n",
              "    <tr>\n",
              "      <th>0</th>\n",
              "      <td>4.0</td>\n",
              "      <td>6.0</td>\n",
              "      <td>3.0</td>\n",
              "      <td>11.0</td>\n",
              "      <td>1.0</td>\n",
              "      <td>1.0</td>\n",
              "      <td>5.0</td>\n",
              "    </tr>\n",
              "    <tr>\n",
              "      <th>1</th>\n",
              "      <td>9.0</td>\n",
              "      <td>8.0</td>\n",
              "      <td>3.0</td>\n",
              "      <td>15.0</td>\n",
              "      <td>0.0</td>\n",
              "      <td>1.0</td>\n",
              "      <td>0.0</td>\n",
              "    </tr>\n",
              "    <tr>\n",
              "      <th>2</th>\n",
              "      <td>9.0</td>\n",
              "      <td>30.0</td>\n",
              "      <td>2.0</td>\n",
              "      <td>14.0</td>\n",
              "      <td>0.0</td>\n",
              "      <td>1.0</td>\n",
              "      <td>3.0</td>\n",
              "    </tr>\n",
              "    <tr>\n",
              "      <th>3</th>\n",
              "      <td>0.0</td>\n",
              "      <td>15.0</td>\n",
              "      <td>2.0</td>\n",
              "      <td>23.0</td>\n",
              "      <td>0.0</td>\n",
              "      <td>1.0</td>\n",
              "      <td>3.0</td>\n",
              "    </tr>\n",
              "    <tr>\n",
              "      <th>4</th>\n",
              "      <td>0.0</td>\n",
              "      <td>12.0</td>\n",
              "      <td>3.0</td>\n",
              "      <td>11.0</td>\n",
              "      <td>1.0</td>\n",
              "      <td>1.0</td>\n",
              "      <td>3.0</td>\n",
              "    </tr>\n",
              "    <tr>\n",
              "      <th>5</th>\n",
              "      <td>0.0</td>\n",
              "      <td>22.0</td>\n",
              "      <td>3.0</td>\n",
              "      <td>22.0</td>\n",
              "      <td>4.0</td>\n",
              "      <td>6.0</td>\n",
              "      <td>7.0</td>\n",
              "    </tr>\n",
              "    <tr>\n",
              "      <th>6</th>\n",
              "      <td>9.0</td>\n",
              "      <td>11.0</td>\n",
              "      <td>2.0</td>\n",
              "      <td>14.0</td>\n",
              "      <td>0.0</td>\n",
              "      <td>1.0</td>\n",
              "      <td>0.0</td>\n",
              "    </tr>\n",
              "    <tr>\n",
              "      <th>7</th>\n",
              "      <td>9.0</td>\n",
              "      <td>6.0</td>\n",
              "      <td>3.0</td>\n",
              "      <td>16.0</td>\n",
              "      <td>2.0</td>\n",
              "      <td>2.0</td>\n",
              "      <td>0.0</td>\n",
              "    </tr>\n",
              "    <tr>\n",
              "      <th>8</th>\n",
              "      <td>13.0</td>\n",
              "      <td>9.0</td>\n",
              "      <td>3.0</td>\n",
              "      <td>14.0</td>\n",
              "      <td>0.0</td>\n",
              "      <td>1.0</td>\n",
              "      <td>2.0</td>\n",
              "    </tr>\n",
              "    <tr>\n",
              "      <th>9</th>\n",
              "      <td>9.0</td>\n",
              "      <td>31.0</td>\n",
              "      <td>2.0</td>\n",
              "      <td>12.0</td>\n",
              "      <td>1.0</td>\n",
              "      <td>1.0</td>\n",
              "      <td>1.0</td>\n",
              "    </tr>\n",
              "  </tbody>\n",
              "</table>\n",
              "</div>\n",
              "      <button class=\"colab-df-convert\" onclick=\"convertToInteractive('df-da819d40-c26c-4f82-ac28-85623e7976d6')\"\n",
              "              title=\"Convert this dataframe to an interactive table.\"\n",
              "              style=\"display:none;\">\n",
              "        \n",
              "  <svg xmlns=\"http://www.w3.org/2000/svg\" height=\"24px\"viewBox=\"0 0 24 24\"\n",
              "       width=\"24px\">\n",
              "    <path d=\"M0 0h24v24H0V0z\" fill=\"none\"/>\n",
              "    <path d=\"M18.56 5.44l.94 2.06.94-2.06 2.06-.94-2.06-.94-.94-2.06-.94 2.06-2.06.94zm-11 1L8.5 8.5l.94-2.06 2.06-.94-2.06-.94L8.5 2.5l-.94 2.06-2.06.94zm10 10l.94 2.06.94-2.06 2.06-.94-2.06-.94-.94-2.06-.94 2.06-2.06.94z\"/><path d=\"M17.41 7.96l-1.37-1.37c-.4-.4-.92-.59-1.43-.59-.52 0-1.04.2-1.43.59L10.3 9.45l-7.72 7.72c-.78.78-.78 2.05 0 2.83L4 21.41c.39.39.9.59 1.41.59.51 0 1.02-.2 1.41-.59l7.78-7.78 2.81-2.81c.8-.78.8-2.07 0-2.86zM5.41 20L4 18.59l7.72-7.72 1.47 1.35L5.41 20z\"/>\n",
              "  </svg>\n",
              "      </button>\n",
              "      \n",
              "  <style>\n",
              "    .colab-df-container {\n",
              "      display:flex;\n",
              "      flex-wrap:wrap;\n",
              "      gap: 12px;\n",
              "    }\n",
              "\n",
              "    .colab-df-convert {\n",
              "      background-color: #E8F0FE;\n",
              "      border: none;\n",
              "      border-radius: 50%;\n",
              "      cursor: pointer;\n",
              "      display: none;\n",
              "      fill: #1967D2;\n",
              "      height: 32px;\n",
              "      padding: 0 0 0 0;\n",
              "      width: 32px;\n",
              "    }\n",
              "\n",
              "    .colab-df-convert:hover {\n",
              "      background-color: #E2EBFA;\n",
              "      box-shadow: 0px 1px 2px rgba(60, 64, 67, 0.3), 0px 1px 3px 1px rgba(60, 64, 67, 0.15);\n",
              "      fill: #174EA6;\n",
              "    }\n",
              "\n",
              "    [theme=dark] .colab-df-convert {\n",
              "      background-color: #3B4455;\n",
              "      fill: #D2E3FC;\n",
              "    }\n",
              "\n",
              "    [theme=dark] .colab-df-convert:hover {\n",
              "      background-color: #434B5C;\n",
              "      box-shadow: 0px 1px 3px 1px rgba(0, 0, 0, 0.15);\n",
              "      filter: drop-shadow(0px 1px 2px rgba(0, 0, 0, 0.3));\n",
              "      fill: #FFFFFF;\n",
              "    }\n",
              "  </style>\n",
              "\n",
              "      <script>\n",
              "        const buttonEl =\n",
              "          document.querySelector('#df-da819d40-c26c-4f82-ac28-85623e7976d6 button.colab-df-convert');\n",
              "        buttonEl.style.display =\n",
              "          google.colab.kernel.accessAllowed ? 'block' : 'none';\n",
              "\n",
              "        async function convertToInteractive(key) {\n",
              "          const element = document.querySelector('#df-da819d40-c26c-4f82-ac28-85623e7976d6');\n",
              "          const dataTable =\n",
              "            await google.colab.kernel.invokeFunction('convertToInteractive',\n",
              "                                                     [key], {});\n",
              "          if (!dataTable) return;\n",
              "\n",
              "          const docLinkHtml = 'Like what you see? Visit the ' +\n",
              "            '<a target=\"_blank\" href=https://colab.research.google.com/notebooks/data_table.ipynb>data table notebook</a>'\n",
              "            + ' to learn more about interactive tables.';\n",
              "          element.innerHTML = '';\n",
              "          dataTable['output_type'] = 'display_data';\n",
              "          await google.colab.output.renderOutput(dataTable, element);\n",
              "          const docLink = document.createElement('div');\n",
              "          docLink.innerHTML = docLinkHtml;\n",
              "          element.appendChild(docLink);\n",
              "        }\n",
              "      </script>\n",
              "    </div>\n",
              "  </div>\n",
              "  "
            ]
          },
          "metadata": {},
          "execution_count": 239
        }
      ]
    },
    {
      "cell_type": "code",
      "source": [
        "# Model based imputation (K-NN with default K)\n",
        "\n",
        "skewed_missing_features = []\n",
        "\n",
        "df1 = df.copy()"
      ],
      "metadata": {
        "id": "d5XHEmCJtnnd"
      },
      "execution_count": null,
      "outputs": []
    },
    {
      "cell_type": "code",
      "source": [
        "df1 = df1.drop([\"CustomerID\",\"PreferredLoginDevice\",\"PreferredPaymentMode\",\t\"Gender\",\t\"PreferedOrderCat\",\"MaritalStatus\"],axis=1)"
      ],
      "metadata": {
        "id": "24qJlw4J6zVw"
      },
      "execution_count": null,
      "outputs": []
    },
    {
      "cell_type": "code",
      "source": [
        "dslo_missing = df1[\"DaySinceLastOrder\"].isnull().values\n",
        "dslo_missing_list = df1[\"DaySinceLastOrder\"].iloc[dslo_missing].index\n",
        "dslo_missing_list"
      ],
      "metadata": {
        "colab": {
          "base_uri": "https://localhost:8080/"
        },
        "id": "9EwVHCBszebO",
        "outputId": "23c03515-b164-43a0-aaef-8c0842d333e9"
      },
      "execution_count": null,
      "outputs": [
        {
          "output_type": "execute_result",
          "data": {
            "text/plain": [
              "Int64Index([  88,   97,  126,  146,  151,  182,  188,  216,  227,  295,\n",
              "            ...\n",
              "            5544, 5545, 5554, 5556, 5574, 5591, 5608, 5610, 5623, 5626],\n",
              "           dtype='int64', length=307)"
            ]
          },
          "metadata": {},
          "execution_count": 242
        }
      ]
    },
    {
      "cell_type": "code",
      "source": [
        "df2 = df1.copy()\n",
        "df2 = df2.drop(labels=dslo_missing_list)\n",
        "print(df2.shape)\n",
        "\n",
        "df3 = df1.loc[dslo_missing_list]\n",
        "df3.shape"
      ],
      "metadata": {
        "colab": {
          "base_uri": "https://localhost:8080/"
        },
        "id": "BePd7CV_1Qoc",
        "outputId": "8a92550c-97b5-4e4e-9ef7-3bc8a902c6c7"
      },
      "execution_count": null,
      "outputs": [
        {
          "output_type": "stream",
          "name": "stdout",
          "text": [
            "(5323, 14)\n"
          ]
        },
        {
          "output_type": "execute_result",
          "data": {
            "text/plain": [
              "(307, 14)"
            ]
          },
          "metadata": {},
          "execution_count": 243
        }
      ]
    },
    {
      "cell_type": "code",
      "source": [
        "df2"
      ],
      "metadata": {
        "id": "6UA1PyzU8HZS",
        "colab": {
          "base_uri": "https://localhost:8080/",
          "height": 488
        },
        "outputId": "f27bada6-f805-4883-cc06-459640763ccd"
      },
      "execution_count": null,
      "outputs": [
        {
          "output_type": "execute_result",
          "data": {
            "text/plain": [
              "      Churn  Tenure  CityTier  WarehouseToHome  HourSpendOnApp  \\\n",
              "0         1     4.0         3              6.0             3.0   \n",
              "1         1     9.0         1              8.0             3.0   \n",
              "2         1     9.0         1             30.0             2.0   \n",
              "3         1     0.0         3             15.0             2.0   \n",
              "4         1     0.0         1             12.0             3.0   \n",
              "...     ...     ...       ...              ...             ...   \n",
              "5624      0     1.0         3             12.0             2.0   \n",
              "5625      0    10.0         1             30.0             3.0   \n",
              "5627      0     1.0         1             11.0             3.0   \n",
              "5628      0    23.0         3              9.0             4.0   \n",
              "5629      0     8.0         1             15.0             3.0   \n",
              "\n",
              "      NumberOfDeviceRegistered  SatisfactionScore  NumberOfAddress  Complain  \\\n",
              "0                            3                  2                9         1   \n",
              "1                            4                  3                7         1   \n",
              "2                            4                  3                6         1   \n",
              "3                            4                  5                8         0   \n",
              "4                            3                  5                3         0   \n",
              "...                        ...                ...              ...       ...   \n",
              "5624                         5                  3                2         0   \n",
              "5625                         2                  1                6         0   \n",
              "5627                         2                  4                3         1   \n",
              "5628                         5                  4                4         0   \n",
              "5629                         2                  3                4         0   \n",
              "\n",
              "      OrderAmountHikeFromlastYear  CouponUsed  OrderCount  DaySinceLastOrder  \\\n",
              "0                            11.0         1.0         1.0                5.0   \n",
              "1                            15.0         0.0         1.0                0.0   \n",
              "2                            14.0         0.0         1.0                3.0   \n",
              "3                            23.0         0.0         1.0                3.0   \n",
              "4                            11.0         1.0         1.0                3.0   \n",
              "...                           ...         ...         ...                ...   \n",
              "5624                         19.0         2.0         2.0                1.0   \n",
              "5625                         18.0         1.0         2.0                4.0   \n",
              "5627                         21.0         1.0         2.0                4.0   \n",
              "5628                         15.0         2.0         2.0                9.0   \n",
              "5629                         13.0         2.0         2.0                3.0   \n",
              "\n",
              "      CashbackAmount  \n",
              "0             159.93  \n",
              "1             120.90  \n",
              "2             120.28  \n",
              "3             134.07  \n",
              "4             129.60  \n",
              "...              ...  \n",
              "5624          154.66  \n",
              "5625          150.71  \n",
              "5627          186.42  \n",
              "5628          178.90  \n",
              "5629          169.04  \n",
              "\n",
              "[5323 rows x 14 columns]"
            ],
            "text/html": [
              "\n",
              "  <div id=\"df-280d233e-df54-491b-acfd-62acf5fdaae0\">\n",
              "    <div class=\"colab-df-container\">\n",
              "      <div>\n",
              "<style scoped>\n",
              "    .dataframe tbody tr th:only-of-type {\n",
              "        vertical-align: middle;\n",
              "    }\n",
              "\n",
              "    .dataframe tbody tr th {\n",
              "        vertical-align: top;\n",
              "    }\n",
              "\n",
              "    .dataframe thead th {\n",
              "        text-align: right;\n",
              "    }\n",
              "</style>\n",
              "<table border=\"1\" class=\"dataframe\">\n",
              "  <thead>\n",
              "    <tr style=\"text-align: right;\">\n",
              "      <th></th>\n",
              "      <th>Churn</th>\n",
              "      <th>Tenure</th>\n",
              "      <th>CityTier</th>\n",
              "      <th>WarehouseToHome</th>\n",
              "      <th>HourSpendOnApp</th>\n",
              "      <th>NumberOfDeviceRegistered</th>\n",
              "      <th>SatisfactionScore</th>\n",
              "      <th>NumberOfAddress</th>\n",
              "      <th>Complain</th>\n",
              "      <th>OrderAmountHikeFromlastYear</th>\n",
              "      <th>CouponUsed</th>\n",
              "      <th>OrderCount</th>\n",
              "      <th>DaySinceLastOrder</th>\n",
              "      <th>CashbackAmount</th>\n",
              "    </tr>\n",
              "  </thead>\n",
              "  <tbody>\n",
              "    <tr>\n",
              "      <th>0</th>\n",
              "      <td>1</td>\n",
              "      <td>4.0</td>\n",
              "      <td>3</td>\n",
              "      <td>6.0</td>\n",
              "      <td>3.0</td>\n",
              "      <td>3</td>\n",
              "      <td>2</td>\n",
              "      <td>9</td>\n",
              "      <td>1</td>\n",
              "      <td>11.0</td>\n",
              "      <td>1.0</td>\n",
              "      <td>1.0</td>\n",
              "      <td>5.0</td>\n",
              "      <td>159.93</td>\n",
              "    </tr>\n",
              "    <tr>\n",
              "      <th>1</th>\n",
              "      <td>1</td>\n",
              "      <td>9.0</td>\n",
              "      <td>1</td>\n",
              "      <td>8.0</td>\n",
              "      <td>3.0</td>\n",
              "      <td>4</td>\n",
              "      <td>3</td>\n",
              "      <td>7</td>\n",
              "      <td>1</td>\n",
              "      <td>15.0</td>\n",
              "      <td>0.0</td>\n",
              "      <td>1.0</td>\n",
              "      <td>0.0</td>\n",
              "      <td>120.90</td>\n",
              "    </tr>\n",
              "    <tr>\n",
              "      <th>2</th>\n",
              "      <td>1</td>\n",
              "      <td>9.0</td>\n",
              "      <td>1</td>\n",
              "      <td>30.0</td>\n",
              "      <td>2.0</td>\n",
              "      <td>4</td>\n",
              "      <td>3</td>\n",
              "      <td>6</td>\n",
              "      <td>1</td>\n",
              "      <td>14.0</td>\n",
              "      <td>0.0</td>\n",
              "      <td>1.0</td>\n",
              "      <td>3.0</td>\n",
              "      <td>120.28</td>\n",
              "    </tr>\n",
              "    <tr>\n",
              "      <th>3</th>\n",
              "      <td>1</td>\n",
              "      <td>0.0</td>\n",
              "      <td>3</td>\n",
              "      <td>15.0</td>\n",
              "      <td>2.0</td>\n",
              "      <td>4</td>\n",
              "      <td>5</td>\n",
              "      <td>8</td>\n",
              "      <td>0</td>\n",
              "      <td>23.0</td>\n",
              "      <td>0.0</td>\n",
              "      <td>1.0</td>\n",
              "      <td>3.0</td>\n",
              "      <td>134.07</td>\n",
              "    </tr>\n",
              "    <tr>\n",
              "      <th>4</th>\n",
              "      <td>1</td>\n",
              "      <td>0.0</td>\n",
              "      <td>1</td>\n",
              "      <td>12.0</td>\n",
              "      <td>3.0</td>\n",
              "      <td>3</td>\n",
              "      <td>5</td>\n",
              "      <td>3</td>\n",
              "      <td>0</td>\n",
              "      <td>11.0</td>\n",
              "      <td>1.0</td>\n",
              "      <td>1.0</td>\n",
              "      <td>3.0</td>\n",
              "      <td>129.60</td>\n",
              "    </tr>\n",
              "    <tr>\n",
              "      <th>...</th>\n",
              "      <td>...</td>\n",
              "      <td>...</td>\n",
              "      <td>...</td>\n",
              "      <td>...</td>\n",
              "      <td>...</td>\n",
              "      <td>...</td>\n",
              "      <td>...</td>\n",
              "      <td>...</td>\n",
              "      <td>...</td>\n",
              "      <td>...</td>\n",
              "      <td>...</td>\n",
              "      <td>...</td>\n",
              "      <td>...</td>\n",
              "      <td>...</td>\n",
              "    </tr>\n",
              "    <tr>\n",
              "      <th>5624</th>\n",
              "      <td>0</td>\n",
              "      <td>1.0</td>\n",
              "      <td>3</td>\n",
              "      <td>12.0</td>\n",
              "      <td>2.0</td>\n",
              "      <td>5</td>\n",
              "      <td>3</td>\n",
              "      <td>2</td>\n",
              "      <td>0</td>\n",
              "      <td>19.0</td>\n",
              "      <td>2.0</td>\n",
              "      <td>2.0</td>\n",
              "      <td>1.0</td>\n",
              "      <td>154.66</td>\n",
              "    </tr>\n",
              "    <tr>\n",
              "      <th>5625</th>\n",
              "      <td>0</td>\n",
              "      <td>10.0</td>\n",
              "      <td>1</td>\n",
              "      <td>30.0</td>\n",
              "      <td>3.0</td>\n",
              "      <td>2</td>\n",
              "      <td>1</td>\n",
              "      <td>6</td>\n",
              "      <td>0</td>\n",
              "      <td>18.0</td>\n",
              "      <td>1.0</td>\n",
              "      <td>2.0</td>\n",
              "      <td>4.0</td>\n",
              "      <td>150.71</td>\n",
              "    </tr>\n",
              "    <tr>\n",
              "      <th>5627</th>\n",
              "      <td>0</td>\n",
              "      <td>1.0</td>\n",
              "      <td>1</td>\n",
              "      <td>11.0</td>\n",
              "      <td>3.0</td>\n",
              "      <td>2</td>\n",
              "      <td>4</td>\n",
              "      <td>3</td>\n",
              "      <td>1</td>\n",
              "      <td>21.0</td>\n",
              "      <td>1.0</td>\n",
              "      <td>2.0</td>\n",
              "      <td>4.0</td>\n",
              "      <td>186.42</td>\n",
              "    </tr>\n",
              "    <tr>\n",
              "      <th>5628</th>\n",
              "      <td>0</td>\n",
              "      <td>23.0</td>\n",
              "      <td>3</td>\n",
              "      <td>9.0</td>\n",
              "      <td>4.0</td>\n",
              "      <td>5</td>\n",
              "      <td>4</td>\n",
              "      <td>4</td>\n",
              "      <td>0</td>\n",
              "      <td>15.0</td>\n",
              "      <td>2.0</td>\n",
              "      <td>2.0</td>\n",
              "      <td>9.0</td>\n",
              "      <td>178.90</td>\n",
              "    </tr>\n",
              "    <tr>\n",
              "      <th>5629</th>\n",
              "      <td>0</td>\n",
              "      <td>8.0</td>\n",
              "      <td>1</td>\n",
              "      <td>15.0</td>\n",
              "      <td>3.0</td>\n",
              "      <td>2</td>\n",
              "      <td>3</td>\n",
              "      <td>4</td>\n",
              "      <td>0</td>\n",
              "      <td>13.0</td>\n",
              "      <td>2.0</td>\n",
              "      <td>2.0</td>\n",
              "      <td>3.0</td>\n",
              "      <td>169.04</td>\n",
              "    </tr>\n",
              "  </tbody>\n",
              "</table>\n",
              "<p>5323 rows × 14 columns</p>\n",
              "</div>\n",
              "      <button class=\"colab-df-convert\" onclick=\"convertToInteractive('df-280d233e-df54-491b-acfd-62acf5fdaae0')\"\n",
              "              title=\"Convert this dataframe to an interactive table.\"\n",
              "              style=\"display:none;\">\n",
              "        \n",
              "  <svg xmlns=\"http://www.w3.org/2000/svg\" height=\"24px\"viewBox=\"0 0 24 24\"\n",
              "       width=\"24px\">\n",
              "    <path d=\"M0 0h24v24H0V0z\" fill=\"none\"/>\n",
              "    <path d=\"M18.56 5.44l.94 2.06.94-2.06 2.06-.94-2.06-.94-.94-2.06-.94 2.06-2.06.94zm-11 1L8.5 8.5l.94-2.06 2.06-.94-2.06-.94L8.5 2.5l-.94 2.06-2.06.94zm10 10l.94 2.06.94-2.06 2.06-.94-2.06-.94-.94-2.06-.94 2.06-2.06.94z\"/><path d=\"M17.41 7.96l-1.37-1.37c-.4-.4-.92-.59-1.43-.59-.52 0-1.04.2-1.43.59L10.3 9.45l-7.72 7.72c-.78.78-.78 2.05 0 2.83L4 21.41c.39.39.9.59 1.41.59.51 0 1.02-.2 1.41-.59l7.78-7.78 2.81-2.81c.8-.78.8-2.07 0-2.86zM5.41 20L4 18.59l7.72-7.72 1.47 1.35L5.41 20z\"/>\n",
              "  </svg>\n",
              "      </button>\n",
              "      \n",
              "  <style>\n",
              "    .colab-df-container {\n",
              "      display:flex;\n",
              "      flex-wrap:wrap;\n",
              "      gap: 12px;\n",
              "    }\n",
              "\n",
              "    .colab-df-convert {\n",
              "      background-color: #E8F0FE;\n",
              "      border: none;\n",
              "      border-radius: 50%;\n",
              "      cursor: pointer;\n",
              "      display: none;\n",
              "      fill: #1967D2;\n",
              "      height: 32px;\n",
              "      padding: 0 0 0 0;\n",
              "      width: 32px;\n",
              "    }\n",
              "\n",
              "    .colab-df-convert:hover {\n",
              "      background-color: #E2EBFA;\n",
              "      box-shadow: 0px 1px 2px rgba(60, 64, 67, 0.3), 0px 1px 3px 1px rgba(60, 64, 67, 0.15);\n",
              "      fill: #174EA6;\n",
              "    }\n",
              "\n",
              "    [theme=dark] .colab-df-convert {\n",
              "      background-color: #3B4455;\n",
              "      fill: #D2E3FC;\n",
              "    }\n",
              "\n",
              "    [theme=dark] .colab-df-convert:hover {\n",
              "      background-color: #434B5C;\n",
              "      box-shadow: 0px 1px 3px 1px rgba(0, 0, 0, 0.15);\n",
              "      filter: drop-shadow(0px 1px 2px rgba(0, 0, 0, 0.3));\n",
              "      fill: #FFFFFF;\n",
              "    }\n",
              "  </style>\n",
              "\n",
              "      <script>\n",
              "        const buttonEl =\n",
              "          document.querySelector('#df-280d233e-df54-491b-acfd-62acf5fdaae0 button.colab-df-convert');\n",
              "        buttonEl.style.display =\n",
              "          google.colab.kernel.accessAllowed ? 'block' : 'none';\n",
              "\n",
              "        async function convertToInteractive(key) {\n",
              "          const element = document.querySelector('#df-280d233e-df54-491b-acfd-62acf5fdaae0');\n",
              "          const dataTable =\n",
              "            await google.colab.kernel.invokeFunction('convertToInteractive',\n",
              "                                                     [key], {});\n",
              "          if (!dataTable) return;\n",
              "\n",
              "          const docLinkHtml = 'Like what you see? Visit the ' +\n",
              "            '<a target=\"_blank\" href=https://colab.research.google.com/notebooks/data_table.ipynb>data table notebook</a>'\n",
              "            + ' to learn more about interactive tables.';\n",
              "          element.innerHTML = '';\n",
              "          dataTable['output_type'] = 'display_data';\n",
              "          await google.colab.output.renderOutput(dataTable, element);\n",
              "          const docLink = document.createElement('div');\n",
              "          docLink.innerHTML = docLinkHtml;\n",
              "          element.appendChild(docLink);\n",
              "        }\n",
              "      </script>\n",
              "    </div>\n",
              "  </div>\n",
              "  "
            ]
          },
          "metadata": {},
          "execution_count": 244
        }
      ]
    },
    {
      "cell_type": "code",
      "source": [
        "df2_x = df2.drop(\"DaySinceLastOrder\",axis=1)\n",
        "df2_y = df2[\"DaySinceLastOrder\"]\n",
        "\n",
        "df3_x = df3.drop(\"DaySinceLastOrder\",axis=1)"
      ],
      "metadata": {
        "id": "LHpi1E4S58fs"
      },
      "execution_count": null,
      "outputs": []
    },
    {
      "cell_type": "code",
      "source": [
        "model_imputation = KNeighborsRegressor()\n",
        "model_imputation.fit(df2_x,df2_y)\n",
        "result = model_imputation.predict(df3_x)"
      ],
      "metadata": {
        "id": "mqi15inB4xRd"
      },
      "execution_count": null,
      "outputs": []
    },
    {
      "cell_type": "code",
      "source": [
        "result = result.round()\n",
        "result"
      ],
      "metadata": {
        "colab": {
          "base_uri": "https://localhost:8080/"
        },
        "id": "s-UI3S2w8I3M",
        "outputId": "8026af94-603e-4de6-923a-dc210fb31bb0"
      },
      "execution_count": null,
      "outputs": [
        {
          "output_type": "execute_result",
          "data": {
            "text/plain": [
              "array([ 4.,  9.,  6.,  7.,  5.,  4.,  9.,  8.,  5.,  4.,  4.,  3.,  5.,\n",
              "        8.,  5., 10., 12.,  3.,  4.,  8.,  5.,  8.,  2.,  3., 15.,  5.,\n",
              "        8.,  6.,  7.,  4., 12.,  2.,  5.,  8.,  7.,  7., 10., 12.,  4.,\n",
              "        9.,  6.,  7.,  4.,  4.,  8.,  8.,  5.,  2.,  4.,  3.,  3.,  5.,\n",
              "        8.,  5., 10., 10.,  3.,  5.,  8.,  5., 11.,  2.,  3., 15.,  5.,\n",
              "        8.,  7.,  7.,  4., 12.,  2.,  5.,  8.,  8.,  8., 10.,  6.,  7.,\n",
              "        2.,  8.,  7.,  8.,  6.,  7., 10.,  5.,  6., 12., 11.,  7.,  9.,\n",
              "       10., 10.,  8., 12.,  8.,  6.,  7.,  6.,  5.,  6.,  9.,  8.,  8.,\n",
              "        8., 12.,  6.,  8., 11.,  5.,  5., 12.,  3.,  7.,  8.,  6., 10.,\n",
              "       12.,  8.,  7.,  6.,  7.,  6.,  8.,  7.,  3.,  6., 14.,  8., 12.,\n",
              "       10.,  2.,  7.,  9.,  7.,  6., 12., 11.,  4.,  5., 12.,  8.,  5.,\n",
              "        7.,  9.,  2.,  4.,  5.,  4.,  6., 11., 12.,  9., 16.,  5.,  4.,\n",
              "        9.,  6.,  9.,  9.,  8.,  7.,  6.,  5.,  4.,  4.,  5., 12.,  7.,\n",
              "        7., 13.,  6.,  6., 10.,  9., 13., 11., 12.,  3.,  5.,  8.,  9.,\n",
              "        4., 12.,  9.,  4.,  6.,  5.,  5., 12.,  5., 11.,  3.,  2., 10.,\n",
              "        9.,  5.,  6.,  9.,  7.,  2.,  8.,  7.,  8.,  6.,  7.,  8.,  5.,\n",
              "        6.,  8., 11.,  7.,  9.,  7., 10.,  8., 12.,  8.,  6.,  3.,  6.,\n",
              "        5.,  6., 11.,  8.,  8.,  8., 12.,  6.,  8., 11.,  5.,  5., 12.,\n",
              "        3.,  7.,  8.,  6., 10., 12.,  8.,  7.,  6.,  7.,  6.,  8.,  7.,\n",
              "        3.,  6., 14.,  8., 12., 10.,  3.,  6.,  9.,  7.,  6., 12., 11.,\n",
              "        4.,  5., 12.,  8.,  5.,  7., 10.,  2.,  4.,  5.,  6.,  6., 11.,\n",
              "       12.,  7., 10.,  4.,  4.,  9.,  6.,  8.,  9.,  8.,  6.,  6.,  5.,\n",
              "        4.,  4.,  7., 12.,  8.,  8., 13.,  6.,  6., 10.,  9., 12., 11.,\n",
              "       12.,  1.,  6.,  6.,  9.,  4., 12.,  9.])"
            ]
          },
          "metadata": {},
          "execution_count": 247
        }
      ]
    },
    {
      "cell_type": "code",
      "source": [
        "for i,j in enumerate(dslo_missing_list):\n",
        "  df[\"DaySinceLastOrder\"].loc[j] = result[i]\n",
        "\n",
        "df.head(11)"
      ],
      "metadata": {
        "colab": {
          "base_uri": "https://localhost:8080/",
          "height": 510
        },
        "id": "piM1AZLm_Xq8",
        "outputId": "50c146ad-43c5-4162-e359-8e596f71000c"
      },
      "execution_count": null,
      "outputs": [
        {
          "output_type": "execute_result",
          "data": {
            "text/plain": [
              "    CustomerID  Churn  Tenure PreferredLoginDevice  CityTier  WarehouseToHome  \\\n",
              "0        50001      1     4.0         Mobile Phone         3              6.0   \n",
              "1        50002      1     9.0                Phone         1              8.0   \n",
              "2        50003      1     9.0                Phone         1             30.0   \n",
              "3        50004      1     0.0                Phone         3             15.0   \n",
              "4        50005      1     0.0                Phone         1             12.0   \n",
              "5        50006      1     0.0             Computer         1             22.0   \n",
              "6        50007      1     9.0                Phone         3             11.0   \n",
              "7        50008      1     9.0                Phone         1              6.0   \n",
              "8        50009      1    13.0                Phone         3              9.0   \n",
              "9        50010      1     9.0                Phone         1             31.0   \n",
              "10       50011      1     4.0         Mobile Phone         1             18.0   \n",
              "\n",
              "   PreferredPaymentMode  Gender  HourSpendOnApp  NumberOfDeviceRegistered  \\\n",
              "0            Debit Card  Female             3.0                         3   \n",
              "1                   UPI    Male             3.0                         4   \n",
              "2            Debit Card    Male             2.0                         4   \n",
              "3            Debit Card    Male             2.0                         4   \n",
              "4                    CC    Male             3.0                         3   \n",
              "5            Debit Card  Female             3.0                         5   \n",
              "6      Cash on Delivery    Male             2.0                         3   \n",
              "7                    CC    Male             3.0                         3   \n",
              "8              E wallet    Male             3.0                         4   \n",
              "9            Debit Card    Male             2.0                         5   \n",
              "10     Cash on Delivery  Female             2.0                         3   \n",
              "\n",
              "      PreferedOrderCat  SatisfactionScore MaritalStatus  NumberOfAddress  \\\n",
              "0   Laptop & Accessory                  2        Single                9   \n",
              "1               Mobile                  3        Single                7   \n",
              "2               Mobile                  3        Single                6   \n",
              "3   Laptop & Accessory                  5        Single                8   \n",
              "4               Mobile                  5        Single                3   \n",
              "5         Mobile Phone                  5        Single                2   \n",
              "6   Laptop & Accessory                  2      Divorced                4   \n",
              "7               Mobile                  2      Divorced                3   \n",
              "8               Mobile                  3      Divorced                2   \n",
              "9               Mobile                  3        Single                2   \n",
              "10              Others                  3      Divorced                2   \n",
              "\n",
              "    Complain  OrderAmountHikeFromlastYear  CouponUsed  OrderCount  \\\n",
              "0          1                         11.0         1.0         1.0   \n",
              "1          1                         15.0         0.0         1.0   \n",
              "2          1                         14.0         0.0         1.0   \n",
              "3          0                         23.0         0.0         1.0   \n",
              "4          0                         11.0         1.0         1.0   \n",
              "5          1                         22.0         4.0         6.0   \n",
              "6          0                         14.0         0.0         1.0   \n",
              "7          1                         16.0         2.0         2.0   \n",
              "8          1                         14.0         0.0         1.0   \n",
              "9          0                         12.0         1.0         1.0   \n",
              "10         0                         15.0         9.0        15.0   \n",
              "\n",
              "    DaySinceLastOrder  CashbackAmount  \n",
              "0                 5.0          159.93  \n",
              "1                 0.0          120.90  \n",
              "2                 3.0          120.28  \n",
              "3                 3.0          134.07  \n",
              "4                 3.0          129.60  \n",
              "5                 7.0          139.19  \n",
              "6                 0.0          120.86  \n",
              "7                 0.0          122.93  \n",
              "8                 2.0          126.83  \n",
              "9                 1.0          122.93  \n",
              "10                8.0          295.45  "
            ],
            "text/html": [
              "\n",
              "  <div id=\"df-a17754a0-2bea-4d5b-b075-0c1d96ad8e15\">\n",
              "    <div class=\"colab-df-container\">\n",
              "      <div>\n",
              "<style scoped>\n",
              "    .dataframe tbody tr th:only-of-type {\n",
              "        vertical-align: middle;\n",
              "    }\n",
              "\n",
              "    .dataframe tbody tr th {\n",
              "        vertical-align: top;\n",
              "    }\n",
              "\n",
              "    .dataframe thead th {\n",
              "        text-align: right;\n",
              "    }\n",
              "</style>\n",
              "<table border=\"1\" class=\"dataframe\">\n",
              "  <thead>\n",
              "    <tr style=\"text-align: right;\">\n",
              "      <th></th>\n",
              "      <th>CustomerID</th>\n",
              "      <th>Churn</th>\n",
              "      <th>Tenure</th>\n",
              "      <th>PreferredLoginDevice</th>\n",
              "      <th>CityTier</th>\n",
              "      <th>WarehouseToHome</th>\n",
              "      <th>PreferredPaymentMode</th>\n",
              "      <th>Gender</th>\n",
              "      <th>HourSpendOnApp</th>\n",
              "      <th>NumberOfDeviceRegistered</th>\n",
              "      <th>PreferedOrderCat</th>\n",
              "      <th>SatisfactionScore</th>\n",
              "      <th>MaritalStatus</th>\n",
              "      <th>NumberOfAddress</th>\n",
              "      <th>Complain</th>\n",
              "      <th>OrderAmountHikeFromlastYear</th>\n",
              "      <th>CouponUsed</th>\n",
              "      <th>OrderCount</th>\n",
              "      <th>DaySinceLastOrder</th>\n",
              "      <th>CashbackAmount</th>\n",
              "    </tr>\n",
              "  </thead>\n",
              "  <tbody>\n",
              "    <tr>\n",
              "      <th>0</th>\n",
              "      <td>50001</td>\n",
              "      <td>1</td>\n",
              "      <td>4.0</td>\n",
              "      <td>Mobile Phone</td>\n",
              "      <td>3</td>\n",
              "      <td>6.0</td>\n",
              "      <td>Debit Card</td>\n",
              "      <td>Female</td>\n",
              "      <td>3.0</td>\n",
              "      <td>3</td>\n",
              "      <td>Laptop &amp; Accessory</td>\n",
              "      <td>2</td>\n",
              "      <td>Single</td>\n",
              "      <td>9</td>\n",
              "      <td>1</td>\n",
              "      <td>11.0</td>\n",
              "      <td>1.0</td>\n",
              "      <td>1.0</td>\n",
              "      <td>5.0</td>\n",
              "      <td>159.93</td>\n",
              "    </tr>\n",
              "    <tr>\n",
              "      <th>1</th>\n",
              "      <td>50002</td>\n",
              "      <td>1</td>\n",
              "      <td>9.0</td>\n",
              "      <td>Phone</td>\n",
              "      <td>1</td>\n",
              "      <td>8.0</td>\n",
              "      <td>UPI</td>\n",
              "      <td>Male</td>\n",
              "      <td>3.0</td>\n",
              "      <td>4</td>\n",
              "      <td>Mobile</td>\n",
              "      <td>3</td>\n",
              "      <td>Single</td>\n",
              "      <td>7</td>\n",
              "      <td>1</td>\n",
              "      <td>15.0</td>\n",
              "      <td>0.0</td>\n",
              "      <td>1.0</td>\n",
              "      <td>0.0</td>\n",
              "      <td>120.90</td>\n",
              "    </tr>\n",
              "    <tr>\n",
              "      <th>2</th>\n",
              "      <td>50003</td>\n",
              "      <td>1</td>\n",
              "      <td>9.0</td>\n",
              "      <td>Phone</td>\n",
              "      <td>1</td>\n",
              "      <td>30.0</td>\n",
              "      <td>Debit Card</td>\n",
              "      <td>Male</td>\n",
              "      <td>2.0</td>\n",
              "      <td>4</td>\n",
              "      <td>Mobile</td>\n",
              "      <td>3</td>\n",
              "      <td>Single</td>\n",
              "      <td>6</td>\n",
              "      <td>1</td>\n",
              "      <td>14.0</td>\n",
              "      <td>0.0</td>\n",
              "      <td>1.0</td>\n",
              "      <td>3.0</td>\n",
              "      <td>120.28</td>\n",
              "    </tr>\n",
              "    <tr>\n",
              "      <th>3</th>\n",
              "      <td>50004</td>\n",
              "      <td>1</td>\n",
              "      <td>0.0</td>\n",
              "      <td>Phone</td>\n",
              "      <td>3</td>\n",
              "      <td>15.0</td>\n",
              "      <td>Debit Card</td>\n",
              "      <td>Male</td>\n",
              "      <td>2.0</td>\n",
              "      <td>4</td>\n",
              "      <td>Laptop &amp; Accessory</td>\n",
              "      <td>5</td>\n",
              "      <td>Single</td>\n",
              "      <td>8</td>\n",
              "      <td>0</td>\n",
              "      <td>23.0</td>\n",
              "      <td>0.0</td>\n",
              "      <td>1.0</td>\n",
              "      <td>3.0</td>\n",
              "      <td>134.07</td>\n",
              "    </tr>\n",
              "    <tr>\n",
              "      <th>4</th>\n",
              "      <td>50005</td>\n",
              "      <td>1</td>\n",
              "      <td>0.0</td>\n",
              "      <td>Phone</td>\n",
              "      <td>1</td>\n",
              "      <td>12.0</td>\n",
              "      <td>CC</td>\n",
              "      <td>Male</td>\n",
              "      <td>3.0</td>\n",
              "      <td>3</td>\n",
              "      <td>Mobile</td>\n",
              "      <td>5</td>\n",
              "      <td>Single</td>\n",
              "      <td>3</td>\n",
              "      <td>0</td>\n",
              "      <td>11.0</td>\n",
              "      <td>1.0</td>\n",
              "      <td>1.0</td>\n",
              "      <td>3.0</td>\n",
              "      <td>129.60</td>\n",
              "    </tr>\n",
              "    <tr>\n",
              "      <th>5</th>\n",
              "      <td>50006</td>\n",
              "      <td>1</td>\n",
              "      <td>0.0</td>\n",
              "      <td>Computer</td>\n",
              "      <td>1</td>\n",
              "      <td>22.0</td>\n",
              "      <td>Debit Card</td>\n",
              "      <td>Female</td>\n",
              "      <td>3.0</td>\n",
              "      <td>5</td>\n",
              "      <td>Mobile Phone</td>\n",
              "      <td>5</td>\n",
              "      <td>Single</td>\n",
              "      <td>2</td>\n",
              "      <td>1</td>\n",
              "      <td>22.0</td>\n",
              "      <td>4.0</td>\n",
              "      <td>6.0</td>\n",
              "      <td>7.0</td>\n",
              "      <td>139.19</td>\n",
              "    </tr>\n",
              "    <tr>\n",
              "      <th>6</th>\n",
              "      <td>50007</td>\n",
              "      <td>1</td>\n",
              "      <td>9.0</td>\n",
              "      <td>Phone</td>\n",
              "      <td>3</td>\n",
              "      <td>11.0</td>\n",
              "      <td>Cash on Delivery</td>\n",
              "      <td>Male</td>\n",
              "      <td>2.0</td>\n",
              "      <td>3</td>\n",
              "      <td>Laptop &amp; Accessory</td>\n",
              "      <td>2</td>\n",
              "      <td>Divorced</td>\n",
              "      <td>4</td>\n",
              "      <td>0</td>\n",
              "      <td>14.0</td>\n",
              "      <td>0.0</td>\n",
              "      <td>1.0</td>\n",
              "      <td>0.0</td>\n",
              "      <td>120.86</td>\n",
              "    </tr>\n",
              "    <tr>\n",
              "      <th>7</th>\n",
              "      <td>50008</td>\n",
              "      <td>1</td>\n",
              "      <td>9.0</td>\n",
              "      <td>Phone</td>\n",
              "      <td>1</td>\n",
              "      <td>6.0</td>\n",
              "      <td>CC</td>\n",
              "      <td>Male</td>\n",
              "      <td>3.0</td>\n",
              "      <td>3</td>\n",
              "      <td>Mobile</td>\n",
              "      <td>2</td>\n",
              "      <td>Divorced</td>\n",
              "      <td>3</td>\n",
              "      <td>1</td>\n",
              "      <td>16.0</td>\n",
              "      <td>2.0</td>\n",
              "      <td>2.0</td>\n",
              "      <td>0.0</td>\n",
              "      <td>122.93</td>\n",
              "    </tr>\n",
              "    <tr>\n",
              "      <th>8</th>\n",
              "      <td>50009</td>\n",
              "      <td>1</td>\n",
              "      <td>13.0</td>\n",
              "      <td>Phone</td>\n",
              "      <td>3</td>\n",
              "      <td>9.0</td>\n",
              "      <td>E wallet</td>\n",
              "      <td>Male</td>\n",
              "      <td>3.0</td>\n",
              "      <td>4</td>\n",
              "      <td>Mobile</td>\n",
              "      <td>3</td>\n",
              "      <td>Divorced</td>\n",
              "      <td>2</td>\n",
              "      <td>1</td>\n",
              "      <td>14.0</td>\n",
              "      <td>0.0</td>\n",
              "      <td>1.0</td>\n",
              "      <td>2.0</td>\n",
              "      <td>126.83</td>\n",
              "    </tr>\n",
              "    <tr>\n",
              "      <th>9</th>\n",
              "      <td>50010</td>\n",
              "      <td>1</td>\n",
              "      <td>9.0</td>\n",
              "      <td>Phone</td>\n",
              "      <td>1</td>\n",
              "      <td>31.0</td>\n",
              "      <td>Debit Card</td>\n",
              "      <td>Male</td>\n",
              "      <td>2.0</td>\n",
              "      <td>5</td>\n",
              "      <td>Mobile</td>\n",
              "      <td>3</td>\n",
              "      <td>Single</td>\n",
              "      <td>2</td>\n",
              "      <td>0</td>\n",
              "      <td>12.0</td>\n",
              "      <td>1.0</td>\n",
              "      <td>1.0</td>\n",
              "      <td>1.0</td>\n",
              "      <td>122.93</td>\n",
              "    </tr>\n",
              "    <tr>\n",
              "      <th>10</th>\n",
              "      <td>50011</td>\n",
              "      <td>1</td>\n",
              "      <td>4.0</td>\n",
              "      <td>Mobile Phone</td>\n",
              "      <td>1</td>\n",
              "      <td>18.0</td>\n",
              "      <td>Cash on Delivery</td>\n",
              "      <td>Female</td>\n",
              "      <td>2.0</td>\n",
              "      <td>3</td>\n",
              "      <td>Others</td>\n",
              "      <td>3</td>\n",
              "      <td>Divorced</td>\n",
              "      <td>2</td>\n",
              "      <td>0</td>\n",
              "      <td>15.0</td>\n",
              "      <td>9.0</td>\n",
              "      <td>15.0</td>\n",
              "      <td>8.0</td>\n",
              "      <td>295.45</td>\n",
              "    </tr>\n",
              "  </tbody>\n",
              "</table>\n",
              "</div>\n",
              "      <button class=\"colab-df-convert\" onclick=\"convertToInteractive('df-a17754a0-2bea-4d5b-b075-0c1d96ad8e15')\"\n",
              "              title=\"Convert this dataframe to an interactive table.\"\n",
              "              style=\"display:none;\">\n",
              "        \n",
              "  <svg xmlns=\"http://www.w3.org/2000/svg\" height=\"24px\"viewBox=\"0 0 24 24\"\n",
              "       width=\"24px\">\n",
              "    <path d=\"M0 0h24v24H0V0z\" fill=\"none\"/>\n",
              "    <path d=\"M18.56 5.44l.94 2.06.94-2.06 2.06-.94-2.06-.94-.94-2.06-.94 2.06-2.06.94zm-11 1L8.5 8.5l.94-2.06 2.06-.94-2.06-.94L8.5 2.5l-.94 2.06-2.06.94zm10 10l.94 2.06.94-2.06 2.06-.94-2.06-.94-.94-2.06-.94 2.06-2.06.94z\"/><path d=\"M17.41 7.96l-1.37-1.37c-.4-.4-.92-.59-1.43-.59-.52 0-1.04.2-1.43.59L10.3 9.45l-7.72 7.72c-.78.78-.78 2.05 0 2.83L4 21.41c.39.39.9.59 1.41.59.51 0 1.02-.2 1.41-.59l7.78-7.78 2.81-2.81c.8-.78.8-2.07 0-2.86zM5.41 20L4 18.59l7.72-7.72 1.47 1.35L5.41 20z\"/>\n",
              "  </svg>\n",
              "      </button>\n",
              "      \n",
              "  <style>\n",
              "    .colab-df-container {\n",
              "      display:flex;\n",
              "      flex-wrap:wrap;\n",
              "      gap: 12px;\n",
              "    }\n",
              "\n",
              "    .colab-df-convert {\n",
              "      background-color: #E8F0FE;\n",
              "      border: none;\n",
              "      border-radius: 50%;\n",
              "      cursor: pointer;\n",
              "      display: none;\n",
              "      fill: #1967D2;\n",
              "      height: 32px;\n",
              "      padding: 0 0 0 0;\n",
              "      width: 32px;\n",
              "    }\n",
              "\n",
              "    .colab-df-convert:hover {\n",
              "      background-color: #E2EBFA;\n",
              "      box-shadow: 0px 1px 2px rgba(60, 64, 67, 0.3), 0px 1px 3px 1px rgba(60, 64, 67, 0.15);\n",
              "      fill: #174EA6;\n",
              "    }\n",
              "\n",
              "    [theme=dark] .colab-df-convert {\n",
              "      background-color: #3B4455;\n",
              "      fill: #D2E3FC;\n",
              "    }\n",
              "\n",
              "    [theme=dark] .colab-df-convert:hover {\n",
              "      background-color: #434B5C;\n",
              "      box-shadow: 0px 1px 3px 1px rgba(0, 0, 0, 0.15);\n",
              "      filter: drop-shadow(0px 1px 2px rgba(0, 0, 0, 0.3));\n",
              "      fill: #FFFFFF;\n",
              "    }\n",
              "  </style>\n",
              "\n",
              "      <script>\n",
              "        const buttonEl =\n",
              "          document.querySelector('#df-a17754a0-2bea-4d5b-b075-0c1d96ad8e15 button.colab-df-convert');\n",
              "        buttonEl.style.display =\n",
              "          google.colab.kernel.accessAllowed ? 'block' : 'none';\n",
              "\n",
              "        async function convertToInteractive(key) {\n",
              "          const element = document.querySelector('#df-a17754a0-2bea-4d5b-b075-0c1d96ad8e15');\n",
              "          const dataTable =\n",
              "            await google.colab.kernel.invokeFunction('convertToInteractive',\n",
              "                                                     [key], {});\n",
              "          if (!dataTable) return;\n",
              "\n",
              "          const docLinkHtml = 'Like what you see? Visit the ' +\n",
              "            '<a target=\"_blank\" href=https://colab.research.google.com/notebooks/data_table.ipynb>data table notebook</a>'\n",
              "            + ' to learn more about interactive tables.';\n",
              "          element.innerHTML = '';\n",
              "          dataTable['output_type'] = 'display_data';\n",
              "          await google.colab.output.renderOutput(dataTable, element);\n",
              "          const docLink = document.createElement('div');\n",
              "          docLink.innerHTML = docLinkHtml;\n",
              "          element.appendChild(docLink);\n",
              "        }\n",
              "      </script>\n",
              "    </div>\n",
              "  </div>\n",
              "  "
            ]
          },
          "metadata": {},
          "execution_count": 248
        }
      ]
    },
    {
      "cell_type": "code",
      "source": [
        "df.isnull().sum()"
      ],
      "metadata": {
        "colab": {
          "base_uri": "https://localhost:8080/"
        },
        "id": "5HLO-M48Amgt",
        "outputId": "2c40e748-efb4-4d0e-a5a5-c6546ee4ac44"
      },
      "execution_count": null,
      "outputs": [
        {
          "output_type": "execute_result",
          "data": {
            "text/plain": [
              "CustomerID                     0\n",
              "Churn                          0\n",
              "Tenure                         0\n",
              "PreferredLoginDevice           0\n",
              "CityTier                       0\n",
              "WarehouseToHome                0\n",
              "PreferredPaymentMode           0\n",
              "Gender                         0\n",
              "HourSpendOnApp                 0\n",
              "NumberOfDeviceRegistered       0\n",
              "PreferedOrderCat               0\n",
              "SatisfactionScore              0\n",
              "MaritalStatus                  0\n",
              "NumberOfAddress                0\n",
              "Complain                       0\n",
              "OrderAmountHikeFromlastYear    0\n",
              "CouponUsed                     0\n",
              "OrderCount                     0\n",
              "DaySinceLastOrder              0\n",
              "CashbackAmount                 0\n",
              "dtype: int64"
            ]
          },
          "metadata": {},
          "execution_count": 249
        }
      ]
    },
    {
      "cell_type": "markdown",
      "source": [
        "> As we can see all the null values are replaced either by median or by model based imputation (personally this model based imputation gives better results than a simple mean/median based imputation)"
      ],
      "metadata": {
        "id": "C8FLhSsuA5d5"
      }
    },
    {
      "cell_type": "code",
      "source": [
        "# Check for data balance\n",
        "\n",
        "df.groupby(\"Churn\")[\"CustomerID\"].count().plot.bar(color=['blue','orange'])"
      ],
      "metadata": {
        "colab": {
          "base_uri": "https://localhost:8080/",
          "height": 293
        },
        "id": "7vHYm7vCBfZT",
        "outputId": "78f4aaac-6971-4158-bc65-2ab10c70d7a7"
      },
      "execution_count": null,
      "outputs": [
        {
          "output_type": "execute_result",
          "data": {
            "text/plain": [
              "<matplotlib.axes._subplots.AxesSubplot at 0x7fdbbd0e5f50>"
            ]
          },
          "metadata": {},
          "execution_count": 250
        },
        {
          "output_type": "display_data",
          "data": {
            "text/plain": [
              "<Figure size 432x288 with 1 Axes>"
            ],
            "image/png": "[encoded data removed]"
          },
          "metadata": {
            "needs_background": "light"
          }
        }
      ]
    },
    {
      "cell_type": "code",
      "source": [
        "unchurn_count = (df.groupby(\"Churn\")[\"CustomerID\"].count()[0] / df.shape[0])*100\n",
        "print(f\"In the whole data set {np.round_(unchurn_count)} % of the points belong to Unchurn and the rest {np.round_(100-unchurn_count)} % of the points belong to Churn\")"
      ],
      "metadata": {
        "colab": {
          "base_uri": "https://localhost:8080/"
        },
        "id": "z9Cz-eF8DDWc",
        "outputId": "eb196bc9-dcbb-43e8-819d-6b201d98c2ce"
      },
      "execution_count": null,
      "outputs": [
        {
          "output_type": "stream",
          "name": "stdout",
          "text": [
            "In the whole data set 83.0 % of the points belong to Unchurn and the rest 17.0 % of the points belong to Churn\n"
          ]
        }
      ]
    },
    {
      "cell_type": "markdown",
      "source": [
        "> We can conclude that our data is highly imbalanced. But this is common in problems like cancer prediction, fraud detection, customer churn prediction, etc. In these types of problems mostly the affected class will be smaller than the non-affected class.\n",
        "\n",
        "> So should we balance the data or not? \n",
        "\n",
        "> This is a debatable topic, sometimes syntactically balanced data will perform better and sometimes the imbalanced data will perform better. So as a part of this project, we will try both and pick the one which has good performance and generalization"
      ],
      "metadata": {
        "id": "7CGjUiTVEnDK"
      }
    },
    {
      "cell_type": "markdown",
      "source": [
        "We will balance the data in the modelling preparation stage"
      ],
      "metadata": {
        "id": "9GOQOMq6GeUS"
      }
    },
    {
      "cell_type": "markdown",
      "source": [
        "## **6) Exploratory Data Analysis**"
      ],
      "metadata": {
        "id": "kMynk49YGydT"
      }
    },
    {
      "cell_type": "markdown",
      "source": [
        "### **6.1) Basic EDA**"
      ],
      "metadata": {
        "id": "PMmG3MREMyv9"
      }
    },
    {
      "cell_type": "code",
      "source": [
        "df.shape"
      ],
      "metadata": {
        "colab": {
          "base_uri": "https://localhost:8080/"
        },
        "id": "G-dtZqN0HBH4",
        "outputId": "0f90dec6-727e-4a97-95ac-169b9b1fbb45"
      },
      "execution_count": null,
      "outputs": [
        {
          "output_type": "execute_result",
          "data": {
            "text/plain": [
              "(5630, 20)"
            ]
          },
          "metadata": {},
          "execution_count": 252
        }
      ]
    },
    {
      "cell_type": "code",
      "source": [
        "df.head(10)"
      ],
      "metadata": {
        "colab": {
          "base_uri": "https://localhost:8080/",
          "height": 479
        },
        "id": "skqMIONFLebS",
        "outputId": "31e66ca9-f6a7-4d9f-c979-93561136a619"
      },
      "execution_count": null,
      "outputs": [
        {
          "output_type": "execute_result",
          "data": {
            "text/plain": [
              "   CustomerID  Churn  Tenure PreferredLoginDevice  CityTier  WarehouseToHome  \\\n",
              "0       50001      1     4.0         Mobile Phone         3              6.0   \n",
              "1       50002      1     9.0                Phone         1              8.0   \n",
              "2       50003      1     9.0                Phone         1             30.0   \n",
              "3       50004      1     0.0                Phone         3             15.0   \n",
              "4       50005      1     0.0                Phone         1             12.0   \n",
              "5       50006      1     0.0             Computer         1             22.0   \n",
              "6       50007      1     9.0                Phone         3             11.0   \n",
              "7       50008      1     9.0                Phone         1              6.0   \n",
              "8       50009      1    13.0                Phone         3              9.0   \n",
              "9       50010      1     9.0                Phone         1             31.0   \n",
              "\n",
              "  PreferredPaymentMode  Gender  HourSpendOnApp  NumberOfDeviceRegistered  \\\n",
              "0           Debit Card  Female             3.0                         3   \n",
              "1                  UPI    Male             3.0                         4   \n",
              "2           Debit Card    Male             2.0                         4   \n",
              "3           Debit Card    Male             2.0                         4   \n",
              "4                   CC    Male             3.0                         3   \n",
              "5           Debit Card  Female             3.0                         5   \n",
              "6     Cash on Delivery    Male             2.0                         3   \n",
              "7                   CC    Male             3.0                         3   \n",
              "8             E wallet    Male             3.0                         4   \n",
              "9           Debit Card    Male             2.0                         5   \n",
              "\n",
              "     PreferedOrderCat  SatisfactionScore MaritalStatus  NumberOfAddress  \\\n",
              "0  Laptop & Accessory                  2        Single                9   \n",
              "1              Mobile                  3        Single                7   \n",
              "2              Mobile                  3        Single                6   \n",
              "3  Laptop & Accessory                  5        Single                8   \n",
              "4              Mobile                  5        Single                3   \n",
              "5        Mobile Phone                  5        Single                2   \n",
              "6  Laptop & Accessory                  2      Divorced                4   \n",
              "7              Mobile                  2      Divorced                3   \n",
              "8              Mobile                  3      Divorced                2   \n",
              "9              Mobile                  3        Single                2   \n",
              "\n",
              "   Complain  OrderAmountHikeFromlastYear  CouponUsed  OrderCount  \\\n",
              "0         1                         11.0         1.0         1.0   \n",
              "1         1                         15.0         0.0         1.0   \n",
              "2         1                         14.0         0.0         1.0   \n",
              "3         0                         23.0         0.0         1.0   \n",
              "4         0                         11.0         1.0         1.0   \n",
              "5         1                         22.0         4.0         6.0   \n",
              "6         0                         14.0         0.0         1.0   \n",
              "7         1                         16.0         2.0         2.0   \n",
              "8         1                         14.0         0.0         1.0   \n",
              "9         0                         12.0         1.0         1.0   \n",
              "\n",
              "   DaySinceLastOrder  CashbackAmount  \n",
              "0                5.0          159.93  \n",
              "1                0.0          120.90  \n",
              "2                3.0          120.28  \n",
              "3                3.0          134.07  \n",
              "4                3.0          129.60  \n",
              "5                7.0          139.19  \n",
              "6                0.0          120.86  \n",
              "7                0.0          122.93  \n",
              "8                2.0          126.83  \n",
              "9                1.0          122.93  "
            ],
            "text/html": [
              "\n",
              "  <div id=\"df-cab72009-fafe-4e4b-b146-866ba3aa6bd6\">\n",
              "    <div class=\"colab-df-container\">\n",
              "      <div>\n",
              "<style scoped>\n",
              "    .dataframe tbody tr th:only-of-type {\n",
              "        vertical-align: middle;\n",
              "    }\n",
              "\n",
              "    .dataframe tbody tr th {\n",
              "        vertical-align: top;\n",
              "    }\n",
              "\n",
              "    .dataframe thead th {\n",
              "        text-align: right;\n",
              "    }\n",
              "</style>\n",
              "<table border=\"1\" class=\"dataframe\">\n",
              "  <thead>\n",
              "    <tr style=\"text-align: right;\">\n",
              "      <th></th>\n",
              "      <th>CustomerID</th>\n",
              "      <th>Churn</th>\n",
              "      <th>Tenure</th>\n",
              "      <th>PreferredLoginDevice</th>\n",
              "      <th>CityTier</th>\n",
              "      <th>WarehouseToHome</th>\n",
              "      <th>PreferredPaymentMode</th>\n",
              "      <th>Gender</th>\n",
              "      <th>HourSpendOnApp</th>\n",
              "      <th>NumberOfDeviceRegistered</th>\n",
              "      <th>PreferedOrderCat</th>\n",
              "      <th>SatisfactionScore</th>\n",
              "      <th>MaritalStatus</th>\n",
              "      <th>NumberOfAddress</th>\n",
              "      <th>Complain</th>\n",
              "      <th>OrderAmountHikeFromlastYear</th>\n",
              "      <th>CouponUsed</th>\n",
              "      <th>OrderCount</th>\n",
              "      <th>DaySinceLastOrder</th>\n",
              "      <th>CashbackAmount</th>\n",
              "    </tr>\n",
              "  </thead>\n",
              "  <tbody>\n",
              "    <tr>\n",
              "      <th>0</th>\n",
              "      <td>50001</td>\n",
              "      <td>1</td>\n",
              "      <td>4.0</td>\n",
              "      <td>Mobile Phone</td>\n",
              "      <td>3</td>\n",
              "      <td>6.0</td>\n",
              "      <td>Debit Card</td>\n",
              "      <td>Female</td>\n",
              "      <td>3.0</td>\n",
              "      <td>3</td>\n",
              "      <td>Laptop &amp; Accessory</td>\n",
              "      <td>2</td>\n",
              "      <td>Single</td>\n",
              "      <td>9</td>\n",
              "      <td>1</td>\n",
              "      <td>11.0</td>\n",
              "      <td>1.0</td>\n",
              "      <td>1.0</td>\n",
              "      <td>5.0</td>\n",
              "      <td>159.93</td>\n",
              "    </tr>\n",
              "    <tr>\n",
              "      <th>1</th>\n",
              "      <td>50002</td>\n",
              "      <td>1</td>\n",
              "      <td>9.0</td>\n",
              "      <td>Phone</td>\n",
              "      <td>1</td>\n",
              "      <td>8.0</td>\n",
              "      <td>UPI</td>\n",
              "      <td>Male</td>\n",
              "      <td>3.0</td>\n",
              "      <td>4</td>\n",
              "      <td>Mobile</td>\n",
              "      <td>3</td>\n",
              "      <td>Single</td>\n",
              "      <td>7</td>\n",
              "      <td>1</td>\n",
              "      <td>15.0</td>\n",
              "      <td>0.0</td>\n",
              "      <td>1.0</td>\n",
              "      <td>0.0</td>\n",
              "      <td>120.90</td>\n",
              "    </tr>\n",
              "    <tr>\n",
              "      <th>2</th>\n",
              "      <td>50003</td>\n",
              "      <td>1</td>\n",
              "      <td>9.0</td>\n",
              "      <td>Phone</td>\n",
              "      <td>1</td>\n",
              "      <td>30.0</td>\n",
              "      <td>Debit Card</td>\n",
              "      <td>Male</td>\n",
              "      <td>2.0</td>\n",
              "      <td>4</td>\n",
              "      <td>Mobile</td>\n",
              "      <td>3</td>\n",
              "      <td>Single</td>\n",
              "      <td>6</td>\n",
              "      <td>1</td>\n",
              "      <td>14.0</td>\n",
              "      <td>0.0</td>\n",
              "      <td>1.0</td>\n",
              "      <td>3.0</td>\n",
              "      <td>120.28</td>\n",
              "    </tr>\n",
              "    <tr>\n",
              "      <th>3</th>\n",
              "      <td>50004</td>\n",
              "      <td>1</td>\n",
              "      <td>0.0</td>\n",
              "      <td>Phone</td>\n",
              "      <td>3</td>\n",
              "      <td>15.0</td>\n",
              "      <td>Debit Card</td>\n",
              "      <td>Male</td>\n",
              "      <td>2.0</td>\n",
              "      <td>4</td>\n",
              "      <td>Laptop &amp; Accessory</td>\n",
              "      <td>5</td>\n",
              "      <td>Single</td>\n",
              "      <td>8</td>\n",
              "      <td>0</td>\n",
              "      <td>23.0</td>\n",
              "      <td>0.0</td>\n",
              "      <td>1.0</td>\n",
              "      <td>3.0</td>\n",
              "      <td>134.07</td>\n",
              "    </tr>\n",
              "    <tr>\n",
              "      <th>4</th>\n",
              "      <td>50005</td>\n",
              "      <td>1</td>\n",
              "      <td>0.0</td>\n",
              "      <td>Phone</td>\n",
              "      <td>1</td>\n",
              "      <td>12.0</td>\n",
              "      <td>CC</td>\n",
              "      <td>Male</td>\n",
              "      <td>3.0</td>\n",
              "      <td>3</td>\n",
              "      <td>Mobile</td>\n",
              "      <td>5</td>\n",
              "      <td>Single</td>\n",
              "      <td>3</td>\n",
              "      <td>0</td>\n",
              "      <td>11.0</td>\n",
              "      <td>1.0</td>\n",
              "      <td>1.0</td>\n",
              "      <td>3.0</td>\n",
              "      <td>129.60</td>\n",
              "    </tr>\n",
              "    <tr>\n",
              "      <th>5</th>\n",
              "      <td>50006</td>\n",
              "      <td>1</td>\n",
              "      <td>0.0</td>\n",
              "      <td>Computer</td>\n",
              "      <td>1</td>\n",
              "      <td>22.0</td>\n",
              "      <td>Debit Card</td>\n",
              "      <td>Female</td>\n",
              "      <td>3.0</td>\n",
              "      <td>5</td>\n",
              "      <td>Mobile Phone</td>\n",
              "      <td>5</td>\n",
              "      <td>Single</td>\n",
              "      <td>2</td>\n",
              "      <td>1</td>\n",
              "      <td>22.0</td>\n",
              "      <td>4.0</td>\n",
              "      <td>6.0</td>\n",
              "      <td>7.0</td>\n",
              "      <td>139.19</td>\n",
              "    </tr>\n",
              "    <tr>\n",
              "      <th>6</th>\n",
              "      <td>50007</td>\n",
              "      <td>1</td>\n",
              "      <td>9.0</td>\n",
              "      <td>Phone</td>\n",
              "      <td>3</td>\n",
              "      <td>11.0</td>\n",
              "      <td>Cash on Delivery</td>\n",
              "      <td>Male</td>\n",
              "      <td>2.0</td>\n",
              "      <td>3</td>\n",
              "      <td>Laptop &amp; Accessory</td>\n",
              "      <td>2</td>\n",
              "      <td>Divorced</td>\n",
              "      <td>4</td>\n",
              "      <td>0</td>\n",
              "      <td>14.0</td>\n",
              "      <td>0.0</td>\n",
              "      <td>1.0</td>\n",
              "      <td>0.0</td>\n",
              "      <td>120.86</td>\n",
              "    </tr>\n",
              "    <tr>\n",
              "      <th>7</th>\n",
              "      <td>50008</td>\n",
              "      <td>1</td>\n",
              "      <td>9.0</td>\n",
              "      <td>Phone</td>\n",
              "      <td>1</td>\n",
              "      <td>6.0</td>\n",
              "      <td>CC</td>\n",
              "      <td>Male</td>\n",
              "      <td>3.0</td>\n",
              "      <td>3</td>\n",
              "      <td>Mobile</td>\n",
              "      <td>2</td>\n",
              "      <td>Divorced</td>\n",
              "      <td>3</td>\n",
              "      <td>1</td>\n",
              "      <td>16.0</td>\n",
              "      <td>2.0</td>\n",
              "      <td>2.0</td>\n",
              "      <td>0.0</td>\n",
              "      <td>122.93</td>\n",
              "    </tr>\n",
              "    <tr>\n",
              "      <th>8</th>\n",
              "      <td>50009</td>\n",
              "      <td>1</td>\n",
              "      <td>13.0</td>\n",
              "      <td>Phone</td>\n",
              "      <td>3</td>\n",
              "      <td>9.0</td>\n",
              "      <td>E wallet</td>\n",
              "      <td>Male</td>\n",
              "      <td>3.0</td>\n",
              "      <td>4</td>\n",
              "      <td>Mobile</td>\n",
              "      <td>3</td>\n",
              "      <td>Divorced</td>\n",
              "      <td>2</td>\n",
              "      <td>1</td>\n",
              "      <td>14.0</td>\n",
              "      <td>0.0</td>\n",
              "      <td>1.0</td>\n",
              "      <td>2.0</td>\n",
              "      <td>126.83</td>\n",
              "    </tr>\n",
              "    <tr>\n",
              "      <th>9</th>\n",
              "      <td>50010</td>\n",
              "      <td>1</td>\n",
              "      <td>9.0</td>\n",
              "      <td>Phone</td>\n",
              "      <td>1</td>\n",
              "      <td>31.0</td>\n",
              "      <td>Debit Card</td>\n",
              "      <td>Male</td>\n",
              "      <td>2.0</td>\n",
              "      <td>5</td>\n",
              "      <td>Mobile</td>\n",
              "      <td>3</td>\n",
              "      <td>Single</td>\n",
              "      <td>2</td>\n",
              "      <td>0</td>\n",
              "      <td>12.0</td>\n",
              "      <td>1.0</td>\n",
              "      <td>1.0</td>\n",
              "      <td>1.0</td>\n",
              "      <td>122.93</td>\n",
              "    </tr>\n",
              "  </tbody>\n",
              "</table>\n",
              "</div>\n",
              "      <button class=\"colab-df-convert\" onclick=\"convertToInteractive('df-cab72009-fafe-4e4b-b146-866ba3aa6bd6')\"\n",
              "              title=\"Convert this dataframe to an interactive table.\"\n",
              "              style=\"display:none;\">\n",
              "        \n",
              "  <svg xmlns=\"http://www.w3.org/2000/svg\" height=\"24px\"viewBox=\"0 0 24 24\"\n",
              "       width=\"24px\">\n",
              "    <path d=\"M0 0h24v24H0V0z\" fill=\"none\"/>\n",
              "    <path d=\"M18.56 5.44l.94 2.06.94-2.06 2.06-.94-2.06-.94-.94-2.06-.94 2.06-2.06.94zm-11 1L8.5 8.5l.94-2.06 2.06-.94-2.06-.94L8.5 2.5l-.94 2.06-2.06.94zm10 10l.94 2.06.94-2.06 2.06-.94-2.06-.94-.94-2.06-.94 2.06-2.06.94z\"/><path d=\"M17.41 7.96l-1.37-1.37c-.4-.4-.92-.59-1.43-.59-.52 0-1.04.2-1.43.59L10.3 9.45l-7.72 7.72c-.78.78-.78 2.05 0 2.83L4 21.41c.39.39.9.59 1.41.59.51 0 1.02-.2 1.41-.59l7.78-7.78 2.81-2.81c.8-.78.8-2.07 0-2.86zM5.41 20L4 18.59l7.72-7.72 1.47 1.35L5.41 20z\"/>\n",
              "  </svg>\n",
              "      </button>\n",
              "      \n",
              "  <style>\n",
              "    .colab-df-container {\n",
              "      display:flex;\n",
              "      flex-wrap:wrap;\n",
              "      gap: 12px;\n",
              "    }\n",
              "\n",
              "    .colab-df-convert {\n",
              "      background-color: #E8F0FE;\n",
              "      border: none;\n",
              "      border-radius: 50%;\n",
              "      cursor: pointer;\n",
              "      display: none;\n",
              "      fill: #1967D2;\n",
              "      height: 32px;\n",
              "      padding: 0 0 0 0;\n",
              "      width: 32px;\n",
              "    }\n",
              "\n",
              "    .colab-df-convert:hover {\n",
              "      background-color: #E2EBFA;\n",
              "      box-shadow: 0px 1px 2px rgba(60, 64, 67, 0.3), 0px 1px 3px 1px rgba(60, 64, 67, 0.15);\n",
              "      fill: #174EA6;\n",
              "    }\n",
              "\n",
              "    [theme=dark] .colab-df-convert {\n",
              "      background-color: #3B4455;\n",
              "      fill: #D2E3FC;\n",
              "    }\n",
              "\n",
              "    [theme=dark] .colab-df-convert:hover {\n",
              "      background-color: #434B5C;\n",
              "      box-shadow: 0px 1px 3px 1px rgba(0, 0, 0, 0.15);\n",
              "      filter: drop-shadow(0px 1px 2px rgba(0, 0, 0, 0.3));\n",
              "      fill: #FFFFFF;\n",
              "    }\n",
              "  </style>\n",
              "\n",
              "      <script>\n",
              "        const buttonEl =\n",
              "          document.querySelector('#df-cab72009-fafe-4e4b-b146-866ba3aa6bd6 button.colab-df-convert');\n",
              "        buttonEl.style.display =\n",
              "          google.colab.kernel.accessAllowed ? 'block' : 'none';\n",
              "\n",
              "        async function convertToInteractive(key) {\n",
              "          const element = document.querySelector('#df-cab72009-fafe-4e4b-b146-866ba3aa6bd6');\n",
              "          const dataTable =\n",
              "            await google.colab.kernel.invokeFunction('convertToInteractive',\n",
              "                                                     [key], {});\n",
              "          if (!dataTable) return;\n",
              "\n",
              "          const docLinkHtml = 'Like what you see? Visit the ' +\n",
              "            '<a target=\"_blank\" href=https://colab.research.google.com/notebooks/data_table.ipynb>data table notebook</a>'\n",
              "            + ' to learn more about interactive tables.';\n",
              "          element.innerHTML = '';\n",
              "          dataTable['output_type'] = 'display_data';\n",
              "          await google.colab.output.renderOutput(dataTable, element);\n",
              "          const docLink = document.createElement('div');\n",
              "          docLink.innerHTML = docLinkHtml;\n",
              "          element.appendChild(docLink);\n",
              "        }\n",
              "      </script>\n",
              "    </div>\n",
              "  </div>\n",
              "  "
            ]
          },
          "metadata": {},
          "execution_count": 253
        }
      ]
    },
    {
      "cell_type": "code",
      "source": [
        "df.describe().T"
      ],
      "metadata": {
        "colab": {
          "base_uri": "https://localhost:8080/",
          "height": 520
        },
        "id": "WCr8er29JB-6",
        "outputId": "16243d67-aa95-4797-fc70-03fa784a96c8"
      },
      "execution_count": null,
      "outputs": [
        {
          "output_type": "execute_result",
          "data": {
            "text/plain": [
              "                              count          mean          std      min  \\\n",
              "CustomerID                   5630.0  52815.500000  1625.385339  50001.0   \n",
              "Churn                        5630.0      0.168384     0.374240      0.0   \n",
              "Tenure                       5630.0     10.134103     8.357951      0.0   \n",
              "CityTier                     5630.0      1.654707     0.915389      1.0   \n",
              "WarehouseToHome              5630.0     15.566785     8.345961      5.0   \n",
              "HourSpendOnApp               5630.0      2.934636     0.705528      0.0   \n",
              "NumberOfDeviceRegistered     5630.0      3.688988     1.023999      1.0   \n",
              "SatisfactionScore            5630.0      3.066785     1.380194      1.0   \n",
              "NumberOfAddress              5630.0      4.214032     2.583586      1.0   \n",
              "Complain                     5630.0      0.284902     0.451408      0.0   \n",
              "OrderAmountHikeFromlastYear  5630.0     15.674600     3.591058     11.0   \n",
              "CouponUsed                   5630.0      1.716874     1.857640      0.0   \n",
              "OrderCount                   5630.0      2.961812     2.879248      1.0   \n",
              "DaySinceLastOrder            5630.0      4.692718     3.670822      0.0   \n",
              "CashbackAmount               5630.0    177.223030    49.207036      0.0   \n",
              "\n",
              "                                  25%       50%         75%       max  \n",
              "CustomerID                   51408.25  52815.50  54222.7500  55630.00  \n",
              "Churn                            0.00      0.00      0.0000      1.00  \n",
              "Tenure                           3.00      9.00     15.0000     61.00  \n",
              "CityTier                         1.00      1.00      3.0000      3.00  \n",
              "WarehouseToHome                  9.00     14.00     20.0000    127.00  \n",
              "HourSpendOnApp                   2.00      3.00      3.0000      5.00  \n",
              "NumberOfDeviceRegistered         3.00      4.00      4.0000      6.00  \n",
              "SatisfactionScore                2.00      3.00      4.0000      5.00  \n",
              "NumberOfAddress                  2.00      3.00      6.0000     22.00  \n",
              "Complain                         0.00      0.00      1.0000      1.00  \n",
              "OrderAmountHikeFromlastYear     13.00     15.00     18.0000     26.00  \n",
              "CouponUsed                       1.00      1.00      2.0000     16.00  \n",
              "OrderCount                       1.00      2.00      3.0000     16.00  \n",
              "DaySinceLastOrder                2.00      3.00      8.0000     46.00  \n",
              "CashbackAmount                 145.77    163.28    196.3925    324.99  "
            ],
            "text/html": [
              "\n",
              "  <div id=\"df-ea676a1a-d112-4bf0-b5f8-72ca211ecbe6\">\n",
              "    <div class=\"colab-df-container\">\n",
              "      <div>\n",
              "<style scoped>\n",
              "    .dataframe tbody tr th:only-of-type {\n",
              "        vertical-align: middle;\n",
              "    }\n",
              "\n",
              "    .dataframe tbody tr th {\n",
              "        vertical-align: top;\n",
              "    }\n",
              "\n",
              "    .dataframe thead th {\n",
              "        text-align: right;\n",
              "    }\n",
              "</style>\n",
              "<table border=\"1\" class=\"dataframe\">\n",
              "  <thead>\n",
              "    <tr style=\"text-align: right;\">\n",
              "      <th></th>\n",
              "      <th>count</th>\n",
              "      <th>mean</th>\n",
              "      <th>std</th>\n",
              "      <th>min</th>\n",
              "      <th>25%</th>\n",
              "      <th>50%</th>\n",
              "      <th>75%</th>\n",
              "      <th>max</th>\n",
              "    </tr>\n",
              "  </thead>\n",
              "  <tbody>\n",
              "    <tr>\n",
              "      <th>CustomerID</th>\n",
              "      <td>5630.0</td>\n",
              "      <td>52815.500000</td>\n",
              "      <td>1625.385339</td>\n",
              "      <td>50001.0</td>\n",
              "      <td>51408.25</td>\n",
              "      <td>52815.50</td>\n",
              "      <td>54222.7500</td>\n",
              "      <td>55630.00</td>\n",
              "    </tr>\n",
              "    <tr>\n",
              "      <th>Churn</th>\n",
              "      <td>5630.0</td>\n",
              "      <td>0.168384</td>\n",
              "      <td>0.374240</td>\n",
              "      <td>0.0</td>\n",
              "      <td>0.00</td>\n",
              "      <td>0.00</td>\n",
              "      <td>0.0000</td>\n",
              "      <td>1.00</td>\n",
              "    </tr>\n",
              "    <tr>\n",
              "      <th>Tenure</th>\n",
              "      <td>5630.0</td>\n",
              "      <td>10.134103</td>\n",
              "      <td>8.357951</td>\n",
              "      <td>0.0</td>\n",
              "      <td>3.00</td>\n",
              "      <td>9.00</td>\n",
              "      <td>15.0000</td>\n",
              "      <td>61.00</td>\n",
              "    </tr>\n",
              "    <tr>\n",
              "      <th>CityTier</th>\n",
              "      <td>5630.0</td>\n",
              "      <td>1.654707</td>\n",
              "      <td>0.915389</td>\n",
              "      <td>1.0</td>\n",
              "      <td>1.00</td>\n",
              "      <td>1.00</td>\n",
              "      <td>3.0000</td>\n",
              "      <td>3.00</td>\n",
              "    </tr>\n",
              "    <tr>\n",
              "      <th>WarehouseToHome</th>\n",
              "      <td>5630.0</td>\n",
              "      <td>15.566785</td>\n",
              "      <td>8.345961</td>\n",
              "      <td>5.0</td>\n",
              "      <td>9.00</td>\n",
              "      <td>14.00</td>\n",
              "      <td>20.0000</td>\n",
              "      <td>127.00</td>\n",
              "    </tr>\n",
              "    <tr>\n",
              "      <th>HourSpendOnApp</th>\n",
              "      <td>5630.0</td>\n",
              "      <td>2.934636</td>\n",
              "      <td>0.705528</td>\n",
              "      <td>0.0</td>\n",
              "      <td>2.00</td>\n",
              "      <td>3.00</td>\n",
              "      <td>3.0000</td>\n",
              "      <td>5.00</td>\n",
              "    </tr>\n",
              "    <tr>\n",
              "      <th>NumberOfDeviceRegistered</th>\n",
              "      <td>5630.0</td>\n",
              "      <td>3.688988</td>\n",
              "      <td>1.023999</td>\n",
              "      <td>1.0</td>\n",
              "      <td>3.00</td>\n",
              "      <td>4.00</td>\n",
              "      <td>4.0000</td>\n",
              "      <td>6.00</td>\n",
              "    </tr>\n",
              "    <tr>\n",
              "      <th>SatisfactionScore</th>\n",
              "      <td>5630.0</td>\n",
              "      <td>3.066785</td>\n",
              "      <td>1.380194</td>\n",
              "      <td>1.0</td>\n",
              "      <td>2.00</td>\n",
              "      <td>3.00</td>\n",
              "      <td>4.0000</td>\n",
              "      <td>5.00</td>\n",
              "    </tr>\n",
              "    <tr>\n",
              "      <th>NumberOfAddress</th>\n",
              "      <td>5630.0</td>\n",
              "      <td>4.214032</td>\n",
              "      <td>2.583586</td>\n",
              "      <td>1.0</td>\n",
              "      <td>2.00</td>\n",
              "      <td>3.00</td>\n",
              "      <td>6.0000</td>\n",
              "      <td>22.00</td>\n",
              "    </tr>\n",
              "    <tr>\n",
              "      <th>Complain</th>\n",
              "      <td>5630.0</td>\n",
              "      <td>0.284902</td>\n",
              "      <td>0.451408</td>\n",
              "      <td>0.0</td>\n",
              "      <td>0.00</td>\n",
              "      <td>0.00</td>\n",
              "      <td>1.0000</td>\n",
              "      <td>1.00</td>\n",
              "    </tr>\n",
              "    <tr>\n",
              "      <th>OrderAmountHikeFromlastYear</th>\n",
              "      <td>5630.0</td>\n",
              "      <td>15.674600</td>\n",
              "      <td>3.591058</td>\n",
              "      <td>11.0</td>\n",
              "      <td>13.00</td>\n",
              "      <td>15.00</td>\n",
              "      <td>18.0000</td>\n",
              "      <td>26.00</td>\n",
              "    </tr>\n",
              "    <tr>\n",
              "      <th>CouponUsed</th>\n",
              "      <td>5630.0</td>\n",
              "      <td>1.716874</td>\n",
              "      <td>1.857640</td>\n",
              "      <td>0.0</td>\n",
              "      <td>1.00</td>\n",
              "      <td>1.00</td>\n",
              "      <td>2.0000</td>\n",
              "      <td>16.00</td>\n",
              "    </tr>\n",
              "    <tr>\n",
              "      <th>OrderCount</th>\n",
              "      <td>5630.0</td>\n",
              "      <td>2.961812</td>\n",
              "      <td>2.879248</td>\n",
              "      <td>1.0</td>\n",
              "      <td>1.00</td>\n",
              "      <td>2.00</td>\n",
              "      <td>3.0000</td>\n",
              "      <td>16.00</td>\n",
              "    </tr>\n",
              "    <tr>\n",
              "      <th>DaySinceLastOrder</th>\n",
              "      <td>5630.0</td>\n",
              "      <td>4.692718</td>\n",
              "      <td>3.670822</td>\n",
              "      <td>0.0</td>\n",
              "      <td>2.00</td>\n",
              "      <td>3.00</td>\n",
              "      <td>8.0000</td>\n",
              "      <td>46.00</td>\n",
              "    </tr>\n",
              "    <tr>\n",
              "      <th>CashbackAmount</th>\n",
              "      <td>5630.0</td>\n",
              "      <td>177.223030</td>\n",
              "      <td>49.207036</td>\n",
              "      <td>0.0</td>\n",
              "      <td>145.77</td>\n",
              "      <td>163.28</td>\n",
              "      <td>196.3925</td>\n",
              "      <td>324.99</td>\n",
              "    </tr>\n",
              "  </tbody>\n",
              "</table>\n",
              "</div>\n",
              "      <button class=\"colab-df-convert\" onclick=\"convertToInteractive('df-ea676a1a-d112-4bf0-b5f8-72ca211ecbe6')\"\n",
              "              title=\"Convert this dataframe to an interactive table.\"\n",
              "              style=\"display:none;\">\n",
              "        \n",
              "  <svg xmlns=\"http://www.w3.org/2000/svg\" height=\"24px\"viewBox=\"0 0 24 24\"\n",
              "       width=\"24px\">\n",
              "    <path d=\"M0 0h24v24H0V0z\" fill=\"none\"/>\n",
              "    <path d=\"M18.56 5.44l.94 2.06.94-2.06 2.06-.94-2.06-.94-.94-2.06-.94 2.06-2.06.94zm-11 1L8.5 8.5l.94-2.06 2.06-.94-2.06-.94L8.5 2.5l-.94 2.06-2.06.94zm10 10l.94 2.06.94-2.06 2.06-.94-2.06-.94-.94-2.06-.94 2.06-2.06.94z\"/><path d=\"M17.41 7.96l-1.37-1.37c-.4-.4-.92-.59-1.43-.59-.52 0-1.04.2-1.43.59L10.3 9.45l-7.72 7.72c-.78.78-.78 2.05 0 2.83L4 21.41c.39.39.9.59 1.41.59.51 0 1.02-.2 1.41-.59l7.78-7.78 2.81-2.81c.8-.78.8-2.07 0-2.86zM5.41 20L4 18.59l7.72-7.72 1.47 1.35L5.41 20z\"/>\n",
              "  </svg>\n",
              "      </button>\n",
              "      \n",
              "  <style>\n",
              "    .colab-df-container {\n",
              "      display:flex;\n",
              "      flex-wrap:wrap;\n",
              "      gap: 12px;\n",
              "    }\n",
              "\n",
              "    .colab-df-convert {\n",
              "      background-color: #E8F0FE;\n",
              "      border: none;\n",
              "      border-radius: 50%;\n",
              "      cursor: pointer;\n",
              "      display: none;\n",
              "      fill: #1967D2;\n",
              "      height: 32px;\n",
              "      padding: 0 0 0 0;\n",
              "      width: 32px;\n",
              "    }\n",
              "\n",
              "    .colab-df-convert:hover {\n",
              "      background-color: #E2EBFA;\n",
              "      box-shadow: 0px 1px 2px rgba(60, 64, 67, 0.3), 0px 1px 3px 1px rgba(60, 64, 67, 0.15);\n",
              "      fill: #174EA6;\n",
              "    }\n",
              "\n",
              "    [theme=dark] .colab-df-convert {\n",
              "      background-color: #3B4455;\n",
              "      fill: #D2E3FC;\n",
              "    }\n",
              "\n",
              "    [theme=dark] .colab-df-convert:hover {\n",
              "      background-color: #434B5C;\n",
              "      box-shadow: 0px 1px 3px 1px rgba(0, 0, 0, 0.15);\n",
              "      filter: drop-shadow(0px 1px 2px rgba(0, 0, 0, 0.3));\n",
              "      fill: #FFFFFF;\n",
              "    }\n",
              "  </style>\n",
              "\n",
              "      <script>\n",
              "        const buttonEl =\n",
              "          document.querySelector('#df-ea676a1a-d112-4bf0-b5f8-72ca211ecbe6 button.colab-df-convert');\n",
              "        buttonEl.style.display =\n",
              "          google.colab.kernel.accessAllowed ? 'block' : 'none';\n",
              "\n",
              "        async function convertToInteractive(key) {\n",
              "          const element = document.querySelector('#df-ea676a1a-d112-4bf0-b5f8-72ca211ecbe6');\n",
              "          const dataTable =\n",
              "            await google.colab.kernel.invokeFunction('convertToInteractive',\n",
              "                                                     [key], {});\n",
              "          if (!dataTable) return;\n",
              "\n",
              "          const docLinkHtml = 'Like what you see? Visit the ' +\n",
              "            '<a target=\"_blank\" href=https://colab.research.google.com/notebooks/data_table.ipynb>data table notebook</a>'\n",
              "            + ' to learn more about interactive tables.';\n",
              "          element.innerHTML = '';\n",
              "          dataTable['output_type'] = 'display_data';\n",
              "          await google.colab.output.renderOutput(dataTable, element);\n",
              "          const docLink = document.createElement('div');\n",
              "          docLink.innerHTML = docLinkHtml;\n",
              "          element.appendChild(docLink);\n",
              "        }\n",
              "      </script>\n",
              "    </div>\n",
              "  </div>\n",
              "  "
            ]
          },
          "metadata": {},
          "execution_count": 254
        }
      ]
    },
    {
      "cell_type": "code",
      "source": [
        "df.info()"
      ],
      "metadata": {
        "colab": {
          "base_uri": "https://localhost:8080/"
        },
        "id": "CNibq7ktHNde",
        "outputId": "34a5972b-02c4-435e-d763-49b6da477de1"
      },
      "execution_count": null,
      "outputs": [
        {
          "output_type": "stream",
          "name": "stdout",
          "text": [
            "<class 'pandas.core.frame.DataFrame'>\n",
            "RangeIndex: 5630 entries, 0 to 5629\n",
            "Data columns (total 20 columns):\n",
            " #   Column                       Non-Null Count  Dtype  \n",
            "---  ------                       --------------  -----  \n",
            " 0   CustomerID                   5630 non-null   int64  \n",
            " 1   Churn                        5630 non-null   int64  \n",
            " 2   Tenure                       5630 non-null   float64\n",
            " 3   PreferredLoginDevice         5630 non-null   object \n",
            " 4   CityTier                     5630 non-null   int64  \n",
            " 5   WarehouseToHome              5630 non-null   float64\n",
            " 6   PreferredPaymentMode         5630 non-null   object \n",
            " 7   Gender                       5630 non-null   object \n",
            " 8   HourSpendOnApp               5630 non-null   float64\n",
            " 9   NumberOfDeviceRegistered     5630 non-null   int64  \n",
            " 10  PreferedOrderCat             5630 non-null   object \n",
            " 11  SatisfactionScore            5630 non-null   int64  \n",
            " 12  MaritalStatus                5630 non-null   object \n",
            " 13  NumberOfAddress              5630 non-null   int64  \n",
            " 14  Complain                     5630 non-null   int64  \n",
            " 15  OrderAmountHikeFromlastYear  5630 non-null   float64\n",
            " 16  CouponUsed                   5630 non-null   float64\n",
            " 17  OrderCount                   5630 non-null   float64\n",
            " 18  DaySinceLastOrder            5630 non-null   float64\n",
            " 19  CashbackAmount               5630 non-null   float64\n",
            "dtypes: float64(8), int64(7), object(5)\n",
            "memory usage: 879.8+ KB\n"
          ]
        }
      ]
    },
    {
      "cell_type": "markdown",
      "source": [
        "> Before starting the Avanced Analysis we should diferenciate the numerical and categorical features. So we can run a deep, seperate feature type specific analysis."
      ],
      "metadata": {
        "id": "1vM6d5Z2dJya"
      }
    },
    {
      "cell_type": "code",
      "source": [
        "for i in df.columns:\n",
        "  print(f\"{i} -> {df[i].unique()} -> {len(df[i].unique())}\")\n",
        "  print()"
      ],
      "metadata": {
        "colab": {
          "base_uri": "https://localhost:8080/"
        },
        "id": "s3V66JNYkmlE",
        "outputId": "54c0507e-6e7a-4940-8fde-f0306e212753"
      },
      "execution_count": null,
      "outputs": [
        {
          "output_type": "stream",
          "name": "stdout",
          "text": [
            "CustomerID -> [50001 50002 50003 ... 55628 55629 55630] -> 5630\n",
            "\n",
            "Churn -> [1 0] -> 2\n",
            "\n",
            "Tenure -> [ 4.  9.  0. 13. 11. 19. 20. 14.  8. 18.  5.  2. 30.  1. 23.  3. 29.  6.\n",
            " 26. 28.  7. 24. 25. 10. 15. 22. 27. 16. 12. 21. 17. 50. 60. 31. 51. 61.] -> 36\n",
            "\n",
            "PreferredLoginDevice -> ['Mobile Phone' 'Phone' 'Computer'] -> 3\n",
            "\n",
            "CityTier -> [3 1 2] -> 3\n",
            "\n",
            "WarehouseToHome -> [  6.   8.  30.  15.  12.  22.  11.   9.  31.  18.  13.  20.  29.  28.\n",
            "  26.  14.  10.  27.  17.  23.  33.  19.  35.  24.  16.  25.  32.  34.\n",
            "   5.  21. 126.   7.  36. 127.] -> 34\n",
            "\n",
            "PreferredPaymentMode -> ['Debit Card' 'UPI' 'CC' 'Cash on Delivery' 'E wallet' 'COD' 'Credit Card'] -> 7\n",
            "\n",
            "Gender -> ['Female' 'Male'] -> 2\n",
            "\n",
            "HourSpendOnApp -> [3. 2. 1. 0. 4. 5.] -> 6\n",
            "\n",
            "NumberOfDeviceRegistered -> [3 4 5 2 1 6] -> 6\n",
            "\n",
            "PreferedOrderCat -> ['Laptop & Accessory' 'Mobile' 'Mobile Phone' 'Others' 'Fashion' 'Grocery'] -> 6\n",
            "\n",
            "SatisfactionScore -> [2 3 5 4 1] -> 5\n",
            "\n",
            "MaritalStatus -> ['Single' 'Divorced' 'Married'] -> 3\n",
            "\n",
            "NumberOfAddress -> [ 9  7  6  8  3  2  4 10  1  5 19 21 11 20 22] -> 15\n",
            "\n",
            "Complain -> [1 0] -> 2\n",
            "\n",
            "OrderAmountHikeFromlastYear -> [11. 15. 14. 23. 22. 16. 12. 13. 17. 18. 24. 19. 20. 21. 25. 26.] -> 16\n",
            "\n",
            "CouponUsed -> [ 1.  0.  4.  2.  9.  6. 11.  7. 12. 10.  5.  3. 13. 15.  8. 14. 16.] -> 17\n",
            "\n",
            "OrderCount -> [ 1.  6.  2. 15.  4.  7.  3.  9. 11.  5. 12. 10.  8. 13. 14. 16.] -> 16\n",
            "\n",
            "DaySinceLastOrder -> [ 5.  0.  3.  7.  2.  1.  8.  6.  4. 15.  9. 11. 10. 13. 12. 17. 16. 14.\n",
            " 30. 46. 18. 31.] -> 22\n",
            "\n",
            "CashbackAmount -> [159.93 120.9  120.28 ... 173.77 287.91 173.78] -> 2586\n",
            "\n"
          ]
        }
      ]
    },
    {
      "cell_type": "code",
      "source": [
        "numerical_features = []\n",
        "categorical_features = []\n",
        "\n",
        "for i in df.columns:\n",
        "  if len(df[i].unique()) <= 3 or df[i].dtypes == object:\n",
        "    categorical_features.append(i)\n",
        "  else:\n",
        "    numerical_features.append(i)\n",
        "\n",
        "print(f\"Out of 20 features we have {len(categorical_features)} categorical feature which are:\")\n",
        "print(categorical_features)\n",
        "print()\n",
        "print()\n",
        "print(f\"Out of 20 features we have {len(numerical_features)} numerical feature which are:\")\n",
        "print(numerical_features)"
      ],
      "metadata": {
        "colab": {
          "base_uri": "https://localhost:8080/"
        },
        "id": "p4i_O3rxdIWq",
        "outputId": "2be01d68-b27e-46b3-dfb7-4ca0aa562875"
      },
      "execution_count": null,
      "outputs": [
        {
          "output_type": "stream",
          "name": "stdout",
          "text": [
            "Out of 20 features we have 8 categorical feature which are:\n",
            "['Churn', 'PreferredLoginDevice', 'CityTier', 'PreferredPaymentMode', 'Gender', 'PreferedOrderCat', 'MaritalStatus', 'Complain']\n",
            "\n",
            "\n",
            "Out of 20 features we have 12 numerical feature which are:\n",
            "['CustomerID', 'Tenure', 'WarehouseToHome', 'HourSpendOnApp', 'NumberOfDeviceRegistered', 'SatisfactionScore', 'NumberOfAddress', 'OrderAmountHikeFromlastYear', 'CouponUsed', 'OrderCount', 'DaySinceLastOrder', 'CashbackAmount']\n"
          ]
        }
      ]
    },
    {
      "cell_type": "markdown",
      "source": [
        "> All features with fewer than three unique variables and features with \"object\" as a datatype have been considered as categorical features. \n",
        "\n",
        "> And the remaining features are considered as numerical features."
      ],
      "metadata": {
        "id": "orkMMmelKDd3"
      }
    },
    {
      "cell_type": "markdown",
      "source": [
        "### **6.2) Train - Cross Validation - Test Split**"
      ],
      "metadata": {
        "id": "4JfPEXmjMlsP"
      }
    },
    {
      "cell_type": "markdown",
      "source": [
        "> We will be splitting the data into three parts.\n",
        "\n",
        "\n",
        "1.   Train\n",
        "2.   Cross Validation\n",
        "3.   Test\n",
        "\n",
        "> We will use train data to train the model,cross validation data to do data analysis and hyperparameter tunning and finally the test data to measure the model performance.\n",
        "\n",
        "> Train - Cross Validation - Test ratio -> (64:16:20) respectively:.\n",
        "\n",
        "\n"
      ],
      "metadata": {
        "id": "vZ0ulPnDND3S"
      }
    },
    {
      "cell_type": "code",
      "source": [
        "target = df[\"Churn\"]\n",
        "\n",
        "combain_df,test_df,y_combain,y_test = train_test_split(df,target,test_size=0.2,random_state=11,stratify=target)\n",
        "train_df,cv_df,y_train,y_cv = train_test_split(combain_df,y_combain,test_size=0.2,random_state=11,stratify=y_combain)"
      ],
      "metadata": {
        "id": "A15eR0ajLCLO"
      },
      "execution_count": null,
      "outputs": []
    },
    {
      "cell_type": "code",
      "source": [
        "print(f\"train_df.shape = {train_df.shape} test_df.shape= {test_df.shape} cv_df.shape= {cv_df.shape}  y_train.shape= {y_train.shape} y_test.shape= {y_test.shape} y_cv.shape= {y_cv.shape}\")"
      ],
      "metadata": {
        "colab": {
          "base_uri": "https://localhost:8080/"
        },
        "id": "8nyHrUR-SHdy",
        "outputId": "6093d5dd-3169-4abc-952f-8a53a343fa15"
      },
      "execution_count": null,
      "outputs": [
        {
          "output_type": "stream",
          "name": "stdout",
          "text": [
            "train_df.shape = (3603, 20) test_df.shape= (1126, 20) cv_df.shape= (901, 20)  y_train.shape= (3603,) y_test.shape= (1126,) y_cv.shape= (901,)\n"
          ]
        }
      ]
    },
    {
      "cell_type": "code",
      "source": [
        "train_df.head()"
      ],
      "metadata": {
        "colab": {
          "base_uri": "https://localhost:8080/",
          "height": 270
        },
        "id": "kds_lm-pSujV",
        "outputId": "1d3970e1-4477-4da0-8cee-cefb65ea74b7"
      },
      "execution_count": null,
      "outputs": [
        {
          "output_type": "execute_result",
          "data": {
            "text/plain": [
              "      CustomerID  Churn  Tenure PreferredLoginDevice  CityTier  \\\n",
              "2153       52154      0     2.0                Phone         1   \n",
              "134        50135      1     0.0             Computer         1   \n",
              "1508       51509      0    30.0         Mobile Phone         1   \n",
              "596        50597      0    23.0         Mobile Phone         1   \n",
              "5163       55164      0     1.0         Mobile Phone         1   \n",
              "\n",
              "      WarehouseToHome PreferredPaymentMode  Gender  HourSpendOnApp  \\\n",
              "2153             14.0           Debit Card  Female             3.0   \n",
              "134              35.0                   CC    Male             3.0   \n",
              "1508             30.0           Debit Card    Male             2.0   \n",
              "596              30.0           Debit Card    Male             3.0   \n",
              "5163              8.0                  COD    Male             3.0   \n",
              "\n",
              "      NumberOfDeviceRegistered PreferedOrderCat  SatisfactionScore  \\\n",
              "2153                         3           Mobile                  1   \n",
              "134                          4           Mobile                  4   \n",
              "1508                         1          Fashion                  1   \n",
              "596                          3          Grocery                  3   \n",
              "5163                         4     Mobile Phone                  1   \n",
              "\n",
              "     MaritalStatus  NumberOfAddress  Complain  OrderAmountHikeFromlastYear  \\\n",
              "2153       Married                5         0                         22.0   \n",
              "134         Single                1         0                         11.0   \n",
              "1508       Married                4         1                         16.0   \n",
              "596       Divorced                4         1                         18.0   \n",
              "5163       Married                6         0                         12.0   \n",
              "\n",
              "      CouponUsed  OrderCount  DaySinceLastOrder  CashbackAmount  \n",
              "2153         1.0         1.0                7.0          125.14  \n",
              "134          1.0         1.0                4.0          134.79  \n",
              "1508         1.0         1.0                4.0          194.39  \n",
              "596          0.0         2.0                5.0          239.73  \n",
              "5163         1.0         2.0                3.0          157.29  "
            ],
            "text/html": [
              "\n",
              "  <div id=\"df-a3d210f1-dc7d-4f8f-8436-65f54a867d7b\">\n",
              "    <div class=\"colab-df-container\">\n",
              "      <div>\n",
              "<style scoped>\n",
              "    .dataframe tbody tr th:only-of-type {\n",
              "        vertical-align: middle;\n",
              "    }\n",
              "\n",
              "    .dataframe tbody tr th {\n",
              "        vertical-align: top;\n",
              "    }\n",
              "\n",
              "    .dataframe thead th {\n",
              "        text-align: right;\n",
              "    }\n",
              "</style>\n",
              "<table border=\"1\" class=\"dataframe\">\n",
              "  <thead>\n",
              "    <tr style=\"text-align: right;\">\n",
              "      <th></th>\n",
              "      <th>CustomerID</th>\n",
              "      <th>Churn</th>\n",
              "      <th>Tenure</th>\n",
              "      <th>PreferredLoginDevice</th>\n",
              "      <th>CityTier</th>\n",
              "      <th>WarehouseToHome</th>\n",
              "      <th>PreferredPaymentMode</th>\n",
              "      <th>Gender</th>\n",
              "      <th>HourSpendOnApp</th>\n",
              "      <th>NumberOfDeviceRegistered</th>\n",
              "      <th>PreferedOrderCat</th>\n",
              "      <th>SatisfactionScore</th>\n",
              "      <th>MaritalStatus</th>\n",
              "      <th>NumberOfAddress</th>\n",
              "      <th>Complain</th>\n",
              "      <th>OrderAmountHikeFromlastYear</th>\n",
              "      <th>CouponUsed</th>\n",
              "      <th>OrderCount</th>\n",
              "      <th>DaySinceLastOrder</th>\n",
              "      <th>CashbackAmount</th>\n",
              "    </tr>\n",
              "  </thead>\n",
              "  <tbody>\n",
              "    <tr>\n",
              "      <th>2153</th>\n",
              "      <td>52154</td>\n",
              "      <td>0</td>\n",
              "      <td>2.0</td>\n",
              "      <td>Phone</td>\n",
              "      <td>1</td>\n",
              "      <td>14.0</td>\n",
              "      <td>Debit Card</td>\n",
              "      <td>Female</td>\n",
              "      <td>3.0</td>\n",
              "      <td>3</td>\n",
              "      <td>Mobile</td>\n",
              "      <td>1</td>\n",
              "      <td>Married</td>\n",
              "      <td>5</td>\n",
              "      <td>0</td>\n",
              "      <td>22.0</td>\n",
              "      <td>1.0</td>\n",
              "      <td>1.0</td>\n",
              "      <td>7.0</td>\n",
              "      <td>125.14</td>\n",
              "    </tr>\n",
              "    <tr>\n",
              "      <th>134</th>\n",
              "      <td>50135</td>\n",
              "      <td>1</td>\n",
              "      <td>0.0</td>\n",
              "      <td>Computer</td>\n",
              "      <td>1</td>\n",
              "      <td>35.0</td>\n",
              "      <td>CC</td>\n",
              "      <td>Male</td>\n",
              "      <td>3.0</td>\n",
              "      <td>4</td>\n",
              "      <td>Mobile</td>\n",
              "      <td>4</td>\n",
              "      <td>Single</td>\n",
              "      <td>1</td>\n",
              "      <td>0</td>\n",
              "      <td>11.0</td>\n",
              "      <td>1.0</td>\n",
              "      <td>1.0</td>\n",
              "      <td>4.0</td>\n",
              "      <td>134.79</td>\n",
              "    </tr>\n",
              "    <tr>\n",
              "      <th>1508</th>\n",
              "      <td>51509</td>\n",
              "      <td>0</td>\n",
              "      <td>30.0</td>\n",
              "      <td>Mobile Phone</td>\n",
              "      <td>1</td>\n",
              "      <td>30.0</td>\n",
              "      <td>Debit Card</td>\n",
              "      <td>Male</td>\n",
              "      <td>2.0</td>\n",
              "      <td>1</td>\n",
              "      <td>Fashion</td>\n",
              "      <td>1</td>\n",
              "      <td>Married</td>\n",
              "      <td>4</td>\n",
              "      <td>1</td>\n",
              "      <td>16.0</td>\n",
              "      <td>1.0</td>\n",
              "      <td>1.0</td>\n",
              "      <td>4.0</td>\n",
              "      <td>194.39</td>\n",
              "    </tr>\n",
              "    <tr>\n",
              "      <th>596</th>\n",
              "      <td>50597</td>\n",
              "      <td>0</td>\n",
              "      <td>23.0</td>\n",
              "      <td>Mobile Phone</td>\n",
              "      <td>1</td>\n",
              "      <td>30.0</td>\n",
              "      <td>Debit Card</td>\n",
              "      <td>Male</td>\n",
              "      <td>3.0</td>\n",
              "      <td>3</td>\n",
              "      <td>Grocery</td>\n",
              "      <td>3</td>\n",
              "      <td>Divorced</td>\n",
              "      <td>4</td>\n",
              "      <td>1</td>\n",
              "      <td>18.0</td>\n",
              "      <td>0.0</td>\n",
              "      <td>2.0</td>\n",
              "      <td>5.0</td>\n",
              "      <td>239.73</td>\n",
              "    </tr>\n",
              "    <tr>\n",
              "      <th>5163</th>\n",
              "      <td>55164</td>\n",
              "      <td>0</td>\n",
              "      <td>1.0</td>\n",
              "      <td>Mobile Phone</td>\n",
              "      <td>1</td>\n",
              "      <td>8.0</td>\n",
              "      <td>COD</td>\n",
              "      <td>Male</td>\n",
              "      <td>3.0</td>\n",
              "      <td>4</td>\n",
              "      <td>Mobile Phone</td>\n",
              "      <td>1</td>\n",
              "      <td>Married</td>\n",
              "      <td>6</td>\n",
              "      <td>0</td>\n",
              "      <td>12.0</td>\n",
              "      <td>1.0</td>\n",
              "      <td>2.0</td>\n",
              "      <td>3.0</td>\n",
              "      <td>157.29</td>\n",
              "    </tr>\n",
              "  </tbody>\n",
              "</table>\n",
              "</div>\n",
              "      <button class=\"colab-df-convert\" onclick=\"convertToInteractive('df-a3d210f1-dc7d-4f8f-8436-65f54a867d7b')\"\n",
              "              title=\"Convert this dataframe to an interactive table.\"\n",
              "              style=\"display:none;\">\n",
              "        \n",
              "  <svg xmlns=\"http://www.w3.org/2000/svg\" height=\"24px\"viewBox=\"0 0 24 24\"\n",
              "       width=\"24px\">\n",
              "    <path d=\"M0 0h24v24H0V0z\" fill=\"none\"/>\n",
              "    <path d=\"M18.56 5.44l.94 2.06.94-2.06 2.06-.94-2.06-.94-.94-2.06-.94 2.06-2.06.94zm-11 1L8.5 8.5l.94-2.06 2.06-.94-2.06-.94L8.5 2.5l-.94 2.06-2.06.94zm10 10l.94 2.06.94-2.06 2.06-.94-2.06-.94-.94-2.06-.94 2.06-2.06.94z\"/><path d=\"M17.41 7.96l-1.37-1.37c-.4-.4-.92-.59-1.43-.59-.52 0-1.04.2-1.43.59L10.3 9.45l-7.72 7.72c-.78.78-.78 2.05 0 2.83L4 21.41c.39.39.9.59 1.41.59.51 0 1.02-.2 1.41-.59l7.78-7.78 2.81-2.81c.8-.78.8-2.07 0-2.86zM5.41 20L4 18.59l7.72-7.72 1.47 1.35L5.41 20z\"/>\n",
              "  </svg>\n",
              "      </button>\n",
              "      \n",
              "  <style>\n",
              "    .colab-df-container {\n",
              "      display:flex;\n",
              "      flex-wrap:wrap;\n",
              "      gap: 12px;\n",
              "    }\n",
              "\n",
              "    .colab-df-convert {\n",
              "      background-color: #E8F0FE;\n",
              "      border: none;\n",
              "      border-radius: 50%;\n",
              "      cursor: pointer;\n",
              "      display: none;\n",
              "      fill: #1967D2;\n",
              "      height: 32px;\n",
              "      padding: 0 0 0 0;\n",
              "      width: 32px;\n",
              "    }\n",
              "\n",
              "    .colab-df-convert:hover {\n",
              "      background-color: #E2EBFA;\n",
              "      box-shadow: 0px 1px 2px rgba(60, 64, 67, 0.3), 0px 1px 3px 1px rgba(60, 64, 67, 0.15);\n",
              "      fill: #174EA6;\n",
              "    }\n",
              "\n",
              "    [theme=dark] .colab-df-convert {\n",
              "      background-color: #3B4455;\n",
              "      fill: #D2E3FC;\n",
              "    }\n",
              "\n",
              "    [theme=dark] .colab-df-convert:hover {\n",
              "      background-color: #434B5C;\n",
              "      box-shadow: 0px 1px 3px 1px rgba(0, 0, 0, 0.15);\n",
              "      filter: drop-shadow(0px 1px 2px rgba(0, 0, 0, 0.3));\n",
              "      fill: #FFFFFF;\n",
              "    }\n",
              "  </style>\n",
              "\n",
              "      <script>\n",
              "        const buttonEl =\n",
              "          document.querySelector('#df-a3d210f1-dc7d-4f8f-8436-65f54a867d7b button.colab-df-convert');\n",
              "        buttonEl.style.display =\n",
              "          google.colab.kernel.accessAllowed ? 'block' : 'none';\n",
              "\n",
              "        async function convertToInteractive(key) {\n",
              "          const element = document.querySelector('#df-a3d210f1-dc7d-4f8f-8436-65f54a867d7b');\n",
              "          const dataTable =\n",
              "            await google.colab.kernel.invokeFunction('convertToInteractive',\n",
              "                                                     [key], {});\n",
              "          if (!dataTable) return;\n",
              "\n",
              "          const docLinkHtml = 'Like what you see? Visit the ' +\n",
              "            '<a target=\"_blank\" href=https://colab.research.google.com/notebooks/data_table.ipynb>data table notebook</a>'\n",
              "            + ' to learn more about interactive tables.';\n",
              "          element.innerHTML = '';\n",
              "          dataTable['output_type'] = 'display_data';\n",
              "          await google.colab.output.renderOutput(dataTable, element);\n",
              "          const docLink = document.createElement('div');\n",
              "          docLink.innerHTML = docLinkHtml;\n",
              "          element.appendChild(docLink);\n",
              "        }\n",
              "      </script>\n",
              "    </div>\n",
              "  </div>\n",
              "  "
            ]
          },
          "metadata": {},
          "execution_count": 260
        }
      ]
    },
    {
      "cell_type": "markdown",
      "source": [
        "### **6.3) Distribution Check**"
      ],
      "metadata": {
        "id": "kmcyqkbrYceh"
      }
    },
    {
      "cell_type": "markdown",
      "source": [
        "> As we have not yet balanced our imbalance data, it is important to determine whether the distributions of the train and test data are similar (based on target variable)\n",
        "\n",
        "\n",
        "> No model will perform better since train and test data come from different distributions (This is one of the important steps when we do a time-based splitting as there is a chance that distribution might change by time)\n",
        "\n"
      ],
      "metadata": {
        "id": "FI7ozbBwS0xx"
      }
    },
    {
      "cell_type": "code",
      "source": [
        "plt.subplot(1,3,1)\n",
        "train_df[\"Churn\"].plot.hist(figsize=(15,5), title= \"train_df.Churn\")\n",
        "plt.subplot(1,3,2)\n",
        "cv_df[\"Churn\"].plot.hist(title= \"cv_df.Churn\")\n",
        "plt.subplot(1,3,3)\n",
        "test_df[\"Churn\"].plot.hist(title= \"test_df.Churn\")"
      ],
      "metadata": {
        "colab": {
          "base_uri": "https://localhost:8080/",
          "height": 353
        },
        "id": "6QcVaijeUg80",
        "outputId": "41c02951-8d4e-436e-ef43-87b74606bede"
      },
      "execution_count": null,
      "outputs": [
        {
          "output_type": "execute_result",
          "data": {
            "text/plain": [
              "<matplotlib.axes._subplots.AxesSubplot at 0x7fdbab140ad0>"
            ]
          },
          "metadata": {},
          "execution_count": 261
        },
        {
          "output_type": "display_data",
          "data": {
            "text/plain": [
              "<Figure size 1080x360 with 3 Axes>"
            ],
            "image/png": "[encoded data removed]"
          },
          "metadata": {
            "needs_background": "light"
          }
        }
      ]
    },
    {
      "cell_type": "markdown",
      "source": [
        "> We can see from the frequencies that all three train, cv and test almost have similar distribution (don't get deceived by the plot look at the scale(frequencies))"
      ],
      "metadata": {
        "id": "BMYBpEOaXs3P"
      }
    },
    {
      "cell_type": "markdown",
      "source": [
        "### **6.4) Random Model**"
      ],
      "metadata": {
        "id": "eBNkVwZtYl3N"
      }
    },
    {
      "cell_type": "markdown",
      "source": [
        "> Random model is a model which generates the class probabilities randomly, and based on that generated class probabilities we will compute the log loss(KPI for this project) of the random model.\n",
        "\n",
        "> We can use this random model as a benchmark, features which does not pass this benchmark will not be used in the final modelling."
      ],
      "metadata": {
        "id": "xjcOw6hxYptE"
      }
    },
    {
      "cell_type": "code",
      "source": [
        "# Generate random probabilities (i.e random number between 0-1) for 2 classes, such that they sum to 1.\n",
        "np.random.seed(250)\n",
        "random_test_prob = np.zeros((y_cv.shape[0],2))\n",
        "for i in range(y_cv.shape[0]):\n",
        "  class_prob = np.random.rand(1,2)\n",
        "  random_test_prob[i] = ((class_prob/sum(sum(class_prob)))[0])\n",
        "print(random_test_prob.shape)\n",
        "random_test_prob"
      ],
      "metadata": {
        "colab": {
          "base_uri": "https://localhost:8080/"
        },
        "id": "jsHI8MWHc0KP",
        "outputId": "d945f4a5-8f50-41ae-c00e-45b6f9bcf36e"
      },
      "execution_count": null,
      "outputs": [
        {
          "output_type": "stream",
          "name": "stdout",
          "text": [
            "(901, 2)\n"
          ]
        },
        {
          "output_type": "execute_result",
          "data": {
            "text/plain": [
              "array([[0.44062455, 0.55937545],\n",
              "       [0.36614016, 0.63385984],\n",
              "       [0.47318912, 0.52681088],\n",
              "       ...,\n",
              "       [0.3121701 , 0.6878299 ],\n",
              "       [0.10446662, 0.89553338],\n",
              "       [0.04124031, 0.95875969]])"
            ]
          },
          "metadata": {},
          "execution_count": 262
        }
      ]
    },
    {
      "cell_type": "code",
      "source": [
        "# Performance of the random model\n",
        "print(f\" The random model has a log loss of {log_loss(y_cv,random_test_prob)} in the cross validate data set\")"
      ],
      "metadata": {
        "colab": {
          "base_uri": "https://localhost:8080/"
        },
        "id": "P0Pwh5Rzgx2-",
        "outputId": "53fdd55f-55cd-4d78-f5a5-a26f6abef9cb"
      },
      "execution_count": null,
      "outputs": [
        {
          "output_type": "stream",
          "name": "stdout",
          "text": [
            " The random model has a log loss of 0.9104425262323852 in the cross validate data set\n"
          ]
        }
      ]
    },
    {
      "cell_type": "markdown",
      "source": [
        "### **6.5) Hypothesis testing**"
      ],
      "metadata": {
        "id": "9fD57zPSmxSw"
      }
    },
    {
      "cell_type": "markdown",
      "source": [
        "> We will do a bunch of hypothesis testing to identify the correlation between \n",
        "\n",
        "> 1. Numerical features -> pearson correlation, spearman correlation\n",
        "> 2. Numerical feature & Target variable -> ANOVA Test\n",
        "> 3. Categorical feature & Target variable -> Chi-2\n",
        "\n"
      ],
      "metadata": {
        "id": "63xukCGym4Pa"
      }
    },
    {
      "cell_type": "markdown",
      "source": [
        "**6.5.1) Feature - Feature Correlation (Numberical features)**"
      ],
      "metadata": {
        "id": "7GlMHkLTIwHc"
      }
    },
    {
      "cell_type": "markdown",
      "source": [
        "***6.5.1.1) Pearson Correlation***"
      ],
      "metadata": {
        "id": "lV4nzcJqDZjy"
      }
    },
    {
      "cell_type": "code",
      "source": [
        "plt.subplots(figsize=(15,10))\n",
        "sns.heatmap(train_df[numerical_features].corr(method='pearson'),cmap=\"YlGnBu\",annot=True)"
      ],
      "metadata": {
        "colab": {
          "base_uri": "https://localhost:8080/",
          "height": 756
        },
        "id": "jH1k_fRzEAfW",
        "outputId": "8d665365-f979-4b75-e963-4594d4eca457"
      },
      "execution_count": null,
      "outputs": [
        {
          "output_type": "execute_result",
          "data": {
            "text/plain": [
              "<matplotlib.axes._subplots.AxesSubplot at 0x7fdbab17d0d0>"
            ]
          },
          "metadata": {},
          "execution_count": 264
        },
        {
          "output_type": "display_data",
          "data": {
            "text/plain": [
              "<Figure size 1080x720 with 2 Axes>"
            ],
            "image/png": "[encoded data removed]"
          },
          "metadata": {
            "needs_background": "light"
          }
        }
      ]
    },
    {
      "cell_type": "markdown",
      "source": [
        "***6.5.1.2) Spearman Correlation***"
      ],
      "metadata": {
        "id": "bHkGsvOBIeVq"
      }
    },
    {
      "cell_type": "code",
      "source": [
        "plt.subplots(figsize=(15,10))\n",
        "sns.heatmap(train_df[numerical_features].corr(method='spearman'),cmap=\"gist_earth\",annot=True)"
      ],
      "metadata": {
        "colab": {
          "base_uri": "https://localhost:8080/",
          "height": 756
        },
        "id": "TRbMm1PXH3sE",
        "outputId": "b1b082c1-fb1a-4270-a5be-71e896cb5c8c"
      },
      "execution_count": null,
      "outputs": [
        {
          "output_type": "execute_result",
          "data": {
            "text/plain": [
              "<matplotlib.axes._subplots.AxesSubplot at 0x7fdbaae61a90>"
            ]
          },
          "metadata": {},
          "execution_count": 265
        },
        {
          "output_type": "display_data",
          "data": {
            "text/plain": [
              "<Figure size 1080x720 with 2 Axes>"
            ],
            "image/png": "[encoded data removed]"
          },
          "metadata": {
            "needs_background": "light"
          }
        }
      ]
    },
    {
      "cell_type": "markdown",
      "source": [
        "> we can clearly see that there is no two features which has a correlation greater than 0.8 (high positive correlation) or less than -0.8 (high negative correlation) in either of pearson nor spearman correlation.\n",
        "\n",
        "> **Conclusion**: From this analysis it is found that no two numerical features are linearly or monotonically related. Hence we are not removing any feature in this step."
      ],
      "metadata": {
        "id": "W-hdu_Z9Kggj"
      }
    },
    {
      "cell_type": "markdown",
      "source": [
        "**6.5.2) Feature - Target Correlation (Numerical & Categorical features)**"
      ],
      "metadata": {
        "id": "w2kcCFDELQrH"
      }
    },
    {
      "cell_type": "markdown",
      "source": [
        "***6.5.2.1) ANOVA - Test (Analysis of Variance)***"
      ],
      "metadata": {
        "id": "J0TEwGRzPdT9"
      }
    },
    {
      "cell_type": "code",
      "source": [
        "f_value,p_value = f_classif(train_df[numerical_features], y_train)"
      ],
      "metadata": {
        "id": "uFGu69jPPvwo"
      },
      "execution_count": null,
      "outputs": []
    },
    {
      "cell_type": "code",
      "source": [
        "anova = {}\n",
        "for i,j in enumerate(train_df[numerical_features]):\n",
        "  anova[j] = f_value[i]\n",
        "anova"
      ],
      "metadata": {
        "colab": {
          "base_uri": "https://localhost:8080/"
        },
        "id": "jsAo0jYiSDjC",
        "outputId": "640de42c-27ea-4002-9bc0-48b60cb06f9e"
      },
      "execution_count": null,
      "outputs": [
        {
          "output_type": "execute_result",
          "data": {
            "text/plain": [
              "{'CashbackAmount': 102.41047929399815,\n",
              " 'CouponUsed': 0.01348547399825066,\n",
              " 'CustomerID': 1.7475138894722386,\n",
              " 'DaySinceLastOrder': 87.37305228120564,\n",
              " 'HourSpendOnApp': 2.1263704236431136,\n",
              " 'NumberOfAddress': 5.84804887352301,\n",
              " 'NumberOfDeviceRegistered': 41.25728156915337,\n",
              " 'OrderAmountHikeFromlastYear': 0.6243344323633063,\n",
              " 'OrderCount': 2.3423421571575522,\n",
              " 'SatisfactionScore': 39.89616022917226,\n",
              " 'Tenure': 436.3543766819864,\n",
              " 'WarehouseToHome': 23.708411648989802}"
            ]
          },
          "metadata": {},
          "execution_count": 267
        }
      ]
    },
    {
      "cell_type": "code",
      "source": [
        "bar = sns.barplot(x = numerical_features,y=f_value)\n",
        "plt.xticks(rotation=90)"
      ],
      "metadata": {
        "colab": {
          "base_uri": "https://localhost:8080/",
          "height": 443
        },
        "id": "MlBy5DM2WI06",
        "outputId": "e01751b8-dd43-4322-9e2a-585da850f0ec"
      },
      "execution_count": null,
      "outputs": [
        {
          "output_type": "execute_result",
          "data": {
            "text/plain": [
              "(array([ 0,  1,  2,  3,  4,  5,  6,  7,  8,  9, 10, 11]),\n",
              " <a list of 12 Text major ticklabel objects>)"
            ]
          },
          "metadata": {},
          "execution_count": 268
        },
        {
          "output_type": "display_data",
          "data": {
            "text/plain": [
              "<Figure size 432x288 with 1 Axes>"
            ],
            "image/png": "[encoded data removed]"
          },
          "metadata": {
            "needs_background": "light"
          }
        }
      ]
    },
    {
      "cell_type": "markdown",
      "source": [
        "> We can clearly see fetures like Tenure,CashbackAmount and DaySinceLastOrder has higher correlation with the target variable where as features like CouponUsed, OrderAmountHikeFromlastYear and CustomerID(we dont need to care about this, as this will be removed in the end) have very less correlation with the Target variable"
      ],
      "metadata": {
        "id": "OmQu21FFYCrW"
      }
    },
    {
      "cell_type": "markdown",
      "source": [
        "**6.5.3) Feature - Target Correlation (Categorical & Categorical features)**"
      ],
      "metadata": {
        "id": "uAKgUvESZEi8"
      }
    },
    {
      "cell_type": "markdown",
      "source": [
        "***6.5.3.1) Chi^2 Test***"
      ],
      "metadata": {
        "id": "F25x9IdLZTpJ"
      }
    },
    {
      "cell_type": "markdown",
      "source": [
        "> **Note**: that befor going to chi^2 Test we should encode the object datatyped categorical variables. Label Encoding is used for converting object datatyped categorical variables to ordinal variables.(this is only for this step while actual modelling we will be using one-hot encoding to encode the categorical features) "
      ],
      "metadata": {
        "id": "4B4pJtrymRy0"
      }
    },
    {
      "cell_type": "code",
      "source": [
        "df4 = train_df.copy()\n",
        "df5 = cv_df.copy()\n",
        "object_list = df4.select_dtypes(include = \"object\").columns\n",
        "object_list"
      ],
      "metadata": {
        "colab": {
          "base_uri": "https://localhost:8080/"
        },
        "id": "wPTPpYP4ZTAZ",
        "outputId": "483e95b3-8f4e-47bf-fe86-b0e8cdc52374"
      },
      "execution_count": null,
      "outputs": [
        {
          "output_type": "execute_result",
          "data": {
            "text/plain": [
              "Index(['PreferredLoginDevice', 'PreferredPaymentMode', 'Gender',\n",
              "       'PreferedOrderCat', 'MaritalStatus'],\n",
              "      dtype='object')"
            ]
          },
          "metadata": {},
          "execution_count": 269
        }
      ]
    },
    {
      "cell_type": "code",
      "source": [
        "le = LabelEncoder()\n",
        "df4[object_list] = df4[object_list].apply(le.fit_transform)\n",
        "df5[object_list] = df5[object_list].apply(le.fit_transform)"
      ],
      "metadata": {
        "id": "ay3hJ3j2fZ9q"
      },
      "execution_count": null,
      "outputs": []
    },
    {
      "cell_type": "code",
      "source": [
        "skb = SelectKBest(score_func=chi2,k=\"all\")\n",
        "chi= skb.fit(df4[categorical_features],y_train)\n",
        "chi_score = chi.scores_.round(1)\n",
        "chi_score"
      ],
      "metadata": {
        "colab": {
          "base_uri": "https://localhost:8080/"
        },
        "id": "szgeLI11f6FY",
        "outputId": "e35aad91-6630-4053-8966-b50bdac991bb"
      },
      "execution_count": null,
      "outputs": [
        {
          "output_type": "execute_result",
          "data": {
            "text/plain": [
              "array([2.997e+03, 3.700e+00, 1.470e+01, 2.000e-01, 1.600e+00, 4.210e+01,\n",
              "       2.440e+01, 1.627e+02])"
            ]
          },
          "metadata": {},
          "execution_count": 271
        }
      ]
    },
    {
      "cell_type": "code",
      "source": [
        "bar = sns.barplot(x = categorical_features[1:],y=chi_score[1:])\n",
        "plt.xticks(rotation=90)"
      ],
      "metadata": {
        "colab": {
          "base_uri": "https://localhost:8080/",
          "height": 389
        },
        "id": "OfzNvvRzgSfT",
        "outputId": "2c4d7a91-bbf0-46d0-cb46-6e8351455325"
      },
      "execution_count": null,
      "outputs": [
        {
          "output_type": "execute_result",
          "data": {
            "text/plain": [
              "(array([0, 1, 2, 3, 4, 5, 6]), <a list of 7 Text major ticklabel objects>)"
            ]
          },
          "metadata": {},
          "execution_count": 272
        },
        {
          "output_type": "display_data",
          "data": {
            "text/plain": [
              "<Figure size 432x288 with 1 Axes>"
            ],
            "image/png": "[encoded data removed]"
          },
          "metadata": {
            "needs_background": "light"
          }
        }
      ]
    },
    {
      "cell_type": "markdown",
      "source": [
        "> We can clearly see fetures like Complain, PrefferedOrderCat and MaritalStatus has higher correlation with the target variable where as features like PreferredLoginDevice, PreferredPaymentMode and Gender have very less correlation with the Target variable"
      ],
      "metadata": {
        "id": "4sHtsx9giSuL"
      }
    },
    {
      "cell_type": "markdown",
      "source": [
        "**6.5.4) Conclusion (Hypothesis Testing)**"
      ],
      "metadata": {
        "id": "9y8D9eJlnVF9"
      }
    },
    {
      "cell_type": "markdown",
      "source": [
        "1) Feature - Feature Correlation (Numberical features)\n",
        "\n",
        "   > No two numerical features have high correlation \n",
        "\n",
        "2) Feature - Target Correlation (Numerical & Categorical features)\n",
        "\n",
        "   > Features like CouponUsed, OrderAmountHikeFromlastYear have low correlation with the Target variable. Hence they will be modelled to check if they can beat the benchmark. If they failed to beat the bench mark then they will be removed before final modelling.\n",
        "\n",
        "   > Fetures like Tenure,CashbackAmount and DaySinceLastOrder has higher correlation with the Target variable. Hence we will check if these features have any outliers, because as they have high correation with the target variable, outliers in these features will highly impact our models performance.\n",
        "\n",
        "3) Feature - Target Correlation (Categorical & Categorical features)\n",
        "\n",
        "   > Features like PreferredLoginDevice, PreferredPaymentMode and Gender have very less correlation with the Target variable. Hence they will be modelled to check if they can beat the benchmark. If they failed to beat the bench mark then they will be removed before final modelling.\n"
      ],
      "metadata": {
        "id": "BBW18gAfngvr"
      }
    },
    {
      "cell_type": "markdown",
      "source": [
        "### **6.6) Univarient Analysis**"
      ],
      "metadata": {
        "id": "4gt4QAEspz5V"
      }
    },
    {
      "cell_type": "code",
      "source": [
        "def univarientmodel(feature_name, parameters):\n",
        "  for i in parameters:\n",
        "    sgd = SGDClassifier(loss='log',alpha = i)\n",
        "    sgd.fit(np.array(df4[feature_name]).reshape(-1,1),y_train)\n",
        "    sgd_score = sgd.predict_proba(np.array(df5[feature_name]).reshape(-1,1))\n",
        "    print(f\"log loss for alpha = {i} is {(log_loss(y_cv,sgd_score)).round(5)}\")"
      ],
      "metadata": {
        "id": "0i1ElPlPrfVG"
      },
      "execution_count": null,
      "outputs": []
    },
    {
      "cell_type": "markdown",
      "source": [
        "**6.6.1) Numerical Features**"
      ],
      "metadata": {
        "id": "79PVB7Mrp9X2"
      }
    },
    {
      "cell_type": "markdown",
      "source": [
        "***1) CouponUsed***"
      ],
      "metadata": {
        "id": "To_LD6GKtDi_"
      }
    },
    {
      "cell_type": "code",
      "source": [
        "parameters = {0.001,0.01,0.1,1,10,100}\n",
        "univarientmodel(\"CouponUsed\",parameters)"
      ],
      "metadata": {
        "colab": {
          "base_uri": "https://localhost:8080/"
        },
        "id": "TvrtBojgtS1X",
        "outputId": "80000a7d-7309-4b1d-92f5-6f89c1d0ee27"
      },
      "execution_count": null,
      "outputs": [
        {
          "output_type": "stream",
          "name": "stdout",
          "text": [
            "log loss for alpha = 0.1 is 0.45376\n",
            "log loss for alpha = 1 is 0.46096\n",
            "log loss for alpha = 100 is 0.63212\n",
            "log loss for alpha = 10 is 0.63347\n",
            "log loss for alpha = 0.01 is 0.45382\n",
            "log loss for alpha = 0.001 is 0.45441\n"
          ]
        }
      ]
    },
    {
      "cell_type": "markdown",
      "source": [
        "> alpha = 0.1 is the best value for hyper parameter, for which the model has recoded a log loss of 0.453. As the model beaten the benchmark this model is considered useful in predicting the target variable."
      ],
      "metadata": {
        "id": "itKVS61Ov2Tt"
      }
    },
    {
      "cell_type": "markdown",
      "source": [
        "***2) OrderAmountHikeFromlastYear***"
      ],
      "metadata": {
        "id": "Eftv673Lw3_W"
      }
    },
    {
      "cell_type": "code",
      "source": [
        "parameters = {0.001,0.01,0.1,1,10,100}\n",
        "univarientmodel(\"OrderAmountHikeFromlastYear\",parameters)"
      ],
      "metadata": {
        "colab": {
          "base_uri": "https://localhost:8080/"
        },
        "id": "aJwYYR6bw_gl",
        "outputId": "fe603581-134b-4534-87d0-0b0cb425522d"
      },
      "execution_count": null,
      "outputs": [
        {
          "output_type": "stream",
          "name": "stdout",
          "text": [
            "log loss for alpha = 0.1 is 0.45587\n",
            "log loss for alpha = 1 is 0.45843\n",
            "log loss for alpha = 100 is 0.53662\n",
            "log loss for alpha = 10 is 0.46411\n",
            "log loss for alpha = 0.01 is 0.47961\n",
            "log loss for alpha = 0.001 is 0.46287\n"
          ]
        }
      ]
    },
    {
      "cell_type": "markdown",
      "source": [
        "> alpha = 0.1 is the best value for hyper parameter, for which the model has recoded a log loss of 0.455. As the model beaten the benchmark this model is considered useful in predicting the target variable."
      ],
      "metadata": {
        "id": "jmYjirAaxQ0q"
      }
    },
    {
      "cell_type": "markdown",
      "source": [
        "**6.6.2) Categorical Feartures**"
      ],
      "metadata": {
        "id": "mrEudHXTxW4p"
      }
    },
    {
      "cell_type": "markdown",
      "source": [
        "***1) PreferredLoginDevice***"
      ],
      "metadata": {
        "id": "yV6V6DV5xfud"
      }
    },
    {
      "cell_type": "code",
      "source": [
        "parameters = {0.001,0.01,0.1,1,10,100}\n",
        "univarientmodel(\"PreferredLoginDevice\",parameters)"
      ],
      "metadata": {
        "colab": {
          "base_uri": "https://localhost:8080/"
        },
        "id": "Wojzicsdx1OG",
        "outputId": "2daf0ee2-8bc6-48eb-f689-ea50debd08ec"
      },
      "execution_count": null,
      "outputs": [
        {
          "output_type": "stream",
          "name": "stdout",
          "text": [
            "log loss for alpha = 0.1 is 0.45514\n",
            "log loss for alpha = 1 is 0.45632\n",
            "log loss for alpha = 100 is 0.63534\n",
            "log loss for alpha = 10 is 0.54742\n",
            "log loss for alpha = 0.01 is 0.45818\n",
            "log loss for alpha = 0.001 is 0.45752\n"
          ]
        }
      ]
    },
    {
      "cell_type": "markdown",
      "source": [
        "***2) PreferredPaymentMode***"
      ],
      "metadata": {
        "id": "ayrxchjJ2agO"
      }
    },
    {
      "cell_type": "code",
      "source": [
        "parameters = {0.001,0.01,0.1,1,10,100}\n",
        "univarientmodel(\"PreferredPaymentMode\",parameters)"
      ],
      "metadata": {
        "colab": {
          "base_uri": "https://localhost:8080/"
        },
        "id": "MpPvEWri2g2F",
        "outputId": "b9acee18-e831-4dda-83ca-8a2bbd0662ec"
      },
      "execution_count": null,
      "outputs": [
        {
          "output_type": "stream",
          "name": "stdout",
          "text": [
            "log loss for alpha = 0.1 is 0.45359\n",
            "log loss for alpha = 1 is 0.46787\n",
            "log loss for alpha = 100 is 0.62657\n",
            "log loss for alpha = 10 is 0.59434\n",
            "log loss for alpha = 0.01 is 0.45402\n",
            "log loss for alpha = 0.001 is 0.45369\n"
          ]
        }
      ]
    },
    {
      "cell_type": "markdown",
      "source": [
        "***3) Gender***"
      ],
      "metadata": {
        "id": "hx1VVL1A2pxH"
      }
    },
    {
      "cell_type": "code",
      "source": [
        "parameters = {0.001,0.01,0.1,1,10,100}\n",
        "univarientmodel(\"Gender\",parameters)"
      ],
      "metadata": {
        "colab": {
          "base_uri": "https://localhost:8080/"
        },
        "id": "xRaVFWKU2sey",
        "outputId": "a188bcde-d640-418d-cf7e-a2fd7873f457"
      },
      "execution_count": null,
      "outputs": [
        {
          "output_type": "stream",
          "name": "stdout",
          "text": [
            "log loss for alpha = 0.1 is 0.45424\n",
            "log loss for alpha = 1 is 0.45647\n",
            "log loss for alpha = 100 is 0.63513\n",
            "log loss for alpha = 10 is 0.65549\n",
            "log loss for alpha = 0.01 is 0.45522\n",
            "log loss for alpha = 0.001 is 0.45784\n"
          ]
        }
      ]
    },
    {
      "cell_type": "markdown",
      "source": [
        "> Clearly all the features beaten the benchmark. Hence no feature will be removed"
      ],
      "metadata": {
        "id": "XHNW92UY2yz8"
      }
    },
    {
      "cell_type": "markdown",
      "source": [
        "***6.6.3) Outliers***"
      ],
      "metadata": {
        "id": "0-1Q8-Qp3A04"
      }
    },
    {
      "cell_type": "code",
      "source": [
        "plt.subplots(figsize=(20,7))\n",
        "plt.subplot(1,3,1)\n",
        "sns.scatterplot(x = \"Tenure\", y= \"DaySinceLastOrder\", hue=\"Churn\", data=train_df )\n",
        "plt.subplot(1,3,2)\n",
        "sns.scatterplot(x = \"Tenure\", y= \"CashbackAmount\", hue=\"Churn\", data=train_df )\n",
        "plt.subplot(1,3,3)\n",
        "sns.scatterplot(x = \"CashbackAmount\", y= \"DaySinceLastOrder\", hue=\"Churn\", data=train_df )"
      ],
      "metadata": {
        "colab": {
          "base_uri": "https://localhost:8080/",
          "height": 459
        },
        "id": "b8OO-aJy3Mdo",
        "outputId": "d0e2fd59-58fc-4429-a0c4-6143c6b9528a"
      },
      "execution_count": null,
      "outputs": [
        {
          "output_type": "execute_result",
          "data": {
            "text/plain": [
              "<matplotlib.axes._subplots.AxesSubplot at 0x7fdbaa6e8110>"
            ]
          },
          "metadata": {},
          "execution_count": 289
        },
        {
          "output_type": "display_data",
          "data": {
            "text/plain": [
              "<Figure size 1440x504 with 3 Axes>"
            ],
            "image/png": "[encoded data removed]"
          },
          "metadata": {
            "needs_background": "light"
          }
        }
      ]
    },
    {
      "cell_type": "markdown",
      "source": [
        "### **6.7) Model Preparation**"
      ],
      "metadata": {
        "id": "ozH62bx64_AT"
      }
    },
    {
      "cell_type": "code",
      "source": [
        "train_df = train_df.drop([\"Churn\",\"CustomerID\"], axis = 1)\n",
        "cv_df = cv_df.drop([\"Churn\",\"CustomerID\"], axis = 1)\n",
        "test_df = test_df.drop([\"Churn\",\"CustomerID\"], axis = 1)\n"
      ],
      "metadata": {
        "colab": {
          "base_uri": "https://localhost:8080/"
        },
        "id": "pY8aGRh1CDSz",
        "outputId": "34cec974-405e-437f-b1e7-f1be3531c344"
      },
      "execution_count": null,
      "outputs": [
        {
          "output_type": "execute_result",
          "data": {
            "text/plain": [
              "['CustomerID',\n",
              " 'Tenure',\n",
              " 'WarehouseToHome',\n",
              " 'HourSpendOnApp',\n",
              " 'NumberOfDeviceRegistered',\n",
              " 'SatisfactionScore',\n",
              " 'NumberOfAddress',\n",
              " 'OrderAmountHikeFromlastYear',\n",
              " 'CouponUsed',\n",
              " 'OrderCount',\n",
              " 'DaySinceLastOrder',\n",
              " 'CashbackAmount']"
            ]
          },
          "metadata": {},
          "execution_count": 313
        }
      ]
    },
    {
      "cell_type": "code",
      "source": [
        "numerical_features = numerical_features[1:]"
      ],
      "metadata": {
        "id": "pAO90ePZCMhL"
      },
      "execution_count": null,
      "outputs": []
    },
    {
      "cell_type": "markdown",
      "source": [
        "**6.7.1) Standerd Scaling**"
      ],
      "metadata": {
        "id": "N8Ce1erTANir"
      }
    },
    {
      "cell_type": "code",
      "source": [
        "scaling = StandardScaler()\n",
        "train_df[numerical_features] = scaling.fit_transform(train_df[numerical_features])\n",
        "cv_df[numerical_features] = scaling.transform(cv_df[numerical_features])\n",
        "test_df[numerical_features] = scaling.transform(test_df[numerical_features])"
      ],
      "metadata": {
        "id": "WDgZe9j-9RYR"
      },
      "execution_count": null,
      "outputs": []
    },
    {
      "cell_type": "code",
      "source": [
        "train_df.head(10)"
      ],
      "metadata": {
        "colab": {
          "base_uri": "https://localhost:8080/",
          "height": 462
        },
        "id": "OEXju-Z3C6ok",
        "outputId": "c4e32219-d7e0-4557-a568-5ea37776da93"
      },
      "execution_count": null,
      "outputs": [
        {
          "output_type": "execute_result",
          "data": {
            "text/plain": [
              "        Tenure PreferredLoginDevice  CityTier  WarehouseToHome  \\\n",
              "2153 -0.979639                Phone         1        -0.183639   \n",
              "134  -1.217951             Computer         1         2.278216   \n",
              "1508  2.356730         Mobile Phone         1         1.692060   \n",
              "596   1.522638         Mobile Phone         1         1.692060   \n",
              "5163 -1.098795         Mobile Phone         1        -0.887027   \n",
              "545  -1.217951                Phone         1        -0.183639   \n",
              "4907  0.211921         Mobile Phone         3        -0.652564   \n",
              "2905  0.569389         Mobile Phone         3        -0.300871   \n",
              "906  -0.145547         Mobile Phone         3        -0.066408   \n",
              "3876 -1.098795             Computer         3         0.402517   \n",
              "\n",
              "     PreferredPaymentMode  Gender  HourSpendOnApp  NumberOfDeviceRegistered  \\\n",
              "2153           Debit Card  Female        0.098886                 -0.660345   \n",
              "134                    CC    Male        0.098886                  0.310370   \n",
              "1508           Debit Card    Male       -1.331988                 -2.601777   \n",
              "596            Debit Card    Male        0.098886                 -0.660345   \n",
              "5163                  COD    Male        0.098886                  0.310370   \n",
              "545            Debit Card  Female        0.098886                 -0.660345   \n",
              "4907           Debit Card    Male        0.098886                  0.310370   \n",
              "2905           Debit Card  Female        1.529761                  0.310370   \n",
              "906              E wallet    Male       -1.331988                 -0.660345   \n",
              "3876                  UPI    Male        0.098886                  0.310370   \n",
              "\n",
              "        PreferedOrderCat  SatisfactionScore MaritalStatus  NumberOfAddress  \\\n",
              "2153              Mobile          -1.481300       Married         0.302400   \n",
              "134               Mobile           0.691796        Single        -1.265858   \n",
              "1508             Fashion          -1.481300       Married        -0.089664   \n",
              "596              Grocery          -0.032569      Divorced        -0.089664   \n",
              "5163        Mobile Phone          -1.481300       Married         0.694464   \n",
              "545               Mobile          -0.032569        Single        -0.873793   \n",
              "4907  Laptop & Accessory          -1.481300        Single         2.262722   \n",
              "2905             Fashion          -0.756935        Single         0.302400   \n",
              "906              Fashion          -1.481300       Married         0.302400   \n",
              "3876  Laptop & Accessory          -1.481300        Single         0.302400   \n",
              "\n",
              "      Complain  OrderAmountHikeFromlastYear  CouponUsed  OrderCount  \\\n",
              "2153         0                     1.758251   -0.376999   -0.680750   \n",
              "134          0                    -1.313592   -0.376999   -0.680750   \n",
              "1508         1                     0.082700   -0.376999   -0.680750   \n",
              "596          1                     0.641217   -0.906975   -0.332843   \n",
              "5163         0                    -1.034334   -0.376999   -0.332843   \n",
              "545          0                     0.920476   -0.376999   -0.680750   \n",
              "4907         1                    -0.755075    0.152977   -0.332843   \n",
              "2905         1                     0.920476   -0.376999   -0.332843   \n",
              "906          0                    -1.313592   -0.906975    0.362970   \n",
              "3876         1                     2.596026    1.212928    1.406690   \n",
              "\n",
              "      DaySinceLastOrder  CashbackAmount  \n",
              "2153           0.633607       -1.066924  \n",
              "134           -0.182098       -0.871369  \n",
              "1508          -0.182098        0.336413  \n",
              "596            0.089804        1.255219  \n",
              "5163          -0.453999       -0.415411  \n",
              "545           -1.269704       -1.106643  \n",
              "4907          -0.997803        0.320607  \n",
              "2905          -0.997803        1.684428  \n",
              "906           -0.453999        0.469553  \n",
              "3876           0.905509       -0.141430  "
            ],
            "text/html": [
              "\n",
              "  <div id=\"df-929b3f09-c2b5-41db-9ba8-54085babce83\">\n",
              "    <div class=\"colab-df-container\">\n",
              "      <div>\n",
              "<style scoped>\n",
              "    .dataframe tbody tr th:only-of-type {\n",
              "        vertical-align: middle;\n",
              "    }\n",
              "\n",
              "    .dataframe tbody tr th {\n",
              "        vertical-align: top;\n",
              "    }\n",
              "\n",
              "    .dataframe thead th {\n",
              "        text-align: right;\n",
              "    }\n",
              "</style>\n",
              "<table border=\"1\" class=\"dataframe\">\n",
              "  <thead>\n",
              "    <tr style=\"text-align: right;\">\n",
              "      <th></th>\n",
              "      <th>Tenure</th>\n",
              "      <th>PreferredLoginDevice</th>\n",
              "      <th>CityTier</th>\n",
              "      <th>WarehouseToHome</th>\n",
              "      <th>PreferredPaymentMode</th>\n",
              "      <th>Gender</th>\n",
              "      <th>HourSpendOnApp</th>\n",
              "      <th>NumberOfDeviceRegistered</th>\n",
              "      <th>PreferedOrderCat</th>\n",
              "      <th>SatisfactionScore</th>\n",
              "      <th>MaritalStatus</th>\n",
              "      <th>NumberOfAddress</th>\n",
              "      <th>Complain</th>\n",
              "      <th>OrderAmountHikeFromlastYear</th>\n",
              "      <th>CouponUsed</th>\n",
              "      <th>OrderCount</th>\n",
              "      <th>DaySinceLastOrder</th>\n",
              "      <th>CashbackAmount</th>\n",
              "    </tr>\n",
              "  </thead>\n",
              "  <tbody>\n",
              "    <tr>\n",
              "      <th>2153</th>\n",
              "      <td>-0.979639</td>\n",
              "      <td>Phone</td>\n",
              "      <td>1</td>\n",
              "      <td>-0.183639</td>\n",
              "      <td>Debit Card</td>\n",
              "      <td>Female</td>\n",
              "      <td>0.098886</td>\n",
              "      <td>-0.660345</td>\n",
              "      <td>Mobile</td>\n",
              "      <td>-1.481300</td>\n",
              "      <td>Married</td>\n",
              "      <td>0.302400</td>\n",
              "      <td>0</td>\n",
              "      <td>1.758251</td>\n",
              "      <td>-0.376999</td>\n",
              "      <td>-0.680750</td>\n",
              "      <td>0.633607</td>\n",
              "      <td>-1.066924</td>\n",
              "    </tr>\n",
              "    <tr>\n",
              "      <th>134</th>\n",
              "      <td>-1.217951</td>\n",
              "      <td>Computer</td>\n",
              "      <td>1</td>\n",
              "      <td>2.278216</td>\n",
              "      <td>CC</td>\n",
              "      <td>Male</td>\n",
              "      <td>0.098886</td>\n",
              "      <td>0.310370</td>\n",
              "      <td>Mobile</td>\n",
              "      <td>0.691796</td>\n",
              "      <td>Single</td>\n",
              "      <td>-1.265858</td>\n",
              "      <td>0</td>\n",
              "      <td>-1.313592</td>\n",
              "      <td>-0.376999</td>\n",
              "      <td>-0.680750</td>\n",
              "      <td>-0.182098</td>\n",
              "      <td>-0.871369</td>\n",
              "    </tr>\n",
              "    <tr>\n",
              "      <th>1508</th>\n",
              "      <td>2.356730</td>\n",
              "      <td>Mobile Phone</td>\n",
              "      <td>1</td>\n",
              "      <td>1.692060</td>\n",
              "      <td>Debit Card</td>\n",
              "      <td>Male</td>\n",
              "      <td>-1.331988</td>\n",
              "      <td>-2.601777</td>\n",
              "      <td>Fashion</td>\n",
              "      <td>-1.481300</td>\n",
              "      <td>Married</td>\n",
              "      <td>-0.089664</td>\n",
              "      <td>1</td>\n",
              "      <td>0.082700</td>\n",
              "      <td>-0.376999</td>\n",
              "      <td>-0.680750</td>\n",
              "      <td>-0.182098</td>\n",
              "      <td>0.336413</td>\n",
              "    </tr>\n",
              "    <tr>\n",
              "      <th>596</th>\n",
              "      <td>1.522638</td>\n",
              "      <td>Mobile Phone</td>\n",
              "      <td>1</td>\n",
              "      <td>1.692060</td>\n",
              "      <td>Debit Card</td>\n",
              "      <td>Male</td>\n",
              "      <td>0.098886</td>\n",
              "      <td>-0.660345</td>\n",
              "      <td>Grocery</td>\n",
              "      <td>-0.032569</td>\n",
              "      <td>Divorced</td>\n",
              "      <td>-0.089664</td>\n",
              "      <td>1</td>\n",
              "      <td>0.641217</td>\n",
              "      <td>-0.906975</td>\n",
              "      <td>-0.332843</td>\n",
              "      <td>0.089804</td>\n",
              "      <td>1.255219</td>\n",
              "    </tr>\n",
              "    <tr>\n",
              "      <th>5163</th>\n",
              "      <td>-1.098795</td>\n",
              "      <td>Mobile Phone</td>\n",
              "      <td>1</td>\n",
              "      <td>-0.887027</td>\n",
              "      <td>COD</td>\n",
              "      <td>Male</td>\n",
              "      <td>0.098886</td>\n",
              "      <td>0.310370</td>\n",
              "      <td>Mobile Phone</td>\n",
              "      <td>-1.481300</td>\n",
              "      <td>Married</td>\n",
              "      <td>0.694464</td>\n",
              "      <td>0</td>\n",
              "      <td>-1.034334</td>\n",
              "      <td>-0.376999</td>\n",
              "      <td>-0.332843</td>\n",
              "      <td>-0.453999</td>\n",
              "      <td>-0.415411</td>\n",
              "    </tr>\n",
              "    <tr>\n",
              "      <th>545</th>\n",
              "      <td>-1.217951</td>\n",
              "      <td>Phone</td>\n",
              "      <td>1</td>\n",
              "      <td>-0.183639</td>\n",
              "      <td>Debit Card</td>\n",
              "      <td>Female</td>\n",
              "      <td>0.098886</td>\n",
              "      <td>-0.660345</td>\n",
              "      <td>Mobile</td>\n",
              "      <td>-0.032569</td>\n",
              "      <td>Single</td>\n",
              "      <td>-0.873793</td>\n",
              "      <td>0</td>\n",
              "      <td>0.920476</td>\n",
              "      <td>-0.376999</td>\n",
              "      <td>-0.680750</td>\n",
              "      <td>-1.269704</td>\n",
              "      <td>-1.106643</td>\n",
              "    </tr>\n",
              "    <tr>\n",
              "      <th>4907</th>\n",
              "      <td>0.211921</td>\n",
              "      <td>Mobile Phone</td>\n",
              "      <td>3</td>\n",
              "      <td>-0.652564</td>\n",
              "      <td>Debit Card</td>\n",
              "      <td>Male</td>\n",
              "      <td>0.098886</td>\n",
              "      <td>0.310370</td>\n",
              "      <td>Laptop &amp; Accessory</td>\n",
              "      <td>-1.481300</td>\n",
              "      <td>Single</td>\n",
              "      <td>2.262722</td>\n",
              "      <td>1</td>\n",
              "      <td>-0.755075</td>\n",
              "      <td>0.152977</td>\n",
              "      <td>-0.332843</td>\n",
              "      <td>-0.997803</td>\n",
              "      <td>0.320607</td>\n",
              "    </tr>\n",
              "    <tr>\n",
              "      <th>2905</th>\n",
              "      <td>0.569389</td>\n",
              "      <td>Mobile Phone</td>\n",
              "      <td>3</td>\n",
              "      <td>-0.300871</td>\n",
              "      <td>Debit Card</td>\n",
              "      <td>Female</td>\n",
              "      <td>1.529761</td>\n",
              "      <td>0.310370</td>\n",
              "      <td>Fashion</td>\n",
              "      <td>-0.756935</td>\n",
              "      <td>Single</td>\n",
              "      <td>0.302400</td>\n",
              "      <td>1</td>\n",
              "      <td>0.920476</td>\n",
              "      <td>-0.376999</td>\n",
              "      <td>-0.332843</td>\n",
              "      <td>-0.997803</td>\n",
              "      <td>1.684428</td>\n",
              "    </tr>\n",
              "    <tr>\n",
              "      <th>906</th>\n",
              "      <td>-0.145547</td>\n",
              "      <td>Mobile Phone</td>\n",
              "      <td>3</td>\n",
              "      <td>-0.066408</td>\n",
              "      <td>E wallet</td>\n",
              "      <td>Male</td>\n",
              "      <td>-1.331988</td>\n",
              "      <td>-0.660345</td>\n",
              "      <td>Fashion</td>\n",
              "      <td>-1.481300</td>\n",
              "      <td>Married</td>\n",
              "      <td>0.302400</td>\n",
              "      <td>0</td>\n",
              "      <td>-1.313592</td>\n",
              "      <td>-0.906975</td>\n",
              "      <td>0.362970</td>\n",
              "      <td>-0.453999</td>\n",
              "      <td>0.469553</td>\n",
              "    </tr>\n",
              "    <tr>\n",
              "      <th>3876</th>\n",
              "      <td>-1.098795</td>\n",
              "      <td>Computer</td>\n",
              "      <td>3</td>\n",
              "      <td>0.402517</td>\n",
              "      <td>UPI</td>\n",
              "      <td>Male</td>\n",
              "      <td>0.098886</td>\n",
              "      <td>0.310370</td>\n",
              "      <td>Laptop &amp; Accessory</td>\n",
              "      <td>-1.481300</td>\n",
              "      <td>Single</td>\n",
              "      <td>0.302400</td>\n",
              "      <td>1</td>\n",
              "      <td>2.596026</td>\n",
              "      <td>1.212928</td>\n",
              "      <td>1.406690</td>\n",
              "      <td>0.905509</td>\n",
              "      <td>-0.141430</td>\n",
              "    </tr>\n",
              "  </tbody>\n",
              "</table>\n",
              "</div>\n",
              "      <button class=\"colab-df-convert\" onclick=\"convertToInteractive('df-929b3f09-c2b5-41db-9ba8-54085babce83')\"\n",
              "              title=\"Convert this dataframe to an interactive table.\"\n",
              "              style=\"display:none;\">\n",
              "        \n",
              "  <svg xmlns=\"http://www.w3.org/2000/svg\" height=\"24px\"viewBox=\"0 0 24 24\"\n",
              "       width=\"24px\">\n",
              "    <path d=\"M0 0h24v24H0V0z\" fill=\"none\"/>\n",
              "    <path d=\"M18.56 5.44l.94 2.06.94-2.06 2.06-.94-2.06-.94-.94-2.06-.94 2.06-2.06.94zm-11 1L8.5 8.5l.94-2.06 2.06-.94-2.06-.94L8.5 2.5l-.94 2.06-2.06.94zm10 10l.94 2.06.94-2.06 2.06-.94-2.06-.94-.94-2.06-.94 2.06-2.06.94z\"/><path d=\"M17.41 7.96l-1.37-1.37c-.4-.4-.92-.59-1.43-.59-.52 0-1.04.2-1.43.59L10.3 9.45l-7.72 7.72c-.78.78-.78 2.05 0 2.83L4 21.41c.39.39.9.59 1.41.59.51 0 1.02-.2 1.41-.59l7.78-7.78 2.81-2.81c.8-.78.8-2.07 0-2.86zM5.41 20L4 18.59l7.72-7.72 1.47 1.35L5.41 20z\"/>\n",
              "  </svg>\n",
              "      </button>\n",
              "      \n",
              "  <style>\n",
              "    .colab-df-container {\n",
              "      display:flex;\n",
              "      flex-wrap:wrap;\n",
              "      gap: 12px;\n",
              "    }\n",
              "\n",
              "    .colab-df-convert {\n",
              "      background-color: #E8F0FE;\n",
              "      border: none;\n",
              "      border-radius: 50%;\n",
              "      cursor: pointer;\n",
              "      display: none;\n",
              "      fill: #1967D2;\n",
              "      height: 32px;\n",
              "      padding: 0 0 0 0;\n",
              "      width: 32px;\n",
              "    }\n",
              "\n",
              "    .colab-df-convert:hover {\n",
              "      background-color: #E2EBFA;\n",
              "      box-shadow: 0px 1px 2px rgba(60, 64, 67, 0.3), 0px 1px 3px 1px rgba(60, 64, 67, 0.15);\n",
              "      fill: #174EA6;\n",
              "    }\n",
              "\n",
              "    [theme=dark] .colab-df-convert {\n",
              "      background-color: #3B4455;\n",
              "      fill: #D2E3FC;\n",
              "    }\n",
              "\n",
              "    [theme=dark] .colab-df-convert:hover {\n",
              "      background-color: #434B5C;\n",
              "      box-shadow: 0px 1px 3px 1px rgba(0, 0, 0, 0.15);\n",
              "      filter: drop-shadow(0px 1px 2px rgba(0, 0, 0, 0.3));\n",
              "      fill: #FFFFFF;\n",
              "    }\n",
              "  </style>\n",
              "\n",
              "      <script>\n",
              "        const buttonEl =\n",
              "          document.querySelector('#df-929b3f09-c2b5-41db-9ba8-54085babce83 button.colab-df-convert');\n",
              "        buttonEl.style.display =\n",
              "          google.colab.kernel.accessAllowed ? 'block' : 'none';\n",
              "\n",
              "        async function convertToInteractive(key) {\n",
              "          const element = document.querySelector('#df-929b3f09-c2b5-41db-9ba8-54085babce83');\n",
              "          const dataTable =\n",
              "            await google.colab.kernel.invokeFunction('convertToInteractive',\n",
              "                                                     [key], {});\n",
              "          if (!dataTable) return;\n",
              "\n",
              "          const docLinkHtml = 'Like what you see? Visit the ' +\n",
              "            '<a target=\"_blank\" href=https://colab.research.google.com/notebooks/data_table.ipynb>data table notebook</a>'\n",
              "            + ' to learn more about interactive tables.';\n",
              "          element.innerHTML = '';\n",
              "          dataTable['output_type'] = 'display_data';\n",
              "          await google.colab.output.renderOutput(dataTable, element);\n",
              "          const docLink = document.createElement('div');\n",
              "          docLink.innerHTML = docLinkHtml;\n",
              "          element.appendChild(docLink);\n",
              "        }\n",
              "      </script>\n",
              "    </div>\n",
              "  </div>\n",
              "  "
            ]
          },
          "metadata": {},
          "execution_count": 318
        }
      ]
    },
    {
      "cell_type": "code",
      "source": [
        "print(train_df.shape, cv_df.shape, test_df.shape)"
      ],
      "metadata": {
        "colab": {
          "base_uri": "https://localhost:8080/"
        },
        "id": "5NAQPrNUD3tr",
        "outputId": "a43c0fea-1d92-4df3-e6c4-0246a09d9ba0"
      },
      "execution_count": null,
      "outputs": [
        {
          "output_type": "stream",
          "name": "stdout",
          "text": [
            "(3603, 18) (901, 18) (1126, 18)\n"
          ]
        }
      ]
    },
    {
      "cell_type": "markdown",
      "source": [
        "**6.7.2) One-Hot encoding**"
      ],
      "metadata": {
        "id": "_4HqLxc9DA8-"
      }
    },
    {
      "cell_type": "code",
      "source": [
        "categorical_features = categorical_features[1:]"
      ],
      "metadata": {
        "id": "WX7Ehn03EFdV"
      },
      "execution_count": null,
      "outputs": []
    },
    {
      "cell_type": "code",
      "source": [
        "train_df[categorical_features].head()"
      ],
      "metadata": {
        "colab": {
          "base_uri": "https://localhost:8080/",
          "height": 206
        },
        "id": "-bkPUiDMLH-I",
        "outputId": "5f6504e6-2827-4860-c77a-8961a5c74083"
      },
      "execution_count": null,
      "outputs": [
        {
          "output_type": "execute_result",
          "data": {
            "text/plain": [
              "     PreferredLoginDevice  CityTier PreferredPaymentMode  Gender  \\\n",
              "2153                Phone         1           Debit Card  Female   \n",
              "134              Computer         1                   CC    Male   \n",
              "1508         Mobile Phone         1           Debit Card    Male   \n",
              "596          Mobile Phone         1           Debit Card    Male   \n",
              "5163         Mobile Phone         1                  COD    Male   \n",
              "\n",
              "     PreferedOrderCat MaritalStatus  Complain  \n",
              "2153           Mobile       Married         0  \n",
              "134            Mobile        Single         0  \n",
              "1508          Fashion       Married         1  \n",
              "596           Grocery      Divorced         1  \n",
              "5163     Mobile Phone       Married         0  "
            ],
            "text/html": [
              "\n",
              "  <div id=\"df-16a7c4e5-5ee9-4c41-87d5-8435943b0da9\">\n",
              "    <div class=\"colab-df-container\">\n",
              "      <div>\n",
              "<style scoped>\n",
              "    .dataframe tbody tr th:only-of-type {\n",
              "        vertical-align: middle;\n",
              "    }\n",
              "\n",
              "    .dataframe tbody tr th {\n",
              "        vertical-align: top;\n",
              "    }\n",
              "\n",
              "    .dataframe thead th {\n",
              "        text-align: right;\n",
              "    }\n",
              "</style>\n",
              "<table border=\"1\" class=\"dataframe\">\n",
              "  <thead>\n",
              "    <tr style=\"text-align: right;\">\n",
              "      <th></th>\n",
              "      <th>PreferredLoginDevice</th>\n",
              "      <th>CityTier</th>\n",
              "      <th>PreferredPaymentMode</th>\n",
              "      <th>Gender</th>\n",
              "      <th>PreferedOrderCat</th>\n",
              "      <th>MaritalStatus</th>\n",
              "      <th>Complain</th>\n",
              "    </tr>\n",
              "  </thead>\n",
              "  <tbody>\n",
              "    <tr>\n",
              "      <th>2153</th>\n",
              "      <td>Phone</td>\n",
              "      <td>1</td>\n",
              "      <td>Debit Card</td>\n",
              "      <td>Female</td>\n",
              "      <td>Mobile</td>\n",
              "      <td>Married</td>\n",
              "      <td>0</td>\n",
              "    </tr>\n",
              "    <tr>\n",
              "      <th>134</th>\n",
              "      <td>Computer</td>\n",
              "      <td>1</td>\n",
              "      <td>CC</td>\n",
              "      <td>Male</td>\n",
              "      <td>Mobile</td>\n",
              "      <td>Single</td>\n",
              "      <td>0</td>\n",
              "    </tr>\n",
              "    <tr>\n",
              "      <th>1508</th>\n",
              "      <td>Mobile Phone</td>\n",
              "      <td>1</td>\n",
              "      <td>Debit Card</td>\n",
              "      <td>Male</td>\n",
              "      <td>Fashion</td>\n",
              "      <td>Married</td>\n",
              "      <td>1</td>\n",
              "    </tr>\n",
              "    <tr>\n",
              "      <th>596</th>\n",
              "      <td>Mobile Phone</td>\n",
              "      <td>1</td>\n",
              "      <td>Debit Card</td>\n",
              "      <td>Male</td>\n",
              "      <td>Grocery</td>\n",
              "      <td>Divorced</td>\n",
              "      <td>1</td>\n",
              "    </tr>\n",
              "    <tr>\n",
              "      <th>5163</th>\n",
              "      <td>Mobile Phone</td>\n",
              "      <td>1</td>\n",
              "      <td>COD</td>\n",
              "      <td>Male</td>\n",
              "      <td>Mobile Phone</td>\n",
              "      <td>Married</td>\n",
              "      <td>0</td>\n",
              "    </tr>\n",
              "  </tbody>\n",
              "</table>\n",
              "</div>\n",
              "      <button class=\"colab-df-convert\" onclick=\"convertToInteractive('df-16a7c4e5-5ee9-4c41-87d5-8435943b0da9')\"\n",
              "              title=\"Convert this dataframe to an interactive table.\"\n",
              "              style=\"display:none;\">\n",
              "        \n",
              "  <svg xmlns=\"http://www.w3.org/2000/svg\" height=\"24px\"viewBox=\"0 0 24 24\"\n",
              "       width=\"24px\">\n",
              "    <path d=\"M0 0h24v24H0V0z\" fill=\"none\"/>\n",
              "    <path d=\"M18.56 5.44l.94 2.06.94-2.06 2.06-.94-2.06-.94-.94-2.06-.94 2.06-2.06.94zm-11 1L8.5 8.5l.94-2.06 2.06-.94-2.06-.94L8.5 2.5l-.94 2.06-2.06.94zm10 10l.94 2.06.94-2.06 2.06-.94-2.06-.94-.94-2.06-.94 2.06-2.06.94z\"/><path d=\"M17.41 7.96l-1.37-1.37c-.4-.4-.92-.59-1.43-.59-.52 0-1.04.2-1.43.59L10.3 9.45l-7.72 7.72c-.78.78-.78 2.05 0 2.83L4 21.41c.39.39.9.59 1.41.59.51 0 1.02-.2 1.41-.59l7.78-7.78 2.81-2.81c.8-.78.8-2.07 0-2.86zM5.41 20L4 18.59l7.72-7.72 1.47 1.35L5.41 20z\"/>\n",
              "  </svg>\n",
              "      </button>\n",
              "      \n",
              "  <style>\n",
              "    .colab-df-container {\n",
              "      display:flex;\n",
              "      flex-wrap:wrap;\n",
              "      gap: 12px;\n",
              "    }\n",
              "\n",
              "    .colab-df-convert {\n",
              "      background-color: #E8F0FE;\n",
              "      border: none;\n",
              "      border-radius: 50%;\n",
              "      cursor: pointer;\n",
              "      display: none;\n",
              "      fill: #1967D2;\n",
              "      height: 32px;\n",
              "      padding: 0 0 0 0;\n",
              "      width: 32px;\n",
              "    }\n",
              "\n",
              "    .colab-df-convert:hover {\n",
              "      background-color: #E2EBFA;\n",
              "      box-shadow: 0px 1px 2px rgba(60, 64, 67, 0.3), 0px 1px 3px 1px rgba(60, 64, 67, 0.15);\n",
              "      fill: #174EA6;\n",
              "    }\n",
              "\n",
              "    [theme=dark] .colab-df-convert {\n",
              "      background-color: #3B4455;\n",
              "      fill: #D2E3FC;\n",
              "    }\n",
              "\n",
              "    [theme=dark] .colab-df-convert:hover {\n",
              "      background-color: #434B5C;\n",
              "      box-shadow: 0px 1px 3px 1px rgba(0, 0, 0, 0.15);\n",
              "      filter: drop-shadow(0px 1px 2px rgba(0, 0, 0, 0.3));\n",
              "      fill: #FFFFFF;\n",
              "    }\n",
              "  </style>\n",
              "\n",
              "      <script>\n",
              "        const buttonEl =\n",
              "          document.querySelector('#df-16a7c4e5-5ee9-4c41-87d5-8435943b0da9 button.colab-df-convert');\n",
              "        buttonEl.style.display =\n",
              "          google.colab.kernel.accessAllowed ? 'block' : 'none';\n",
              "\n",
              "        async function convertToInteractive(key) {\n",
              "          const element = document.querySelector('#df-16a7c4e5-5ee9-4c41-87d5-8435943b0da9');\n",
              "          const dataTable =\n",
              "            await google.colab.kernel.invokeFunction('convertToInteractive',\n",
              "                                                     [key], {});\n",
              "          if (!dataTable) return;\n",
              "\n",
              "          const docLinkHtml = 'Like what you see? Visit the ' +\n",
              "            '<a target=\"_blank\" href=https://colab.research.google.com/notebooks/data_table.ipynb>data table notebook</a>'\n",
              "            + ' to learn more about interactive tables.';\n",
              "          element.innerHTML = '';\n",
              "          dataTable['output_type'] = 'display_data';\n",
              "          await google.colab.output.renderOutput(dataTable, element);\n",
              "          const docLink = document.createElement('div');\n",
              "          docLink.innerHTML = docLinkHtml;\n",
              "          element.appendChild(docLink);\n",
              "        }\n",
              "      </script>\n",
              "    </div>\n",
              "  </div>\n",
              "  "
            ]
          },
          "metadata": {},
          "execution_count": 352
        }
      ]
    },
    {
      "cell_type": "code",
      "source": [
        "one_hot = CountVectorizer()\n",
        "train_one_hot = one_hot.fit_transform(train_df[categorical_features])\n",
        "cv_one_hot = one_hot.transform(cv_df[categorical_features])\n",
        "test_one_hot = one_hot.transform(test_df[categorical_features])"
      ],
      "metadata": {
        "id": "nl5Oj1W2C-tO"
      },
      "execution_count": null,
      "outputs": []
    },
    {
      "cell_type": "code",
      "source": [
        "one_hot_features = one_hot.get_feature_names()"
      ],
      "metadata": {
        "id": "QT5WHm7gH0qe"
      },
      "execution_count": null,
      "outputs": []
    },
    {
      "cell_type": "code",
      "source": [
        "one_hot_train_df = pd.DataFrame.sparse.from_spmatrix(train_one_hot, columns=one_hot_features)\n",
        "one_hot_cv_df = pd.DataFrame.sparse.from_spmatrix(cv_one_hot, columns=one_hot_features)\n",
        "one_hot_test_df = pd.DataFrame.sparse.from_spmatrix(test_one_hot, columns=one_hot_features)"
      ],
      "metadata": {
        "id": "oeKAB3fwKjWe"
      },
      "execution_count": null,
      "outputs": []
    },
    {
      "cell_type": "code",
      "source": [
        "one_hot_train_df.head(10)"
      ],
      "metadata": {
        "colab": {
          "base_uri": "https://localhost:8080/",
          "height": 269
        },
        "id": "LPzWVYHoK10a",
        "outputId": "709f0d8e-b55c-4ffc-b2aa-2671341e90b6"
      },
      "execution_count": null,
      "outputs": [
        {
          "output_type": "execute_result",
          "data": {
            "text/plain": [
              "   citytier  complain  gender  maritalstatus  preferedordercat  \\\n",
              "0         0         0       0              0                 0   \n",
              "1         1         0       0              0                 0   \n",
              "2         0         0       0              0                 0   \n",
              "3         0         0       1              0                 0   \n",
              "4         0         0       0              0                 1   \n",
              "5         0         0       0              1                 0   \n",
              "6         0         1       0              0                 0   \n",
              "\n",
              "   preferredlogindevice  preferredpaymentmode  \n",
              "0                     1                     0  \n",
              "1                     0                     0  \n",
              "2                     0                     1  \n",
              "3                     0                     0  \n",
              "4                     0                     0  \n",
              "5                     0                     0  \n",
              "6                     0                     0  "
            ],
            "text/html": [
              "\n",
              "  <div id=\"df-48a7ff39-2b02-48fe-bfcc-46af6bde5269\">\n",
              "    <div class=\"colab-df-container\">\n",
              "      <div>\n",
              "<style scoped>\n",
              "    .dataframe tbody tr th:only-of-type {\n",
              "        vertical-align: middle;\n",
              "    }\n",
              "\n",
              "    .dataframe tbody tr th {\n",
              "        vertical-align: top;\n",
              "    }\n",
              "\n",
              "    .dataframe thead th {\n",
              "        text-align: right;\n",
              "    }\n",
              "</style>\n",
              "<table border=\"1\" class=\"dataframe\">\n",
              "  <thead>\n",
              "    <tr style=\"text-align: right;\">\n",
              "      <th></th>\n",
              "      <th>citytier</th>\n",
              "      <th>complain</th>\n",
              "      <th>gender</th>\n",
              "      <th>maritalstatus</th>\n",
              "      <th>preferedordercat</th>\n",
              "      <th>preferredlogindevice</th>\n",
              "      <th>preferredpaymentmode</th>\n",
              "    </tr>\n",
              "  </thead>\n",
              "  <tbody>\n",
              "    <tr>\n",
              "      <th>0</th>\n",
              "      <td>0</td>\n",
              "      <td>0</td>\n",
              "      <td>0</td>\n",
              "      <td>0</td>\n",
              "      <td>0</td>\n",
              "      <td>1</td>\n",
              "      <td>0</td>\n",
              "    </tr>\n",
              "    <tr>\n",
              "      <th>1</th>\n",
              "      <td>1</td>\n",
              "      <td>0</td>\n",
              "      <td>0</td>\n",
              "      <td>0</td>\n",
              "      <td>0</td>\n",
              "      <td>0</td>\n",
              "      <td>0</td>\n",
              "    </tr>\n",
              "    <tr>\n",
              "      <th>2</th>\n",
              "      <td>0</td>\n",
              "      <td>0</td>\n",
              "      <td>0</td>\n",
              "      <td>0</td>\n",
              "      <td>0</td>\n",
              "      <td>0</td>\n",
              "      <td>1</td>\n",
              "    </tr>\n",
              "    <tr>\n",
              "      <th>3</th>\n",
              "      <td>0</td>\n",
              "      <td>0</td>\n",
              "      <td>1</td>\n",
              "      <td>0</td>\n",
              "      <td>0</td>\n",
              "      <td>0</td>\n",
              "      <td>0</td>\n",
              "    </tr>\n",
              "    <tr>\n",
              "      <th>4</th>\n",
              "      <td>0</td>\n",
              "      <td>0</td>\n",
              "      <td>0</td>\n",
              "      <td>0</td>\n",
              "      <td>1</td>\n",
              "      <td>0</td>\n",
              "      <td>0</td>\n",
              "    </tr>\n",
              "    <tr>\n",
              "      <th>5</th>\n",
              "      <td>0</td>\n",
              "      <td>0</td>\n",
              "      <td>0</td>\n",
              "      <td>1</td>\n",
              "      <td>0</td>\n",
              "      <td>0</td>\n",
              "      <td>0</td>\n",
              "    </tr>\n",
              "    <tr>\n",
              "      <th>6</th>\n",
              "      <td>0</td>\n",
              "      <td>1</td>\n",
              "      <td>0</td>\n",
              "      <td>0</td>\n",
              "      <td>0</td>\n",
              "      <td>0</td>\n",
              "      <td>0</td>\n",
              "    </tr>\n",
              "  </tbody>\n",
              "</table>\n",
              "</div>\n",
              "      <button class=\"colab-df-convert\" onclick=\"convertToInteractive('df-48a7ff39-2b02-48fe-bfcc-46af6bde5269')\"\n",
              "              title=\"Convert this dataframe to an interactive table.\"\n",
              "              style=\"display:none;\">\n",
              "        \n",
              "  <svg xmlns=\"http://www.w3.org/2000/svg\" height=\"24px\"viewBox=\"0 0 24 24\"\n",
              "       width=\"24px\">\n",
              "    <path d=\"M0 0h24v24H0V0z\" fill=\"none\"/>\n",
              "    <path d=\"M18.56 5.44l.94 2.06.94-2.06 2.06-.94-2.06-.94-.94-2.06-.94 2.06-2.06.94zm-11 1L8.5 8.5l.94-2.06 2.06-.94-2.06-.94L8.5 2.5l-.94 2.06-2.06.94zm10 10l.94 2.06.94-2.06 2.06-.94-2.06-.94-.94-2.06-.94 2.06-2.06.94z\"/><path d=\"M17.41 7.96l-1.37-1.37c-.4-.4-.92-.59-1.43-.59-.52 0-1.04.2-1.43.59L10.3 9.45l-7.72 7.72c-.78.78-.78 2.05 0 2.83L4 21.41c.39.39.9.59 1.41.59.51 0 1.02-.2 1.41-.59l7.78-7.78 2.81-2.81c.8-.78.8-2.07 0-2.86zM5.41 20L4 18.59l7.72-7.72 1.47 1.35L5.41 20z\"/>\n",
              "  </svg>\n",
              "      </button>\n",
              "      \n",
              "  <style>\n",
              "    .colab-df-container {\n",
              "      display:flex;\n",
              "      flex-wrap:wrap;\n",
              "      gap: 12px;\n",
              "    }\n",
              "\n",
              "    .colab-df-convert {\n",
              "      background-color: #E8F0FE;\n",
              "      border: none;\n",
              "      border-radius: 50%;\n",
              "      cursor: pointer;\n",
              "      display: none;\n",
              "      fill: #1967D2;\n",
              "      height: 32px;\n",
              "      padding: 0 0 0 0;\n",
              "      width: 32px;\n",
              "    }\n",
              "\n",
              "    .colab-df-convert:hover {\n",
              "      background-color: #E2EBFA;\n",
              "      box-shadow: 0px 1px 2px rgba(60, 64, 67, 0.3), 0px 1px 3px 1px rgba(60, 64, 67, 0.15);\n",
              "      fill: #174EA6;\n",
              "    }\n",
              "\n",
              "    [theme=dark] .colab-df-convert {\n",
              "      background-color: #3B4455;\n",
              "      fill: #D2E3FC;\n",
              "    }\n",
              "\n",
              "    [theme=dark] .colab-df-convert:hover {\n",
              "      background-color: #434B5C;\n",
              "      box-shadow: 0px 1px 3px 1px rgba(0, 0, 0, 0.15);\n",
              "      filter: drop-shadow(0px 1px 2px rgba(0, 0, 0, 0.3));\n",
              "      fill: #FFFFFF;\n",
              "    }\n",
              "  </style>\n",
              "\n",
              "      <script>\n",
              "        const buttonEl =\n",
              "          document.querySelector('#df-48a7ff39-2b02-48fe-bfcc-46af6bde5269 button.colab-df-convert');\n",
              "        buttonEl.style.display =\n",
              "          google.colab.kernel.accessAllowed ? 'block' : 'none';\n",
              "\n",
              "        async function convertToInteractive(key) {\n",
              "          const element = document.querySelector('#df-48a7ff39-2b02-48fe-bfcc-46af6bde5269');\n",
              "          const dataTable =\n",
              "            await google.colab.kernel.invokeFunction('convertToInteractive',\n",
              "                                                     [key], {});\n",
              "          if (!dataTable) return;\n",
              "\n",
              "          const docLinkHtml = 'Like what you see? Visit the ' +\n",
              "            '<a target=\"_blank\" href=https://colab.research.google.com/notebooks/data_table.ipynb>data table notebook</a>'\n",
              "            + ' to learn more about interactive tables.';\n",
              "          element.innerHTML = '';\n",
              "          dataTable['output_type'] = 'display_data';\n",
              "          await google.colab.output.renderOutput(dataTable, element);\n",
              "          const docLink = document.createElement('div');\n",
              "          docLink.innerHTML = docLinkHtml;\n",
              "          element.appendChild(docLink);\n",
              "        }\n",
              "      </script>\n",
              "    </div>\n",
              "  </div>\n",
              "  "
            ]
          },
          "metadata": {},
          "execution_count": 357
        }
      ]
    }
  ]
}